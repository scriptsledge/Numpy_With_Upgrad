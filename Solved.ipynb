{
 "cells": [
  {
   "cell_type": "markdown",
   "metadata": {
    "id": "RQiU9w7CHB7k"
   },
   "source": [
    "# NumPy\n",
    "In this session, we will learn about the basics of NumPy, which is the fundamental package for mathematical computing in Python. **NumPy** stands for **Numerical Python**. The primary use of NumPy is for efficient data handling and manipualation.\n",
    "\n",
    "To access `numpy` and its functions import it in your Python code like this: `import numpy as np`."
   ]
  },
  {
   "cell_type": "code",
   "execution_count": 8,
   "metadata": {
    "id": "IS7aa_rkKqgz"
   },
   "outputs": [],
   "source": [
    "import numpy as np"
   ]
  },
  {
   "cell_type": "markdown",
   "metadata": {
    "id": "nvxmgaDCNLg_"
   },
   "source": [
    "# NumPy arrays\n",
    "Arrays are the main ways of storing data when using the `numpy` library. We create these arrays using the `array` method that instantiates an object of the `ndarray` class."
   ]
  },
  {
   "cell_type": "markdown",
   "metadata": {
    "id": "3GjNTaOwPSLK"
   },
   "source": [
    "### Example 1\n",
    "Creating empty arrays"
   ]
  },
  {
   "cell_type": "code",
   "execution_count": 9,
   "metadata": {
    "id": "1QTyOzbAPU0L"
   },
   "outputs": [],
   "source": [
    "# np_arr = np.array()"
   ]
  },
  {
   "cell_type": "code",
   "execution_count": 10,
   "metadata": {
    "id": "qXmYIkfYPgki"
   },
   "outputs": [],
   "source": [
    "np_arr = np.array(object = None)"
   ]
  },
  {
   "cell_type": "code",
   "execution_count": 11,
   "metadata": {
    "id": "SBy1uF5ES2fW"
   },
   "outputs": [
    {
     "data": {
      "text/plain": [
       "array(None, dtype=object)"
      ]
     },
     "execution_count": 11,
     "metadata": {},
     "output_type": "execute_result"
    }
   ],
   "source": [
    "np_arr"
   ]
  },
  {
   "cell_type": "code",
   "execution_count": 12,
   "metadata": {
    "id": "7LszCZFdPXmS"
   },
   "outputs": [
    {
     "data": {
      "text/plain": [
       "numpy.ndarray"
      ]
     },
     "execution_count": 12,
     "metadata": {},
     "output_type": "execute_result"
    }
   ],
   "source": [
    "type(np_arr)"
   ]
  },
  {
   "cell_type": "code",
   "execution_count": 13,
   "metadata": {
    "id": "97wRWQBlPbiX"
   },
   "outputs": [
    {
     "name": "stdout",
     "output_type": "stream",
     "text": [
      "None\n"
     ]
    }
   ],
   "source": [
    "print(np_arr)"
   ]
  },
  {
   "cell_type": "code",
   "execution_count": 14,
   "metadata": {
    "id": "deMHtX5kS2fY"
   },
   "outputs": [],
   "source": [
    "# len(np_arr)"
   ]
  },
  {
   "cell_type": "code",
   "execution_count": 15,
   "metadata": {
    "id": "HbQ_iyp4Qi0A"
   },
   "outputs": [
    {
     "data": {
      "text/plain": [
       "array([], dtype=float64)"
      ]
     },
     "execution_count": 15,
     "metadata": {},
     "output_type": "execute_result"
    }
   ],
   "source": [
    "np_arr = np.array([])\n",
    "np_arr"
   ]
  },
  {
   "cell_type": "code",
   "execution_count": 16,
   "metadata": {
    "id": "ypfAAarfQnB-"
   },
   "outputs": [
    {
     "data": {
      "text/plain": [
       "numpy.ndarray"
      ]
     },
     "execution_count": 16,
     "metadata": {},
     "output_type": "execute_result"
    }
   ],
   "source": [
    "type(np_arr)"
   ]
  },
  {
   "cell_type": "code",
   "execution_count": 17,
   "metadata": {
    "id": "bT6nET7lQqOE"
   },
   "outputs": [
    {
     "name": "stdout",
     "output_type": "stream",
     "text": [
      "[]\n"
     ]
    }
   ],
   "source": [
    "print(np_arr)"
   ]
  },
  {
   "cell_type": "code",
   "execution_count": 18,
   "metadata": {
    "id": "8f8D84jNS2fb"
   },
   "outputs": [
    {
     "data": {
      "text/plain": [
       "0"
      ]
     },
     "execution_count": 18,
     "metadata": {},
     "output_type": "execute_result"
    }
   ],
   "source": [
    "len(np_arr)"
   ]
  },
  {
   "cell_type": "markdown",
   "metadata": {
    "id": "mcI3R9vyS2fc"
   },
   "source": [
    "Try exploring the `empty` method to learn more about creating blank arrays. Take the help of a language AI model if required."
   ]
  },
  {
   "cell_type": "code",
   "execution_count": 19,
   "metadata": {},
   "outputs": [
    {
     "data": {
      "text/plain": [
       "array([[7.81760545e-312, 3.16202013e-322, 0.00000000e+000,\n",
       "        0.00000000e+000],\n",
       "       [2.59027810e-144, 3.34872597e-033, 4.23027186e+175,\n",
       "        2.44184379e-052],\n",
       "       [1.69136850e-052, 3.57595130e-061, 6.11851926e+169,\n",
       "        9.51507282e+169]])"
      ]
     },
     "execution_count": 19,
     "metadata": {},
     "output_type": "execute_result"
    }
   ],
   "source": [
    "empythArray = np.empty((3,4))\n",
    "empythArray"
   ]
  },
  {
   "cell_type": "markdown",
   "metadata": {},
   "source": [
    "(3, 4) represents the shape of the array<br>The values will be whatever happens to already be at that memory location"
   ]
  },
  {
   "cell_type": "markdown",
   "metadata": {
    "id": "_DVKAQHuRg4y"
   },
   "source": [
    "### Example 2\n",
    "Creating arrays from lists"
   ]
  },
  {
   "cell_type": "code",
   "execution_count": 20,
   "metadata": {
    "id": "cpwkYSONHMCG"
   },
   "outputs": [
    {
     "data": {
      "text/plain": [
       "[1, 4, 5, 6]"
      ]
     },
     "execution_count": 20,
     "metadata": {},
     "output_type": "execute_result"
    }
   ],
   "source": [
    "some_list = [1, 4, 5, 6]\n",
    "some_list"
   ]
  },
  {
   "cell_type": "code",
   "execution_count": 21,
   "metadata": {
    "id": "l7u90sBlRvlb"
   },
   "outputs": [
    {
     "data": {
      "text/plain": [
       "list"
      ]
     },
     "execution_count": 21,
     "metadata": {},
     "output_type": "execute_result"
    }
   ],
   "source": [
    "type(some_list)"
   ]
  },
  {
   "cell_type": "code",
   "execution_count": 22,
   "metadata": {
    "id": "fn7iyzerRqqn"
   },
   "outputs": [
    {
     "data": {
      "text/plain": [
       "array([1, 4, 5, 6])"
      ]
     },
     "execution_count": 22,
     "metadata": {},
     "output_type": "execute_result"
    }
   ],
   "source": [
    "np_arr = np.array(object = some_list)\n",
    "np_arr"
   ]
  },
  {
   "cell_type": "code",
   "execution_count": 23,
   "metadata": {
    "id": "ooSJIO3NP2CF"
   },
   "outputs": [
    {
     "data": {
      "text/plain": [
       "numpy.ndarray"
      ]
     },
     "execution_count": 23,
     "metadata": {},
     "output_type": "execute_result"
    }
   ],
   "source": [
    "type(np_arr)"
   ]
  },
  {
   "cell_type": "code",
   "execution_count": 24,
   "metadata": {
    "id": "kBnlOW-tS2fe"
   },
   "outputs": [
    {
     "data": {
      "text/plain": [
       "dtype('int64')"
      ]
     },
     "execution_count": 24,
     "metadata": {},
     "output_type": "execute_result"
    }
   ],
   "source": [
    "np_arr.dtype"
   ]
  },
  {
   "cell_type": "code",
   "execution_count": 25,
   "metadata": {
    "id": "GN4B46iNP8vy"
   },
   "outputs": [
    {
     "data": {
      "text/plain": [
       "array(['apple', 'orange', 'banana', 'watermelon', 'jackfruit'],\n",
       "      dtype='<U10')"
      ]
     },
     "execution_count": 25,
     "metadata": {},
     "output_type": "execute_result"
    }
   ],
   "source": [
    "np_arr = np.array(['apple', 'orange', 'banana', 'watermelon', 'jackfruit'])\n",
    "np_arr"
   ]
  },
  {
   "cell_type": "code",
   "execution_count": 26,
   "metadata": {
    "id": "Zmme70I_P72_"
   },
   "outputs": [
    {
     "data": {
      "text/plain": [
       "numpy.ndarray"
      ]
     },
     "execution_count": 26,
     "metadata": {},
     "output_type": "execute_result"
    }
   ],
   "source": [
    "type(np_arr)"
   ]
  },
  {
   "cell_type": "code",
   "execution_count": 27,
   "metadata": {
    "id": "1bqIfl6QS2ff"
   },
   "outputs": [
    {
     "data": {
      "text/plain": [
       "dtype('<U10')"
      ]
     },
     "execution_count": 27,
     "metadata": {},
     "output_type": "execute_result"
    }
   ],
   "source": [
    "np_arr.dtype"
   ]
  },
  {
   "cell_type": "code",
   "execution_count": 28,
   "metadata": {
    "id": "X3CoyFFDS2ff"
   },
   "outputs": [
    {
     "data": {
      "text/plain": [
       "array([1, 2, 3])"
      ]
     },
     "execution_count": 28,
     "metadata": {},
     "output_type": "execute_result"
    }
   ],
   "source": [
    "np_arr = np.array(object = [1, 2, 3], dtype = 'int')\n",
    "np_arr"
   ]
  },
  {
   "cell_type": "code",
   "execution_count": 29,
   "metadata": {
    "id": "fXXXy8hPS2fg"
   },
   "outputs": [
    {
     "data": {
      "text/plain": [
       "array([1., 2., 3.])"
      ]
     },
     "execution_count": 29,
     "metadata": {},
     "output_type": "execute_result"
    }
   ],
   "source": [
    "np_arr = np.array(object = [1, 2, 3], dtype = 'float')\n",
    "np_arr"
   ]
  },
  {
   "cell_type": "code",
   "execution_count": 30,
   "metadata": {
    "id": "VV0w9a08S2fg"
   },
   "outputs": [
    {
     "data": {
      "text/plain": [
       "array([-1. ,  5.5,  2. ,  3.5])"
      ]
     },
     "execution_count": 30,
     "metadata": {},
     "output_type": "execute_result"
    }
   ],
   "source": [
    "np_arr = np.array([-1, 5.5, 2, 3.5])\n",
    "np_arr"
   ]
  },
  {
   "cell_type": "markdown",
   "metadata": {
    "id": "tbHUqqgFS2fh"
   },
   "source": [
    "Note that the integers have been converted to floats. Arrays cannot be of composite data types."
   ]
  },
  {
   "cell_type": "code",
   "execution_count": 31,
   "metadata": {
    "id": "UR-22PCcQ8WQ"
   },
   "outputs": [
    {
     "data": {
      "text/plain": [
       "array(['apple', '2', 'banana', '4.5'], dtype='<U32')"
      ]
     },
     "execution_count": 31,
     "metadata": {},
     "output_type": "execute_result"
    }
   ],
   "source": [
    "np_arr = np.array(['apple', 2, 'banana', 4.5])\n",
    "np_arr"
   ]
  },
  {
   "cell_type": "markdown",
   "metadata": {
    "id": "yAhopFXVS2fh"
   },
   "source": [
    "Note that the numbers have been converted to strings. Arrays cannot be of composite data types."
   ]
  },
  {
   "cell_type": "markdown",
   "metadata": {
    "id": "S4RcKgPgS2fi"
   },
   "source": [
    "Try querying a language AI model to learn more about array data type restrictions."
   ]
  },
  {
   "cell_type": "markdown",
   "metadata": {
    "id": "NGrRnPS7SGcE"
   },
   "source": [
    "### Example 3\n",
    "Creating arrays from tuples"
   ]
  },
  {
   "cell_type": "code",
   "execution_count": 32,
   "metadata": {
    "id": "jDk5UY7YSMVy"
   },
   "outputs": [
    {
     "name": "stdout",
     "output_type": "stream",
     "text": [
      "(-5, 1, -4, 7, 2) <class 'tuple'>\n"
     ]
    }
   ],
   "source": [
    "some_tuple = (-5, 1, -4, 7, 2)\n",
    "print(some_tuple, type(some_tuple))"
   ]
  },
  {
   "cell_type": "code",
   "execution_count": 33,
   "metadata": {
    "id": "AolGgDUaSMSh"
   },
   "outputs": [
    {
     "name": "stdout",
     "output_type": "stream",
     "text": [
      "[-5  1 -4  7  2] <class 'numpy.ndarray'>\n"
     ]
    }
   ],
   "source": [
    "np_arr = np.array(some_tuple)\n",
    "print(np_arr, type(np_arr))"
   ]
  },
  {
   "cell_type": "markdown",
   "metadata": {
    "id": "gJ6R4ojDSzAI"
   },
   "source": [
    "### Example 4\n",
    "Creating arrays from sets"
   ]
  },
  {
   "cell_type": "code",
   "execution_count": 34,
   "metadata": {
    "id": "8Jy1MKUqS45W"
   },
   "outputs": [
    {
     "name": "stdout",
     "output_type": "stream",
     "text": [
      "{1.3, 2.8, 8.4, -6.2, -5.6} <class 'set'>\n"
     ]
    }
   ],
   "source": [
    "some_set = {1.3, -5.6, 2.8, -6.2, 8.4}\n",
    "print(some_set, type(some_set))"
   ]
  },
  {
   "cell_type": "code",
   "execution_count": 35,
   "metadata": {
    "id": "XXcYeaAES4qg"
   },
   "outputs": [
    {
     "data": {
      "text/plain": [
       "array({1.3, 2.8, 8.4, -6.2, -5.6}, dtype=object)"
      ]
     },
     "execution_count": 35,
     "metadata": {},
     "output_type": "execute_result"
    }
   ],
   "source": [
    "np_arr = np.array(some_set)\n",
    "np_arr"
   ]
  },
  {
   "cell_type": "markdown",
   "metadata": {
    "id": "uismT6plRYTY"
   },
   "source": [
    "Sets have no inherent ordering. So, it makes little sense to generate arrays from sets."
   ]
  },
  {
   "cell_type": "code",
   "execution_count": 36,
   "metadata": {
    "id": "Lzx_5N53Tifs"
   },
   "outputs": [],
   "source": [
    "# some_set[0]"
   ]
  },
  {
   "cell_type": "code",
   "execution_count": 37,
   "metadata": {
    "id": "9CnKEuYOTlBG"
   },
   "outputs": [],
   "source": [
    "# np_arr[0]"
   ]
  },
  {
   "cell_type": "markdown",
   "metadata": {
    "id": "_u9niWbjUk6p"
   },
   "source": [
    "### Example 5\n",
    "Creating arrays from lists containing elements of different data structures"
   ]
  },
  {
   "cell_type": "code",
   "execution_count": 38,
   "metadata": {
    "id": "cnUsgoy6UpnO"
   },
   "outputs": [],
   "source": [
    "mixed_list = [[2, 3, 1], 'New York', 5.6, -10, 'John']"
   ]
  },
  {
   "cell_type": "code",
   "execution_count": 39,
   "metadata": {
    "id": "0uKFtVPaUpfQ"
   },
   "outputs": [
    {
     "data": {
      "text/plain": [
       "[[2, 3, 1], 'New York', 5.6, -10, 'John']"
      ]
     },
     "execution_count": 39,
     "metadata": {},
     "output_type": "execute_result"
    }
   ],
   "source": [
    "mixed_list"
   ]
  },
  {
   "cell_type": "code",
   "execution_count": 40,
   "metadata": {
    "id": "fcTxtdYZU1m-"
   },
   "outputs": [
    {
     "data": {
      "text/plain": [
       "[2, 3, 1]"
      ]
     },
     "execution_count": 40,
     "metadata": {},
     "output_type": "execute_result"
    }
   ],
   "source": [
    "mixed_list[0]"
   ]
  },
  {
   "cell_type": "code",
   "execution_count": 41,
   "metadata": {
    "id": "th29DI_8U1f3"
   },
   "outputs": [
    {
     "data": {
      "text/plain": [
       "list"
      ]
     },
     "execution_count": 41,
     "metadata": {},
     "output_type": "execute_result"
    }
   ],
   "source": [
    "type(mixed_list[0])"
   ]
  },
  {
   "cell_type": "code",
   "execution_count": 42,
   "metadata": {
    "id": "FPgv0FppU1Y8"
   },
   "outputs": [
    {
     "data": {
      "text/plain": [
       "'New York'"
      ]
     },
     "execution_count": 42,
     "metadata": {},
     "output_type": "execute_result"
    }
   ],
   "source": [
    "mixed_list[1]"
   ]
  },
  {
   "cell_type": "code",
   "execution_count": 43,
   "metadata": {
    "id": "ABuos0IqU1Rv"
   },
   "outputs": [
    {
     "data": {
      "text/plain": [
       "str"
      ]
     },
     "execution_count": 43,
     "metadata": {},
     "output_type": "execute_result"
    }
   ],
   "source": [
    "type(mixed_list[1])"
   ]
  },
  {
   "cell_type": "code",
   "execution_count": 44,
   "metadata": {
    "id": "unpal5z9R4kL"
   },
   "outputs": [],
   "source": [
    "# np_arr = np.array(object = mixed_list)"
   ]
  },
  {
   "cell_type": "markdown",
   "metadata": {
    "id": "MteGzBavSBr9"
   },
   "source": [
    "Clearly, there's something going on with data types here."
   ]
  },
  {
   "cell_type": "code",
   "execution_count": 45,
   "metadata": {
    "id": "Dk0p-obOU1KR"
   },
   "outputs": [
    {
     "name": "stdout",
     "output_type": "stream",
     "text": [
      "[list([2, 3, 1]) 'New York' 5.6 -10 'John'] <class 'numpy.ndarray'>\n"
     ]
    }
   ],
   "source": [
    "np_arr = np.array(object = mixed_list, dtype = 'object')\n",
    "print(np_arr, type(np_arr))"
   ]
  },
  {
   "cell_type": "markdown",
   "metadata": {
    "id": "QAiGV_sEVIoE"
   },
   "source": [
    "Try querying a language AI model to learn more about the data type issues here."
   ]
  },
  {
   "cell_type": "markdown",
   "metadata": {
    "id": "5nXhITDiTKQ-"
   },
   "source": [
    "### Quiz 1\n",
    "Define a function that takes in a positive integer $n$ and returns an array of the first $n$ even numbers. Assume $0$ as the first even number."
   ]
  },
  {
   "cell_type": "code",
   "execution_count": 46,
   "metadata": {
    "id": "Xa6DPVzfWdRd"
   },
   "outputs": [
    {
     "name": "stdout",
     "output_type": "stream",
     "text": [
      "[0 2 4 6 8] <class 'numpy.ndarray'> int64\n"
     ]
    }
   ],
   "source": [
    "def nEvenArray(a):\n",
    "    arr = np.array([], dtype=int)\n",
    "    for i in range(a):\n",
    "        arr = np.append(arr, 2*i)\n",
    "    return arr\n",
    "\n",
    "arrey = nEvenArray(5)\n",
    "print(arrey, type(arrey), arrey.dtype)"
   ]
  },
  {
   "cell_type": "markdown",
   "metadata": {
    "id": "pv81DuD3X2cP"
   },
   "source": [
    "### Quiz 2 - HW\n",
    "Define a function that returns an array of $n$ random real numbers between $a$ and $b$.\n",
    "\n",
    "- Input: $a$ and $b$, real numbers\n",
    "- Output: Array containing $n$ random real numbers between $a$ and $b$\n",
    "\n",
    "You may use the `random` library to generate random numbers. You are encouraged to explore this on your own. Try using a language AI model to help you out here."
   ]
  },
  {
   "cell_type": "code",
   "execution_count": 47,
   "metadata": {
    "id": "jhR8Mv-XYXkt"
   },
   "outputs": [
    {
     "name": "stdout",
     "output_type": "stream",
     "text": [
      "[4.57647948 2.23487919 3.91349969 3.85113477 3.20444795] <class 'numpy.ndarray'> float64\n"
     ]
    }
   ],
   "source": [
    "##### CODE HERE #####\n",
    "import random as rd\n",
    "def nRanNum(n, a, b):\n",
    "    arr = np.array([], dtype = float)\n",
    "    for i in range (n):\n",
    "        rVal = rd.uniform(a, b)\n",
    "        arr = np.append(arr, rVal)\n",
    "    return arr\n",
    "\n",
    "rArr = nRanNum(5, 1, 5)\n",
    "print(rArr, type(rArr), rArr.dtype)"
   ]
  },
  {
   "cell_type": "markdown",
   "metadata": {
    "id": "bOPt_iaka4Zc"
   },
   "source": [
    "### Quiz 3 - HW\n",
    "Define a function that takes in a list and returns two arrays, one with all the numeric values and the other with all the string values in the same order as the values in the original list. Assume that the input list only contains some combination of numerical and string values. Try using a language AI model to help you out here."
   ]
  },
  {
   "cell_type": "code",
   "execution_count": 48,
   "metadata": {
    "id": "k0dm1HXJkTtY"
   },
   "outputs": [
    {
     "name": "stdout",
     "output_type": "stream",
     "text": [
      "['a' 'b' 'c' 'd'] <class 'numpy.ndarray'> <U1\n",
      "[1 2 3 4] <class 'numpy.ndarray'> int64\n"
     ]
    }
   ],
   "source": [
    "##### CODE HERE #####\n",
    "def sapArr(liist):\n",
    "    n = len(liist)\n",
    "    arrStr = np.array([], dtype=str)\n",
    "    arrInt = np.array([], dtype=int)\n",
    "    for i in range(n):\n",
    "        if type(liist[i]) == str:\n",
    "            arrStr = np.append(arrStr, liist[i])\n",
    "        else :\n",
    "            arrInt = np.append(arrInt, liist[i])\n",
    "    return arrStr, arrInt\n",
    "\n",
    "arr1, arr2 = sapArr([1,\"a\",2,\"b\",\"c\",3,4,\"d\"])\n",
    "print(arr1, type(arr1), arr1.dtype)\n",
    "print(arr2, type(arr2), arr2.dtype)"
   ]
  },
  {
   "cell_type": "markdown",
   "metadata": {
    "id": "-HyLcqaWdEb4"
   },
   "source": [
    "In this section, we looked at an introduction to NumPy arrays and how we can create them from other data structures such as lists."
   ]
  },
  {
   "cell_type": "markdown",
   "metadata": {
    "id": "UYxldePKGo65"
   },
   "source": [
    "# Multidimensional arrays\n",
    "One of NumPy's fundamental features is its ability to handle multidimensional arrays efficiently. A multidimensional array is an array with more than one dimension or axis."
   ]
  },
  {
   "cell_type": "markdown",
   "metadata": {
    "id": "6kK6mwiDufcy"
   },
   "source": [
    "### Example 1\n",
    "Creating 2D arrays"
   ]
  },
  {
   "cell_type": "code",
   "execution_count": 49,
   "metadata": {
    "id": "U4honlBZHgcI"
   },
   "outputs": [
    {
     "data": {
      "text/plain": [
       "array([[1, 2, 3],\n",
       "       [4, 5, 6]])"
      ]
     },
     "execution_count": 49,
     "metadata": {},
     "output_type": "execute_result"
    }
   ],
   "source": [
    "arr_2d = np.array([[1, 2, 3], [4, 5, 6]])\n",
    "arr_2d"
   ]
  },
  {
   "cell_type": "markdown",
   "metadata": {
    "id": "dhuIp2dcXQn3"
   },
   "source": [
    "Note that the `object` here is a list within a list, that is, a nested list with two levels."
   ]
  },
  {
   "cell_type": "markdown",
   "metadata": {
    "id": "TZgqxRh6u6vk"
   },
   "source": [
    "### Example 2\n",
    "Creating 3D arrays"
   ]
  },
  {
   "cell_type": "code",
   "execution_count": 50,
   "metadata": {
    "id": "GFJWF1I5LNna",
    "scrolled": true
   },
   "outputs": [
    {
     "data": {
      "text/plain": [
       "array([[[0, 0, 0],\n",
       "        [0, 0, 1],\n",
       "        [0, 0, 2]],\n",
       "\n",
       "       [[1, 0, 0],\n",
       "        [1, 0, 1],\n",
       "        [1, 0, 2]],\n",
       "\n",
       "       [[2, 0, 0],\n",
       "        [2, 0, 1],\n",
       "        [2, 0, 2]],\n",
       "\n",
       "       [[0, 1, 0],\n",
       "        [0, 1, 1],\n",
       "        [0, 1, 2]],\n",
       "\n",
       "       [[1, 1, 0],\n",
       "        [1, 1, 1],\n",
       "        [1, 1, 2]],\n",
       "\n",
       "       [[2, 1, 0],\n",
       "        [2, 1, 1],\n",
       "        [2, 1, 2]],\n",
       "\n",
       "       [[0, 2, 0],\n",
       "        [0, 2, 1],\n",
       "        [0, 2, 2]],\n",
       "\n",
       "       [[1, 2, 0],\n",
       "        [1, 2, 1],\n",
       "        [1, 2, 2]],\n",
       "\n",
       "       [[2, 2, 0],\n",
       "        [2, 2, 1],\n",
       "        [2, 2, 2]]])"
      ]
     },
     "execution_count": 50,
     "metadata": {},
     "output_type": "execute_result"
    }
   ],
   "source": [
    "arr_3d = np.array([[[i, j, k] for k in range(3)] for j in range(3) for i in range(3)])\n",
    "arr_3d"
   ]
  },
  {
   "cell_type": "markdown",
   "metadata": {
    "id": "o2mDViDiXxWB"
   },
   "source": [
    "Note that the `object` here is a list within a list within a list, that is, a nested list with three levels."
   ]
  },
  {
   "cell_type": "markdown",
   "metadata": {
    "id": "ygbjGKr0Ya9p"
   },
   "source": [
    "Try querying a language AI model to understand the list comprehension used here."
   ]
  },
  {
   "cell_type": "markdown",
   "metadata": {
    "id": "aVBplNGXZBNj"
   },
   "source": [
    "### Example 3\n",
    "Reading images as arrays"
   ]
  },
  {
   "cell_type": "code",
   "execution_count": 51,
   "metadata": {
    "id": "Qgco_jpfZO8W"
   },
   "outputs": [
    {
     "data": {
      "text/plain": [
       "<matplotlib.image.AxesImage at 0x17003c8d940>"
      ]
     },
     "execution_count": 51,
     "metadata": {},
     "output_type": "execute_result"
    },
    {
     "data": {
      "image/png": "[encoded data removed]",
      "text/plain": [
       "<Figure size 640x480 with 1 Axes>"
      ]
     },
     "metadata": {},
     "output_type": "display_data"
    }
   ],
   "source": [
    "import matplotlib.pyplot as plt\n",
    "img = plt.imread('image.jpg')\n",
    "plt.imshow(img)"
   ]
  },
  {
   "cell_type": "markdown",
   "metadata": {
    "id": "IuDBt1xYaPRn"
   },
   "source": [
    "This is, of course, a very low resolution image. Note that visualizations will be covered later. If you are interested in the meantime, please feel free to explore these topics on your own and take the help of language AI models as well."
   ]
  },
  {
   "cell_type": "code",
   "execution_count": 52,
   "metadata": {
    "id": "yiMYNf_mboSV",
    "scrolled": true
   },
   "outputs": [
    {
     "data": {
      "text/plain": [
       "array([[[ 0,  5, 17],\n",
       "        [ 0,  6, 18],\n",
       "        [ 0,  8, 22],\n",
       "        ...,\n",
       "        [ 2,  5, 24],\n",
       "        [ 5,  4, 20],\n",
       "        [ 3,  1, 15]],\n",
       "\n",
       "       [[ 0,  4, 16],\n",
       "        [ 0,  5, 17],\n",
       "        [ 0,  8, 22],\n",
       "        ...,\n",
       "        [ 1,  6, 25],\n",
       "        [ 5,  6, 24],\n",
       "        [ 4,  2, 16]],\n",
       "\n",
       "       [[ 0,  6, 20],\n",
       "        [ 0,  8, 22],\n",
       "        [ 0, 11, 26],\n",
       "        ...,\n",
       "        [ 4,  9, 29],\n",
       "        [ 8,  9, 29],\n",
       "        [ 7,  4, 21]],\n",
       "\n",
       "       ...,\n",
       "\n",
       "       [[ 2,  6, 17],\n",
       "        [ 2,  9, 19],\n",
       "        [ 5, 11, 23],\n",
       "        ...,\n",
       "        [11, 16, 22],\n",
       "        [13, 14, 18],\n",
       "        [ 5,  7,  6]],\n",
       "\n",
       "       [[ 1,  2,  7],\n",
       "        [ 1,  4, 11],\n",
       "        [ 3,  6, 15],\n",
       "        ...,\n",
       "        [17, 16, 21],\n",
       "        [17, 16, 14],\n",
       "        [10,  6,  3]],\n",
       "\n",
       "       [[ 6,  5, 10],\n",
       "        [ 4,  3,  8],\n",
       "        [ 4,  3,  9],\n",
       "        ...,\n",
       "        [19, 17, 18],\n",
       "        [23, 19, 16],\n",
       "        [12,  7,  3]]], shape=(25, 25, 3), dtype=uint8)"
      ]
     },
     "execution_count": 52,
     "metadata": {},
     "output_type": "execute_result"
    }
   ],
   "source": [
    "img"
   ]
  },
  {
   "cell_type": "markdown",
   "metadata": {
    "id": "uGAHyvSQaOMK"
   },
   "source": [
    "All standard images are actually multidimensional arrays in the backend."
   ]
  },
  {
   "cell_type": "code",
   "execution_count": 53,
   "metadata": {
    "id": "u6DjmyCMS2gX"
   },
   "outputs": [
    {
     "data": {
      "text/plain": [
       "  C_CONTIGUOUS : True\n",
       "  F_CONTIGUOUS : False\n",
       "  OWNDATA : False\n",
       "  WRITEABLE : False\n",
       "  ALIGNED : True\n",
       "  WRITEBACKIFCOPY : False"
      ]
     },
     "execution_count": 53,
     "metadata": {},
     "output_type": "execute_result"
    }
   ],
   "source": [
    "img.flags"
   ]
  },
  {
   "cell_type": "markdown",
   "metadata": {
    "id": "h15wiCHyS2gY"
   },
   "source": [
    "If the image is read-only, the image array will be immutable. We can copy into a new array if we want a mutable array."
   ]
  },
  {
   "cell_type": "markdown",
   "metadata": {
    "id": "yNPd3Qw7E7EI"
   },
   "source": [
    "### Quiz 1\n",
    "Consider the list `[[0.4, 1.2, 0.5, 0.8, 2.1], [2.1, 2.2, 9.4, 3.1]]`. What happens when you convert it to a NumPy array?"
   ]
  },
  {
   "cell_type": "code",
   "execution_count": 54,
   "metadata": {
    "id": "U6uZaVHePDVd"
   },
   "outputs": [],
   "source": [
    "# np.array([[0.4, 1.2, 0.5, 0.8, 2.1], [2.1, 2.2, 9.4, 3.1]])"
   ]
  },
  {
   "cell_type": "markdown",
   "metadata": {
    "id": "w-rcCz2Va_dW"
   },
   "source": [
    "### Quiz 2\n",
    "How many dimensions will you get if you convert `[[-1, 1], [0, 1]]` to a NumPy array?"
   ]
  },
  {
   "cell_type": "code",
   "execution_count": 55,
   "metadata": {
    "id": "W7YdC_GabLlY"
   },
   "outputs": [
    {
     "data": {
      "text/plain": [
       "2"
      ]
     },
     "execution_count": 55,
     "metadata": {},
     "output_type": "execute_result"
    }
   ],
   "source": [
    "##### CODE HERE #####\n",
    "np.array([[-1, 1], [0, 1]]).ndim"
   ]
  },
  {
   "cell_type": "markdown",
   "metadata": {
    "id": "7Yr_zqSQdC7z"
   },
   "source": [
    "In this section, we studied multidimensional arrays. NumPy is specifically used to handle multidimensional data because a lot of real data are generally modeled in multiple dimensions."
   ]
  },
  {
   "cell_type": "markdown",
   "metadata": {
    "id": "Svb7g43bk8Ld"
   },
   "source": [
    "# NumPy array attributes\n",
    "NumPy arrays are clearly well-structured, well-designed, and complex data structures. It is important to study and look at these data structures through the lens of their attributes."
   ]
  },
  {
   "cell_type": "markdown",
   "metadata": {
    "id": "onq-Q1C9thP3"
   },
   "source": [
    "### Example 1\n",
    "Looking at the number of dimensions or axes in arrays"
   ]
  },
  {
   "cell_type": "code",
   "execution_count": 56,
   "metadata": {
    "id": "mImdey3gqc_9"
   },
   "outputs": [
    {
     "data": {
      "text/plain": [
       "array([[ 1, -1],\n",
       "       [ 0,  1]])"
      ]
     },
     "execution_count": 56,
     "metadata": {},
     "output_type": "execute_result"
    }
   ],
   "source": [
    "np_arr = np.array([[1, -1], [0, 1]])\n",
    "np_arr"
   ]
  },
  {
   "cell_type": "code",
   "execution_count": 57,
   "metadata": {
    "id": "J_XG3YaZtrDs"
   },
   "outputs": [
    {
     "data": {
      "text/plain": [
       "2"
      ]
     },
     "execution_count": 57,
     "metadata": {},
     "output_type": "execute_result"
    }
   ],
   "source": [
    "np_arr.ndim"
   ]
  },
  {
   "cell_type": "markdown",
   "metadata": {
    "id": "tZDJSEzSqtSM"
   },
   "source": [
    "The `ndim` attribute tells you the number of dimensions in the array."
   ]
  },
  {
   "cell_type": "code",
   "execution_count": 58,
   "metadata": {
    "id": "SezZ_tyRcLB2",
    "scrolled": true
   },
   "outputs": [
    {
     "data": {
      "text/plain": [
       "array([[[ 0,  5, 17],\n",
       "        [ 0,  6, 18],\n",
       "        [ 0,  8, 22],\n",
       "        ...,\n",
       "        [ 2,  5, 24],\n",
       "        [ 5,  4, 20],\n",
       "        [ 3,  1, 15]],\n",
       "\n",
       "       [[ 0,  4, 16],\n",
       "        [ 0,  5, 17],\n",
       "        [ 0,  8, 22],\n",
       "        ...,\n",
       "        [ 1,  6, 25],\n",
       "        [ 5,  6, 24],\n",
       "        [ 4,  2, 16]],\n",
       "\n",
       "       [[ 0,  6, 20],\n",
       "        [ 0,  8, 22],\n",
       "        [ 0, 11, 26],\n",
       "        ...,\n",
       "        [ 4,  9, 29],\n",
       "        [ 8,  9, 29],\n",
       "        [ 7,  4, 21]],\n",
       "\n",
       "       ...,\n",
       "\n",
       "       [[ 2,  6, 17],\n",
       "        [ 2,  9, 19],\n",
       "        [ 5, 11, 23],\n",
       "        ...,\n",
       "        [11, 16, 22],\n",
       "        [13, 14, 18],\n",
       "        [ 5,  7,  6]],\n",
       "\n",
       "       [[ 1,  2,  7],\n",
       "        [ 1,  4, 11],\n",
       "        [ 3,  6, 15],\n",
       "        ...,\n",
       "        [17, 16, 21],\n",
       "        [17, 16, 14],\n",
       "        [10,  6,  3]],\n",
       "\n",
       "       [[ 6,  5, 10],\n",
       "        [ 4,  3,  8],\n",
       "        [ 4,  3,  9],\n",
       "        ...,\n",
       "        [19, 17, 18],\n",
       "        [23, 19, 16],\n",
       "        [12,  7,  3]]], shape=(25, 25, 3), dtype=uint8)"
      ]
     },
     "execution_count": 58,
     "metadata": {},
     "output_type": "execute_result"
    }
   ],
   "source": [
    "img"
   ]
  },
  {
   "cell_type": "code",
   "execution_count": 59,
   "metadata": {
    "id": "ZkQAtjDlcPbf"
   },
   "outputs": [
    {
     "data": {
      "text/plain": [
       "3"
      ]
     },
     "execution_count": 59,
     "metadata": {},
     "output_type": "execute_result"
    }
   ],
   "source": [
    "img.ndim"
   ]
  },
  {
   "cell_type": "code",
   "execution_count": 60,
   "metadata": {
    "id": "962kA3ivcTpV"
   },
   "outputs": [
    {
     "data": {
      "text/plain": [
       "1"
      ]
     },
     "execution_count": 60,
     "metadata": {},
     "output_type": "execute_result"
    }
   ],
   "source": [
    "np_arr = np.array([22, -19, 45, 'John', 'Dwivedi'])\n",
    "np_arr.ndim"
   ]
  },
  {
   "cell_type": "markdown",
   "metadata": {
    "id": "F5qIL7aHtKoP"
   },
   "source": [
    "### Example 2\n",
    "Looking at the shape of arrays"
   ]
  },
  {
   "cell_type": "code",
   "execution_count": 61,
   "metadata": {
    "id": "OjAnkukppdfT"
   },
   "outputs": [
    {
     "data": {
      "text/plain": [
       "array([['apple', 'banana', 'mango'],\n",
       "       ['cherry', 'date', 'nuts']], dtype='<U6')"
      ]
     },
     "execution_count": 61,
     "metadata": {},
     "output_type": "execute_result"
    }
   ],
   "source": [
    "np_arr = np.array([['apple', 'banana', 'mango'], ['cherry', 'date', \"nuts\"]])\n",
    "np_arr"
   ]
  },
  {
   "cell_type": "code",
   "execution_count": 62,
   "metadata": {
    "id": "xe9cmGdztHpX"
   },
   "outputs": [
    {
     "data": {
      "text/plain": [
       "(2, 3)"
      ]
     },
     "execution_count": 62,
     "metadata": {},
     "output_type": "execute_result"
    }
   ],
   "source": [
    "np_arr.shape"
   ]
  },
  {
   "cell_type": "code",
   "execution_count": 63,
   "metadata": {
    "id": "cbrGa39QcjxM"
   },
   "outputs": [
    {
     "data": {
      "text/plain": [
       "2"
      ]
     },
     "execution_count": 63,
     "metadata": {},
     "output_type": "execute_result"
    }
   ],
   "source": [
    "len(np_arr.shape)"
   ]
  },
  {
   "cell_type": "code",
   "execution_count": 64,
   "metadata": {
    "id": "0zSjPbG9cn-5"
   },
   "outputs": [
    {
     "data": {
      "text/plain": [
       "2"
      ]
     },
     "execution_count": 64,
     "metadata": {},
     "output_type": "execute_result"
    }
   ],
   "source": [
    "np_arr.ndim"
   ]
  },
  {
   "cell_type": "markdown",
   "metadata": {
    "id": "zr6F0xlLcl3t"
   },
   "source": [
    "As expected, the number of dimensions is equal to the length of the `shape` tuple."
   ]
  },
  {
   "cell_type": "markdown",
   "metadata": {
    "id": "vp9wSd0Ody-9"
   },
   "source": [
    "### Quiz 1\n",
    "Extract the size of the array `np.array([[2, 5, 3, 4], [1, 6, 4, 2], [7, 8, 4,1]])` in its first dimension."
   ]
  },
  {
   "cell_type": "code",
   "execution_count": 65,
   "metadata": {
    "id": "LMjXcW4dec4r"
   },
   "outputs": [
    {
     "data": {
      "text/plain": [
       "3"
      ]
     },
     "execution_count": 65,
     "metadata": {},
     "output_type": "execute_result"
    }
   ],
   "source": [
    "##### CODE HERE #####\n",
    "np.array([[2, 5, 3, 4], [1, 6, 4, 2], [7, 8, 4,1]]).shape[0]"
   ]
  },
  {
   "cell_type": "markdown",
   "metadata": {
    "id": "XUPZ79eteiZJ"
   },
   "source": [
    "### Quiz 2 - HW\n",
    "Extract the size of the array `np.array([[2, 5, 3, 4], [1, 6, 4, 2], [7, 8, 4,1]])` in its second dimension."
   ]
  },
  {
   "cell_type": "code",
   "execution_count": 66,
   "metadata": {
    "id": "LEvUv0tten_0"
   },
   "outputs": [
    {
     "data": {
      "text/plain": [
       "4"
      ]
     },
     "execution_count": 66,
     "metadata": {},
     "output_type": "execute_result"
    }
   ],
   "source": [
    "##### CODE HERE #####\n",
    "np.array([[2, 5, 3, 4], [1, 6, 4, 2], [7, 8, 4,1]]).shape[1]"
   ]
  },
  {
   "cell_type": "markdown",
   "metadata": {
    "id": "lyY1iUA1E-yw"
   },
   "source": [
    "### Quiz 3 - HW\n",
    "What is the shape of the array `np.array([2, 5, 3, 4])`?"
   ]
  },
  {
   "cell_type": "code",
   "execution_count": 67,
   "metadata": {
    "id": "oajxTAUZDPnE"
   },
   "outputs": [
    {
     "data": {
      "text/plain": [
       "(4,)"
      ]
     },
     "execution_count": 67,
     "metadata": {},
     "output_type": "execute_result"
    }
   ],
   "source": [
    "##### CODE HERE #####\n",
    "np.array([2, 5, 3, 4]).shape"
   ]
  },
  {
   "cell_type": "markdown",
   "metadata": {
    "id": "YGBEI1c_v9ud"
   },
   "source": [
    "In this section, we looked at some basic attributes of NumPy arrays. We urge all learners to go through the documentations for more details. You may consider taking the help of a language AI model to explore further."
   ]
  },
  {
   "cell_type": "markdown",
   "metadata": {
    "id": "NdiWIIGfF9st"
   },
   "source": [
    "# Accessing NumPy array elements\n",
    "There are many ways to access elements from arrays."
   ]
  },
  {
   "cell_type": "markdown",
   "metadata": {
    "id": "1cS7ayhIIuGW"
   },
   "source": [
    "### Example 1\n",
    "Accessing elements from 1D arrays"
   ]
  },
  {
   "cell_type": "code",
   "execution_count": 68,
   "metadata": {
    "id": "39dVDNFUe3fl"
   },
   "outputs": [
    {
     "data": {
      "text/plain": [
       "array([ 22, -36,  32,  47,  71, -45])"
      ]
     },
     "execution_count": 68,
     "metadata": {},
     "output_type": "execute_result"
    }
   ],
   "source": [
    "np_arr = np.array([22, -36, 32, 47, 71, -45])\n",
    "np_arr"
   ]
  },
  {
   "cell_type": "code",
   "execution_count": 69,
   "metadata": {
    "id": "ec2Q79yvI1B4"
   },
   "outputs": [
    {
     "data": {
      "text/plain": [
       "np.int64(32)"
      ]
     },
     "execution_count": 69,
     "metadata": {},
     "output_type": "execute_result"
    }
   ],
   "source": [
    "np_arr[2]"
   ]
  },
  {
   "cell_type": "code",
   "execution_count": 70,
   "metadata": {
    "id": "kJH6i8o1fnHH"
   },
   "outputs": [
    {
     "data": {
      "text/plain": [
       "array([-36,  32,  47])"
      ]
     },
     "execution_count": 70,
     "metadata": {},
     "output_type": "execute_result"
    }
   ],
   "source": [
    "np_arr[1:4]"
   ]
  },
  {
   "cell_type": "code",
   "execution_count": 71,
   "metadata": {
    "id": "gj9u89FoS2gk"
   },
   "outputs": [
    {
     "data": {
      "text/plain": [
       "array([-36,  32,  47])"
      ]
     },
     "execution_count": 71,
     "metadata": {},
     "output_type": "execute_result"
    }
   ],
   "source": [
    "np_arr[[1, 2, 3]]"
   ]
  },
  {
   "cell_type": "code",
   "execution_count": 72,
   "metadata": {
    "id": "kPKqLhHyfi9G"
   },
   "outputs": [
    {
     "data": {
      "text/plain": [
       "array([ 32,  47,  71, -45])"
      ]
     },
     "execution_count": 72,
     "metadata": {},
     "output_type": "execute_result"
    }
   ],
   "source": [
    "np_arr[2:]"
   ]
  },
  {
   "cell_type": "code",
   "execution_count": 73,
   "metadata": {
    "id": "SuDXJjggklJU"
   },
   "outputs": [
    {
     "data": {
      "text/plain": [
       "array([ 32,  47,  71, -45])"
      ]
     },
     "execution_count": 73,
     "metadata": {},
     "output_type": "execute_result"
    }
   ],
   "source": [
    "\n",
    "\n",
    "np_arr[2:6]"
   ]
  },
  {
   "cell_type": "code",
   "execution_count": 74,
   "metadata": {
    "id": "mZtp8cYLkrMZ"
   },
   "outputs": [
    {
     "data": {
      "text/plain": [
       "array([ 32,  47,  71, -45])"
      ]
     },
     "execution_count": 74,
     "metadata": {},
     "output_type": "execute_result"
    }
   ],
   "source": [
    "np_arr[2:len(np_arr)]"
   ]
  },
  {
   "cell_type": "code",
   "execution_count": 75,
   "metadata": {
    "id": "IpzCJTiVfpJW"
   },
   "outputs": [
    {
     "data": {
      "text/plain": [
       "array([ 22, -36,  32])"
      ]
     },
     "execution_count": 75,
     "metadata": {},
     "output_type": "execute_result"
    }
   ],
   "source": [
    "np_arr[:3]"
   ]
  },
  {
   "cell_type": "code",
   "execution_count": 76,
   "metadata": {
    "id": "SeQB4YVBkubA"
   },
   "outputs": [
    {
     "data": {
      "text/plain": [
       "array([ 22, -36,  32])"
      ]
     },
     "execution_count": 76,
     "metadata": {},
     "output_type": "execute_result"
    }
   ],
   "source": [
    "np_arr[0:3]"
   ]
  },
  {
   "cell_type": "code",
   "execution_count": 77,
   "metadata": {
    "id": "Ly-NJvCYf330"
   },
   "outputs": [
    {
     "data": {
      "text/plain": [
       "np.int64(-45)"
      ]
     },
     "execution_count": 77,
     "metadata": {},
     "output_type": "execute_result"
    }
   ],
   "source": [
    "np_arr[-1]"
   ]
  },
  {
   "cell_type": "code",
   "execution_count": 78,
   "metadata": {
    "id": "lUftiSd_KWXx"
   },
   "outputs": [
    {
     "data": {
      "text/plain": [
       "array([ 22, -36,  32,  47,  71])"
      ]
     },
     "execution_count": 78,
     "metadata": {},
     "output_type": "execute_result"
    }
   ],
   "source": [
    "np_arr[:-1]"
   ]
  },
  {
   "cell_type": "code",
   "execution_count": 79,
   "metadata": {
    "id": "E1sXMqxtKYP2"
   },
   "outputs": [
    {
     "data": {
      "text/plain": [
       "array([ 22, -36,  32,  47])"
      ]
     },
     "execution_count": 79,
     "metadata": {},
     "output_type": "execute_result"
    }
   ],
   "source": [
    "np_arr[:-2]"
   ]
  },
  {
   "cell_type": "markdown",
   "metadata": {
    "id": "Qq8rzOGWGFLc"
   },
   "source": [
    "### Quiz 1 - HW\n",
    "Reverse a 1D array. Recall the method for lists. Take the help of a language AI model if required."
   ]
  },
  {
   "cell_type": "code",
   "execution_count": 80,
   "metadata": {
    "id": "xs4LxRCfhMSE"
   },
   "outputs": [
    {
     "data": {
      "text/plain": [
       "array([ 47,  32, -36,  22])"
      ]
     },
     "execution_count": 80,
     "metadata": {},
     "output_type": "execute_result"
    }
   ],
   "source": [
    "##### CODE HERE #####\n",
    "np.array([22,-36,32,47])[-1::-1]"
   ]
  },
  {
   "cell_type": "markdown",
   "metadata": {
    "id": "2Y6cqRbvtbK6"
   },
   "source": [
    "### Example 2\n",
    "Accessing elements from 2D arrays"
   ]
  },
  {
   "cell_type": "code",
   "execution_count": 81,
   "metadata": {
    "id": "_l5xOSHuh6l_"
   },
   "outputs": [
    {
     "data": {
      "text/plain": [
       "array([[1, 2, 3],\n",
       "       [4, 5, 6]])"
      ]
     },
     "execution_count": 81,
     "metadata": {},
     "output_type": "execute_result"
    }
   ],
   "source": [
    "np_arr = np.array([[1, 2, 3], [4, 5, 6]])\n",
    "np_arr"
   ]
  },
  {
   "cell_type": "code",
   "execution_count": 82,
   "metadata": {
    "id": "QQp5USFguY5A"
   },
   "outputs": [
    {
     "data": {
      "text/plain": [
       "np.int64(1)"
      ]
     },
     "execution_count": 82,
     "metadata": {},
     "output_type": "execute_result"
    }
   ],
   "source": [
    "np_arr[0][0]"
   ]
  },
  {
   "cell_type": "code",
   "execution_count": 83,
   "metadata": {
    "id": "kJrCrLm3heHN"
   },
   "outputs": [
    {
     "data": {
      "text/plain": [
       "np.int64(1)"
      ]
     },
     "execution_count": 83,
     "metadata": {},
     "output_type": "execute_result"
    }
   ],
   "source": [
    "np_arr[0, 0]"
   ]
  },
  {
   "cell_type": "code",
   "execution_count": 84,
   "metadata": {
    "id": "tu-acrjzhg6Q"
   },
   "outputs": [
    {
     "data": {
      "text/plain": [
       "np.int64(6)"
      ]
     },
     "execution_count": 84,
     "metadata": {},
     "output_type": "execute_result"
    }
   ],
   "source": [
    "np_arr[1][2]"
   ]
  },
  {
   "cell_type": "code",
   "execution_count": 85,
   "metadata": {
    "id": "eCSEd5vzhlOn"
   },
   "outputs": [
    {
     "data": {
      "text/plain": [
       "np.int64(6)"
      ]
     },
     "execution_count": 85,
     "metadata": {},
     "output_type": "execute_result"
    }
   ],
   "source": [
    "np_arr[1, 2]"
   ]
  },
  {
   "cell_type": "code",
   "execution_count": 86,
   "metadata": {
    "id": "UZrTExRDhnDJ"
   },
   "outputs": [
    {
     "data": {
      "text/plain": [
       "array([1, 2, 3])"
      ]
     },
     "execution_count": 86,
     "metadata": {},
     "output_type": "execute_result"
    }
   ],
   "source": [
    "np_arr[0]"
   ]
  },
  {
   "cell_type": "code",
   "execution_count": 87,
   "metadata": {
    "id": "SMGMfy6ZS2gr"
   },
   "outputs": [
    {
     "data": {
      "text/plain": [
       "(3,)"
      ]
     },
     "execution_count": 87,
     "metadata": {},
     "output_type": "execute_result"
    }
   ],
   "source": [
    "np_arr[0].shape"
   ]
  },
  {
   "cell_type": "code",
   "execution_count": 88,
   "metadata": {
    "id": "2rGx1tVIS2gr"
   },
   "outputs": [
    {
     "data": {
      "text/plain": [
       "array([[1, 2, 3]])"
      ]
     },
     "execution_count": 88,
     "metadata": {},
     "output_type": "execute_result"
    }
   ],
   "source": [
    "np_arr[[0]]"
   ]
  },
  {
   "cell_type": "code",
   "execution_count": 89,
   "metadata": {
    "id": "Jqpko1oyS2gr"
   },
   "outputs": [
    {
     "data": {
      "text/plain": [
       "(1, 3)"
      ]
     },
     "execution_count": 89,
     "metadata": {},
     "output_type": "execute_result"
    }
   ],
   "source": [
    "np_arr[[0]].shape"
   ]
  },
  {
   "cell_type": "code",
   "execution_count": 90,
   "metadata": {
    "id": "L8NpKAS5hrK-"
   },
   "outputs": [
    {
     "data": {
      "text/plain": [
       "array([[1, 2, 3],\n",
       "       [4, 5, 6]])"
      ]
     },
     "execution_count": 90,
     "metadata": {},
     "output_type": "execute_result"
    }
   ],
   "source": [
    "np_arr[0:]"
   ]
  },
  {
   "cell_type": "code",
   "execution_count": 91,
   "metadata": {
    "id": "i81MnRxYhtAe"
   },
   "outputs": [
    {
     "data": {
      "text/plain": [
       "array([1, 2, 3])"
      ]
     },
     "execution_count": 91,
     "metadata": {},
     "output_type": "execute_result"
    }
   ],
   "source": [
    "np_arr[0, :]"
   ]
  },
  {
   "cell_type": "code",
   "execution_count": 92,
   "metadata": {
    "id": "Vyd_SHmuhvIV"
   },
   "outputs": [
    {
     "data": {
      "text/plain": [
       "array([1, 2, 3])"
      ]
     },
     "execution_count": 92,
     "metadata": {},
     "output_type": "execute_result"
    }
   ],
   "source": [
    "np_arr[0, ]"
   ]
  },
  {
   "cell_type": "code",
   "execution_count": 93,
   "metadata": {
    "id": "rGADUb6ghx95"
   },
   "outputs": [
    {
     "data": {
      "text/plain": [
       "array([1, 2, 3])"
      ]
     },
     "execution_count": 93,
     "metadata": {},
     "output_type": "execute_result"
    }
   ],
   "source": [
    "np_arr[0][:]"
   ]
  },
  {
   "cell_type": "code",
   "execution_count": 94,
   "metadata": {
    "id": "n0u6oRhEjtXT"
   },
   "outputs": [
    {
     "data": {
      "text/plain": [
       "array([2, 3])"
      ]
     },
     "execution_count": 94,
     "metadata": {},
     "output_type": "execute_result"
    }
   ],
   "source": [
    "np_arr[0][1:]"
   ]
  },
  {
   "cell_type": "code",
   "execution_count": 95,
   "metadata": {
    "id": "tewOa0D_jwEP"
   },
   "outputs": [
    {
     "data": {
      "text/plain": [
       "array([2, 3])"
      ]
     },
     "execution_count": 95,
     "metadata": {},
     "output_type": "execute_result"
    }
   ],
   "source": [
    "np_arr[0, 1:]"
   ]
  },
  {
   "cell_type": "code",
   "execution_count": 96,
   "metadata": {
    "id": "VzA0d4HbjyTx"
   },
   "outputs": [
    {
     "data": {
      "text/plain": [
       "array([1, 2])"
      ]
     },
     "execution_count": 96,
     "metadata": {},
     "output_type": "execute_result"
    }
   ],
   "source": [
    "np_arr[0][:2]"
   ]
  },
  {
   "cell_type": "code",
   "execution_count": 97,
   "metadata": {
    "id": "2R82X6zqj0wK"
   },
   "outputs": [
    {
     "data": {
      "text/plain": [
       "array([1, 2])"
      ]
     },
     "execution_count": 97,
     "metadata": {},
     "output_type": "execute_result"
    }
   ],
   "source": [
    "np_arr[0, :2]"
   ]
  },
  {
   "cell_type": "code",
   "execution_count": 98,
   "metadata": {
    "id": "jyRxfkxDS2gv"
   },
   "outputs": [
    {
     "data": {
      "text/plain": [
       "array([1, 2])"
      ]
     },
     "execution_count": 98,
     "metadata": {},
     "output_type": "execute_result"
    }
   ],
   "source": [
    "np_arr[0, [0, 1]]"
   ]
  },
  {
   "cell_type": "markdown",
   "metadata": {
    "id": "EGK1-06ekCcY"
   },
   "source": [
    "### Quiz 2\n",
    "Print `'fig'` from the following numpy array:\n",
    "```\n",
    "str_arr = np.array(object = [['apple', 'banana', 'cherry'],\n",
    "                             ['date', 'fig', 'grape'],\n",
    "                             ['kiwi', 'lemon', 'mango']])\n",
    "```"
   ]
  },
  {
   "cell_type": "code",
   "execution_count": 99,
   "metadata": {
    "id": "mNFJyhSxiJhg"
   },
   "outputs": [
    {
     "name": "stdout",
     "output_type": "stream",
     "text": [
      "fig\n"
     ]
    }
   ],
   "source": [
    "##### CODE HERE #####\n",
    "str_arr = np.array(object = [['apple', 'banana', 'cherry'],\n",
    "                             ['date', 'fig', 'grape'],\n",
    "                             ['kiwi', 'lemon', 'mango']])\n",
    "print(str_arr[1, 1])"
   ]
  },
  {
   "cell_type": "markdown",
   "metadata": {
    "id": "tdwzsHV6i_F9"
   },
   "source": [
    "### Quiz 3 - HW\n",
    "Print `'lemon'` from the following numpy array:\n",
    "```\n",
    "str_arr = np.array(object = [['apple', 'banana', 'cherry'],\n",
    "                             ['date', 'fig', 'grape'],\n",
    "                             ['kiwi', 'lemon', 'mango']])\n",
    "```"
   ]
  },
  {
   "cell_type": "code",
   "execution_count": 100,
   "metadata": {
    "id": "p-GJ2cBAjBaH"
   },
   "outputs": [],
   "source": [
    "##### CODE HERE #####"
   ]
  },
  {
   "cell_type": "markdown",
   "metadata": {
    "id": "2h4BFd_klds3"
   },
   "source": [
    "### Quiz 4 - HW\n",
    "Print `['kiwi', 'lemon', 'mango']` from the following numpy array:\n",
    "```\n",
    "str_arr = np.array(object = [['apple', 'banana', 'cherry'],\n",
    "                             ['date', 'fig', 'grape'],\n",
    "                             ['kiwi', 'lemon', 'mango']])\n",
    "```"
   ]
  },
  {
   "cell_type": "code",
   "execution_count": 101,
   "metadata": {
    "id": "_jSg3hiMlyvU"
   },
   "outputs": [
    {
     "name": "stdout",
     "output_type": "stream",
     "text": [
      "['kiwi' 'lemon' 'mango']\n"
     ]
    }
   ],
   "source": [
    "##### CODE HERE #####\n",
    "str_arr = np.array(object = [['apple', 'banana', 'cherry'],\n",
    "                             ['date', 'fig', 'grape'],\n",
    "                             ['kiwi', 'lemon', 'mango']])\n",
    "print(str_arr[2])"
   ]
  },
  {
   "cell_type": "markdown",
   "metadata": {
    "id": "QR0X-EBCjYD7"
   },
   "source": [
    "### Quiz 5 - HW\n",
    "Print `['banana', 'cherry']` from the following numpy array:\n",
    "```\n",
    "str_arr = np.array(object = [['apple', 'banana', 'cherry'],\n",
    "                             ['date', 'fig', 'grape'],\n",
    "                             ['kiwi', 'lemon', 'mango']])\n",
    "```"
   ]
  },
  {
   "cell_type": "code",
   "execution_count": 102,
   "metadata": {
    "id": "2SWadJbpjjWD"
   },
   "outputs": [
    {
     "name": "stdout",
     "output_type": "stream",
     "text": [
      "['banana' 'cherry']\n"
     ]
    }
   ],
   "source": [
    "##### CODE HERE #####\n",
    "print(str_arr[0][1:])"
   ]
  },
  {
   "cell_type": "markdown",
   "metadata": {
    "id": "4Zi5wlrBctQv"
   },
   "source": [
    "### Example 3\n",
    "Accessing elements from 3D arrays"
   ]
  },
  {
   "cell_type": "code",
   "execution_count": 103,
   "metadata": {
    "id": "nCMoC4RalUsH",
    "scrolled": true
   },
   "outputs": [
    {
     "data": {
      "text/plain": [
       "array([[[ 0,  5, 17],\n",
       "        [ 0,  6, 18],\n",
       "        [ 0,  8, 22],\n",
       "        ...,\n",
       "        [ 2,  5, 24],\n",
       "        [ 5,  4, 20],\n",
       "        [ 3,  1, 15]],\n",
       "\n",
       "       [[ 0,  4, 16],\n",
       "        [ 0,  5, 17],\n",
       "        [ 0,  8, 22],\n",
       "        ...,\n",
       "        [ 1,  6, 25],\n",
       "        [ 5,  6, 24],\n",
       "        [ 4,  2, 16]],\n",
       "\n",
       "       [[ 0,  6, 20],\n",
       "        [ 0,  8, 22],\n",
       "        [ 0, 11, 26],\n",
       "        ...,\n",
       "        [ 4,  9, 29],\n",
       "        [ 8,  9, 29],\n",
       "        [ 7,  4, 21]],\n",
       "\n",
       "       ...,\n",
       "\n",
       "       [[ 2,  6, 17],\n",
       "        [ 2,  9, 19],\n",
       "        [ 5, 11, 23],\n",
       "        ...,\n",
       "        [11, 16, 22],\n",
       "        [13, 14, 18],\n",
       "        [ 5,  7,  6]],\n",
       "\n",
       "       [[ 1,  2,  7],\n",
       "        [ 1,  4, 11],\n",
       "        [ 3,  6, 15],\n",
       "        ...,\n",
       "        [17, 16, 21],\n",
       "        [17, 16, 14],\n",
       "        [10,  6,  3]],\n",
       "\n",
       "       [[ 6,  5, 10],\n",
       "        [ 4,  3,  8],\n",
       "        [ 4,  3,  9],\n",
       "        ...,\n",
       "        [19, 17, 18],\n",
       "        [23, 19, 16],\n",
       "        [12,  7,  3]]], shape=(25, 25, 3), dtype=uint8)"
      ]
     },
     "execution_count": 103,
     "metadata": {},
     "output_type": "execute_result"
    }
   ],
   "source": [
    "img"
   ]
  },
  {
   "cell_type": "code",
   "execution_count": 104,
   "metadata": {
    "id": "vRoThNoDlYAd"
   },
   "outputs": [
    {
     "data": {
      "text/plain": [
       "3"
      ]
     },
     "execution_count": 104,
     "metadata": {},
     "output_type": "execute_result"
    }
   ],
   "source": [
    "img.ndim"
   ]
  },
  {
   "cell_type": "code",
   "execution_count": 105,
   "metadata": {
    "id": "7RssNiM4lZOd"
   },
   "outputs": [
    {
     "data": {
      "text/plain": [
       "(25, 25, 3)"
      ]
     },
     "execution_count": 105,
     "metadata": {},
     "output_type": "execute_result"
    }
   ],
   "source": [
    "img.shape"
   ]
  },
  {
   "cell_type": "code",
   "execution_count": 106,
   "metadata": {
    "id": "uIlvna9qlcrX",
    "scrolled": true
   },
   "outputs": [
    {
     "data": {
      "text/plain": [
       "array([[ 0,  5, 17],\n",
       "       [ 0,  6, 18],\n",
       "       [ 0,  8, 22],\n",
       "       [ 0, 12, 26],\n",
       "       [ 0, 17, 34],\n",
       "       [ 2, 25, 43],\n",
       "       [ 5, 30, 50],\n",
       "       [ 7, 35, 57],\n",
       "       [ 9, 36, 63],\n",
       "       [ 3, 34, 63],\n",
       "       [ 2, 33, 64],\n",
       "       [ 3, 38, 70],\n",
       "       [ 8, 42, 79],\n",
       "       [ 9, 45, 81],\n",
       "       [ 7, 42, 80],\n",
       "       [ 4, 38, 73],\n",
       "       [ 0, 32, 57],\n",
       "       [ 4, 35, 56],\n",
       "       [ 8, 35, 56],\n",
       "       [ 6, 28, 49],\n",
       "       [ 2, 17, 38],\n",
       "       [ 0,  9, 27],\n",
       "       [ 2,  5, 24],\n",
       "       [ 5,  4, 20],\n",
       "       [ 3,  1, 15]], dtype=uint8)"
      ]
     },
     "execution_count": 106,
     "metadata": {},
     "output_type": "execute_result"
    }
   ],
   "source": [
    "img[0]"
   ]
  },
  {
   "cell_type": "code",
   "execution_count": 107,
   "metadata": {
    "id": "s-ak4icdllSS"
   },
   "outputs": [
    {
     "data": {
      "text/plain": [
       "(25, 3)"
      ]
     },
     "execution_count": 107,
     "metadata": {},
     "output_type": "execute_result"
    }
   ],
   "source": [
    "img[0].shape"
   ]
  },
  {
   "cell_type": "code",
   "execution_count": 108,
   "metadata": {
    "id": "eav3neeoS2g9",
    "scrolled": true
   },
   "outputs": [
    {
     "data": {
      "text/plain": [
       "array([[[ 0,  5, 17],\n",
       "        [ 0,  6, 18],\n",
       "        [ 0,  8, 22],\n",
       "        [ 0, 12, 26],\n",
       "        [ 0, 17, 34],\n",
       "        [ 2, 25, 43],\n",
       "        [ 5, 30, 50],\n",
       "        [ 7, 35, 57],\n",
       "        [ 9, 36, 63],\n",
       "        [ 3, 34, 63],\n",
       "        [ 2, 33, 64],\n",
       "        [ 3, 38, 70],\n",
       "        [ 8, 42, 79],\n",
       "        [ 9, 45, 81],\n",
       "        [ 7, 42, 80],\n",
       "        [ 4, 38, 73],\n",
       "        [ 0, 32, 57],\n",
       "        [ 4, 35, 56],\n",
       "        [ 8, 35, 56],\n",
       "        [ 6, 28, 49],\n",
       "        [ 2, 17, 38],\n",
       "        [ 0,  9, 27],\n",
       "        [ 2,  5, 24],\n",
       "        [ 5,  4, 20],\n",
       "        [ 3,  1, 15]]], dtype=uint8)"
      ]
     },
     "execution_count": 108,
     "metadata": {},
     "output_type": "execute_result"
    }
   ],
   "source": [
    "img[[0]]"
   ]
  },
  {
   "cell_type": "code",
   "execution_count": 109,
   "metadata": {
    "id": "QIMnotXqS2g-"
   },
   "outputs": [
    {
     "data": {
      "text/plain": [
       "(1, 25, 3)"
      ]
     },
     "execution_count": 109,
     "metadata": {},
     "output_type": "execute_result"
    }
   ],
   "source": [
    "img[[0]].shape"
   ]
  },
  {
   "cell_type": "code",
   "execution_count": 110,
   "metadata": {
    "id": "kngzBaNGlqQs"
   },
   "outputs": [
    {
     "data": {
      "text/plain": [
       "array([ 0,  5, 17], dtype=uint8)"
      ]
     },
     "execution_count": 110,
     "metadata": {},
     "output_type": "execute_result"
    }
   ],
   "source": [
    "img[0][0]"
   ]
  },
  {
   "cell_type": "code",
   "execution_count": 111,
   "metadata": {
    "id": "CA_fL95Ulr-9"
   },
   "outputs": [
    {
     "data": {
      "text/plain": [
       "np.uint8(0)"
      ]
     },
     "execution_count": 111,
     "metadata": {},
     "output_type": "execute_result"
    }
   ],
   "source": [
    "img[0][0][0]"
   ]
  },
  {
   "cell_type": "code",
   "execution_count": 112,
   "metadata": {
    "id": "nELnbWUglt79"
   },
   "outputs": [
    {
     "data": {
      "text/plain": [
       "array([ 0,  5, 17], dtype=uint8)"
      ]
     },
     "execution_count": 112,
     "metadata": {},
     "output_type": "execute_result"
    }
   ],
   "source": [
    "img[0][:][0]"
   ]
  },
  {
   "cell_type": "code",
   "execution_count": 113,
   "metadata": {
    "id": "4eAdEFCumNJH"
   },
   "outputs": [
    {
     "data": {
      "text/plain": [
       "array([ 0,  5, 17], dtype=uint8)"
      ]
     },
     "execution_count": 113,
     "metadata": {},
     "output_type": "execute_result"
    }
   ],
   "source": [
    "img[0, :][0]"
   ]
  },
  {
   "cell_type": "code",
   "execution_count": 114,
   "metadata": {
    "id": "8fVyMF_umO_l"
   },
   "outputs": [
    {
     "data": {
      "text/plain": [
       "array([0, 0, 0, 0, 0, 2, 5, 7, 9, 3, 2, 3, 8, 9, 7, 4, 0, 4, 8, 6, 2, 0,\n",
       "       2, 5, 3], dtype=uint8)"
      ]
     },
     "execution_count": 114,
     "metadata": {},
     "output_type": "execute_result"
    }
   ],
   "source": [
    "img[0, :, 0]"
   ]
  },
  {
   "cell_type": "code",
   "execution_count": 115,
   "metadata": {
    "id": "CbbteLhQl_kv"
   },
   "outputs": [
    {
     "data": {
      "text/plain": [
       "array([[[  3,  24],\n",
       "        [  8,  34],\n",
       "        [ 13,  40],\n",
       "        [ 16,  44],\n",
       "        [  8,  38]],\n",
       "\n",
       "       [[  6,  29],\n",
       "        [ 10,  35],\n",
       "        [ 14,  40],\n",
       "        [ 15,  45],\n",
       "        [ 14,  45]],\n",
       "\n",
       "       [[ 10,  33],\n",
       "        [ 11,  38],\n",
       "        [ 14,  42],\n",
       "        [ 13,  45],\n",
       "        [ 22,  56]],\n",
       "\n",
       "       [[ 12,  37],\n",
       "        [ 16,  43],\n",
       "        [ 17,  47],\n",
       "        [ 16,  50],\n",
       "        [ 27,  64]],\n",
       "\n",
       "       [[ 16,  43],\n",
       "        [ 22,  50],\n",
       "        [ 25,  57],\n",
       "        [ 26,  62],\n",
       "        [ 27,  66]],\n",
       "\n",
       "       [[ 19,  47],\n",
       "        [ 25,  57],\n",
       "        [ 30,  66],\n",
       "        [ 32,  72],\n",
       "        [ 23,  67]],\n",
       "\n",
       "       [[  3,  34],\n",
       "        [  3,  38],\n",
       "        [ 12,  49],\n",
       "        [ 19,  61],\n",
       "        [ 19,  66]],\n",
       "\n",
       "       [[ 12,  42],\n",
       "        [  6,  42],\n",
       "        [  5,  45],\n",
       "        [  5,  51],\n",
       "        [ 30,  79]],\n",
       "\n",
       "       [[ 27,  59],\n",
       "        [ 18,  54],\n",
       "        [  8,  49],\n",
       "        [  2,  49],\n",
       "        [ 21,  74]],\n",
       "\n",
       "       [[ 39,  70],\n",
       "        [ 31,  68],\n",
       "        [ 19,  63],\n",
       "        [ 11,  60],\n",
       "        [ 60, 115]],\n",
       "\n",
       "       [[ 33,  67],\n",
       "        [ 31,  71],\n",
       "        [ 25,  70],\n",
       "        [ 18,  69],\n",
       "        [ 22,  81]],\n",
       "\n",
       "       [[ 21,  56],\n",
       "        [ 23,  64],\n",
       "        [ 20,  67],\n",
       "        [ 14,  67],\n",
       "        [ 54, 113]],\n",
       "\n",
       "       [[ 21,  56],\n",
       "        [ 23,  64],\n",
       "        [ 17,  64],\n",
       "        [  8,  63],\n",
       "        [ 30,  91]],\n",
       "\n",
       "       [[ 28,  63],\n",
       "        [ 29,  70],\n",
       "        [ 20,  65],\n",
       "        [  7,  60],\n",
       "        [ 27,  86]],\n",
       "\n",
       "       [[ 17,  51],\n",
       "        [ 18,  56],\n",
       "        [ 17,  60],\n",
       "        [ 17,  62],\n",
       "        [ 29,  81]],\n",
       "\n",
       "       [[ 17,  50],\n",
       "        [ 19,  55],\n",
       "        [ 20,  58],\n",
       "        [ 18,  60],\n",
       "        [ 11,  56]],\n",
       "\n",
       "       [[ 18,  47],\n",
       "        [ 19,  52],\n",
       "        [ 21,  55],\n",
       "        [ 19,  57],\n",
       "        [ 13,  52]],\n",
       "\n",
       "       [[ 17,  43],\n",
       "        [ 20,  47],\n",
       "        [ 20,  51],\n",
       "        [ 19,  52],\n",
       "        [ 22,  58]],\n",
       "\n",
       "       [[ 15,  35],\n",
       "        [ 18,  40],\n",
       "        [ 18,  44],\n",
       "        [ 18,  45],\n",
       "        [ 17,  48]],\n",
       "\n",
       "       [[ 12,  27],\n",
       "        [ 14,  31],\n",
       "        [ 14,  34],\n",
       "        [ 15,  37],\n",
       "        [ 14,  40]],\n",
       "\n",
       "       [[ 10,  19],\n",
       "        [ 12,  24],\n",
       "        [ 11,  26],\n",
       "        [ 12,  29],\n",
       "        [ 13,  33]],\n",
       "\n",
       "       [[  8,  14],\n",
       "        [ 10,  18],\n",
       "        [ 12,  21],\n",
       "        [ 11,  24],\n",
       "        [  5,  20]],\n",
       "\n",
       "       [[ 14,  17],\n",
       "        [ 16,  23],\n",
       "        [ 15,  23],\n",
       "        [ 10,  22],\n",
       "        [  5,  18]]], dtype=uint8)"
      ]
     },
     "execution_count": 115,
     "metadata": {},
     "output_type": "execute_result"
    }
   ],
   "source": [
    "img[2:, 4:9, :2]"
   ]
  },
  {
   "cell_type": "markdown",
   "metadata": {
    "id": "FoYSr6znS2hA"
   },
   "source": [
    "### Example 4\n",
    "Accessing elements based on conditions, also called Boolean indexing"
   ]
  },
  {
   "cell_type": "code",
   "execution_count": 116,
   "metadata": {
    "id": "B_uRsiSKS2hA"
   },
   "outputs": [
    {
     "data": {
      "text/plain": [
       "array([[1, 2, 3],\n",
       "       [4, 5, 6]])"
      ]
     },
     "execution_count": 116,
     "metadata": {},
     "output_type": "execute_result"
    }
   ],
   "source": [
    "np_arr"
   ]
  },
  {
   "cell_type": "code",
   "execution_count": 117,
   "metadata": {
    "id": "Ue8g3N1_S2hB"
   },
   "outputs": [
    {
     "data": {
      "text/plain": [
       "array([[False, False,  True],\n",
       "       [ True,  True,  True]])"
      ]
     },
     "execution_count": 117,
     "metadata": {},
     "output_type": "execute_result"
    }
   ],
   "source": [
    "np_arr > 2"
   ]
  },
  {
   "cell_type": "code",
   "execution_count": 118,
   "metadata": {
    "id": "eAqgPvCYS2hB"
   },
   "outputs": [
    {
     "data": {
      "text/plain": [
       "array([3, 4, 5, 6])"
      ]
     },
     "execution_count": 118,
     "metadata": {},
     "output_type": "execute_result"
    }
   ],
   "source": [
    "np_arr[np_arr > 2]"
   ]
  },
  {
   "cell_type": "code",
   "execution_count": 119,
   "metadata": {
    "id": "nY3pBDaVS2hB"
   },
   "outputs": [
    {
     "data": {
      "text/plain": [
       "array([[1, 2, 3],\n",
       "       [4, 5, 6]])"
      ]
     },
     "execution_count": 119,
     "metadata": {},
     "output_type": "execute_result"
    }
   ],
   "source": [
    "np_arr"
   ]
  },
  {
   "cell_type": "code",
   "execution_count": 120,
   "metadata": {
    "id": "6ZFaaieaS2hB"
   },
   "outputs": [
    {
     "data": {
      "text/plain": [
       "array([3, 4, 5, 6])"
      ]
     },
     "execution_count": 120,
     "metadata": {},
     "output_type": "execute_result"
    }
   ],
   "source": [
    "np_arr = np_arr[np_arr > 2]\n",
    "np_arr"
   ]
  },
  {
   "cell_type": "code",
   "execution_count": 121,
   "metadata": {
    "id": "wHJTw9WfS2hC"
   },
   "outputs": [
    {
     "data": {
      "text/plain": [
       "array([[1, 2, 3],\n",
       "       [4, 5, 6]])"
      ]
     },
     "execution_count": 121,
     "metadata": {},
     "output_type": "execute_result"
    }
   ],
   "source": [
    "np_arr = np.array([[1, 2, 3], [4, 5, 6]])\n",
    "np_arr"
   ]
  },
  {
   "cell_type": "code",
   "execution_count": 122,
   "metadata": {
    "id": "YWTWBuUwS2hC"
   },
   "outputs": [
    {
     "data": {
      "text/plain": [
       "array([[False, False,  True],\n",
       "       [ True,  True,  True]])"
      ]
     },
     "execution_count": 122,
     "metadata": {},
     "output_type": "execute_result"
    }
   ],
   "source": [
    "np_arr > 2"
   ]
  },
  {
   "cell_type": "code",
   "execution_count": 123,
   "metadata": {
    "id": "GwMr6XlmS2hC"
   },
   "outputs": [
    {
     "data": {
      "text/plain": [
       "array([[ True,  True,  True],\n",
       "       [ True, False, False]])"
      ]
     },
     "execution_count": 123,
     "metadata": {},
     "output_type": "execute_result"
    }
   ],
   "source": [
    "np_arr < 5"
   ]
  },
  {
   "cell_type": "code",
   "execution_count": 124,
   "metadata": {
    "id": "qAu5JomdS2hC"
   },
   "outputs": [
    {
     "data": {
      "text/plain": [
       "array([[False, False,  True],\n",
       "       [ True, False, False]])"
      ]
     },
     "execution_count": 124,
     "metadata": {},
     "output_type": "execute_result"
    }
   ],
   "source": [
    "(np_arr > 2) & (np_arr < 5)"
   ]
  },
  {
   "cell_type": "code",
   "execution_count": 125,
   "metadata": {
    "id": "tLSa90_YS2hD"
   },
   "outputs": [
    {
     "data": {
      "text/plain": [
       "array([3, 4])"
      ]
     },
     "execution_count": 125,
     "metadata": {},
     "output_type": "execute_result"
    }
   ],
   "source": [
    "np_arr[(np_arr > 2) & (np_arr < 5)]"
   ]
  },
  {
   "cell_type": "code",
   "execution_count": 126,
   "metadata": {
    "id": "I3SZaka5S2hD"
   },
   "outputs": [
    {
     "data": {
      "text/plain": [
       "array([1, 2, 5, 6])"
      ]
     },
     "execution_count": 126,
     "metadata": {},
     "output_type": "execute_result"
    }
   ],
   "source": [
    "np_arr[(np_arr < 3) | (np_arr > 4)]"
   ]
  },
  {
   "cell_type": "markdown",
   "metadata": {
    "id": "VmBP9d3vS2hD"
   },
   "source": [
    "### Quiz 6\n",
    "Count the number of elements in the following array that are greater than 50:\n",
    "```\n",
    "num_arr = np.array([23, 56, 87, 25, 64, 82, 64, 36, 87, 56, 98, 15, 25, 35, 76, 36, 67, 89, 35, 67, 64, 45, 37, 78])\n",
    "```"
   ]
  },
  {
   "cell_type": "code",
   "execution_count": 127,
   "metadata": {
    "id": "d4bdpRL3S2hE"
   },
   "outputs": [
    {
     "data": {
      "text/plain": [
       "14"
      ]
     },
     "execution_count": 127,
     "metadata": {},
     "output_type": "execute_result"
    }
   ],
   "source": [
    "num_arr = np.array([23, 56, 87, 25, 64, 82, 64, 36, 87, 56, 98, 15, 25, 35, 76, 36, 67, 89, 35, 67, 64, 45, 37, 78])\n",
    "num_arr[num_arr>50].shape[0]"
   ]
  },
  {
   "cell_type": "markdown",
   "metadata": {
    "id": "jgArW76yS2hE"
   },
   "source": [
    "### Quiz 7\n",
    "Load the file `image.jpg` and convert it into an array `img`. Count the number of pixels in the red channel of the image whose gray level values are within the range $[25, 225]$ (both inclusive). Remember basic logical operations. Try querying a language AI model to help you out."
   ]
  },
  {
   "cell_type": "code",
   "execution_count": 128,
   "metadata": {
    "id": "TyTAUM_9S2hF",
    "scrolled": true
   },
   "outputs": [
    {
     "data": {
      "text/plain": [
       "95"
      ]
     },
     "execution_count": 128,
     "metadata": {},
     "output_type": "execute_result"
    }
   ],
   "source": [
    "red_img = img[:,:,0]\n",
    "red_img[(red_img >= 25) & (red_img<=225)].shape[0]"
   ]
  },
  {
   "cell_type": "markdown",
   "metadata": {
    "id": "_pJc4BrhS2hF"
   },
   "source": [
    "### Quiz 8 - HW\n",
    "Count the number of elements in the following array that lie in the range $[50,70]$ (both inclusive):\n",
    "```\n",
    "num_arr = np.array([23, 56, 87, 25, 64, 82, 64, 36, 87, 56, 98, 15, 25, 35, 76, 36, 67, 89, 35, 67, 64, 45, 37, 78])\n",
    "```"
   ]
  },
  {
   "cell_type": "code",
   "execution_count": 129,
   "metadata": {
    "id": "8mWAAO6lS2hF"
   },
   "outputs": [
    {
     "data": {
      "text/plain": [
       "7"
      ]
     },
     "execution_count": 129,
     "metadata": {},
     "output_type": "execute_result"
    }
   ],
   "source": [
    "##### CODE HERE #####\n",
    "num_arr = np.array([23, 56, 87, 25, 64, 82, 64, 36, 87, 56, 98, 15, 25, 35, 76, 36, 67, 89, 35, 67, 64, 45, 37, 78])\n",
    "num_arr[(num_arr>=50) & (num_arr<=70)].shape[0]"
   ]
  },
  {
   "cell_type": "markdown",
   "metadata": {
    "id": "7vQDSB_YS2hG"
   },
   "source": [
    "### Quiz 9 - HW\n",
    "Load the file `image.jpg` and convert it into an array `img`. Count the number of white pixels in the image. Note that a white pixel has a value of $255$ across all channels. Remember basic logical operations. Try using the `where` method to solve this problem. Try querying a language AI model to help you out."
   ]
  },
  {
   "cell_type": "code",
   "execution_count": 130,
   "metadata": {
    "id": "miAVoDE0S2hG"
   },
   "outputs": [
    {
     "data": {
      "text/plain": [
       "0"
      ]
     },
     "execution_count": 130,
     "metadata": {},
     "output_type": "execute_result"
    }
   ],
   "source": [
    "##### CODE HERE #####\n",
    "white_pixals = np.where((img[:,:,0]==255) & (img[:,:,1]==255) & (img[:,:,2]==255))\n",
    "white_pixals[0].size"
   ]
  },
  {
   "cell_type": "markdown",
   "metadata": {
    "id": "9WUXt8odS2hG"
   },
   "source": [
    "A related indexing method of interest is the `nonzero` method. Explore this further on your own. Take the help of a language AI model if required."
   ]
  },
  {
   "cell_type": "markdown",
   "metadata": {
    "id": "W6l98cx_qLCp"
   },
   "source": [
    "In this section, we learned how to access elements from arrays. Learners are encouraged to explore further on their own, taking the help of language AI models if required."
   ]
  },
  {
   "cell_type": "markdown",
   "metadata": {
    "id": "bQ-KMjmfe3wc"
   },
   "source": [
    "# Operations on NumPy Arrays\n",
    "One of NumPy's key features is the ability to perform efficient array or vector operations. These operations are crucial for scientific computing, data analysis, and machine learning tasks."
   ]
  },
  {
   "cell_type": "markdown",
   "metadata": {
    "id": "AvRZE2cLLSG7"
   },
   "source": [
    "### Example 1\n",
    "Adding elements to 1D arrays"
   ]
  },
  {
   "cell_type": "code",
   "execution_count": 131,
   "metadata": {
    "id": "HUd7__iALXAi"
   },
   "outputs": [
    {
     "data": {
      "text/plain": [
       "array([1, 2, 3])"
      ]
     },
     "execution_count": 131,
     "metadata": {},
     "output_type": "execute_result"
    }
   ],
   "source": [
    "np_arr = np.array([1, 2, 3])\n",
    "np_arr"
   ]
  },
  {
   "cell_type": "code",
   "execution_count": 132,
   "metadata": {
    "id": "EocfGKUlLmF-"
   },
   "outputs": [
    {
     "data": {
      "text/plain": [
       "array([1, 2, 3, 4])"
      ]
     },
     "execution_count": 132,
     "metadata": {},
     "output_type": "execute_result"
    }
   ],
   "source": [
    "np.append(arr = np_arr, values = 4)"
   ]
  },
  {
   "cell_type": "code",
   "execution_count": 133,
   "metadata": {
    "id": "iYUeAtsRS2hI"
   },
   "outputs": [
    {
     "data": {
      "text/plain": [
       "array([1, 2, 3])"
      ]
     },
     "execution_count": 133,
     "metadata": {},
     "output_type": "execute_result"
    }
   ],
   "source": [
    "np_arr"
   ]
  },
  {
   "cell_type": "code",
   "execution_count": 134,
   "metadata": {
    "id": "Sxeu4hUIL5Wk"
   },
   "outputs": [
    {
     "data": {
      "text/plain": [
       "array([1, 2, 3, 4])"
      ]
     },
     "execution_count": 134,
     "metadata": {},
     "output_type": "execute_result"
    }
   ],
   "source": [
    "np_arr = np.append(np_arr, 4)\n",
    "np_arr"
   ]
  },
  {
   "cell_type": "code",
   "execution_count": 135,
   "metadata": {
    "id": "lQv9cWoOOsuG"
   },
   "outputs": [
    {
     "data": {
      "text/plain": [
       "array([1, 2, 3, 4, 5, 6])"
      ]
     },
     "execution_count": 135,
     "metadata": {},
     "output_type": "execute_result"
    }
   ],
   "source": [
    "np_arr = np.append(np_arr, [5, 6])\n",
    "np_arr"
   ]
  },
  {
   "cell_type": "code",
   "execution_count": 136,
   "metadata": {
    "id": "30b5wVQHO1Dl"
   },
   "outputs": [
    {
     "data": {
      "text/plain": [
       "array([1, 2, 3, 4, 5, 6, 7, 8])"
      ]
     },
     "execution_count": 136,
     "metadata": {},
     "output_type": "execute_result"
    }
   ],
   "source": [
    "np_arr = np.append(np_arr, np.array([7, 8]))\n",
    "np_arr"
   ]
  },
  {
   "cell_type": "markdown",
   "metadata": {
    "id": "Gv5_HFfYL_CS"
   },
   "source": [
    "### Example 2\n",
    "Removing elements from 1D arrays"
   ]
  },
  {
   "cell_type": "code",
   "execution_count": 137,
   "metadata": {
    "id": "ODcX4xaiM_lJ"
   },
   "outputs": [
    {
     "data": {
      "text/plain": [
       "array([1, 2, 3, 4, 5, 6, 7, 8])"
      ]
     },
     "execution_count": 137,
     "metadata": {},
     "output_type": "execute_result"
    }
   ],
   "source": [
    "np_arr"
   ]
  },
  {
   "cell_type": "code",
   "execution_count": 138,
   "metadata": {
    "id": "oUYbUW9xNA76"
   },
   "outputs": [
    {
     "data": {
      "text/plain": [
       "array([1, 2, 4, 5, 6, 7, 8])"
      ]
     },
     "execution_count": 138,
     "metadata": {},
     "output_type": "execute_result"
    }
   ],
   "source": [
    "np.delete(arr = np_arr, obj = 2)"
   ]
  },
  {
   "cell_type": "code",
   "execution_count": 139,
   "metadata": {
    "id": "_J5YvbztS2hK"
   },
   "outputs": [
    {
     "data": {
      "text/plain": [
       "array([1, 2, 3, 4, 5, 6, 7, 8])"
      ]
     },
     "execution_count": 139,
     "metadata": {},
     "output_type": "execute_result"
    }
   ],
   "source": [
    "np_arr"
   ]
  },
  {
   "cell_type": "code",
   "execution_count": 140,
   "metadata": {
    "id": "1b7xJ1dZPKh7"
   },
   "outputs": [
    {
     "data": {
      "text/plain": [
       "array([1, 2, 4, 5, 6, 7, 8])"
      ]
     },
     "execution_count": 140,
     "metadata": {},
     "output_type": "execute_result"
    }
   ],
   "source": [
    "np_arr = np.delete(arr = np_arr, obj = 2)\n",
    "np_arr"
   ]
  },
  {
   "cell_type": "code",
   "execution_count": 141,
   "metadata": {
    "id": "G0mU09BKNK0S"
   },
   "outputs": [
    {
     "data": {
      "text/plain": [
       "array([2, 5, 6, 7, 8])"
      ]
     },
     "execution_count": 141,
     "metadata": {},
     "output_type": "execute_result"
    }
   ],
   "source": [
    "np_arr = np.delete(arr = np_arr, obj = [0, 2])\n",
    "np_arr"
   ]
  },
  {
   "cell_type": "code",
   "execution_count": 142,
   "metadata": {
    "id": "bUsyQUDFPCzz"
   },
   "outputs": [
    {
     "data": {
      "text/plain": [
       "array([5, 7])"
      ]
     },
     "execution_count": 142,
     "metadata": {},
     "output_type": "execute_result"
    }
   ],
   "source": [
    "np_arr = np.delete(arr = np_arr, obj = [0, 2, 4])\n",
    "np_arr"
   ]
  },
  {
   "cell_type": "markdown",
   "metadata": {
    "id": "szUkLqhwNTC9"
   },
   "source": [
    "### Example 3\n",
    "Replacing elements in 1D arrays"
   ]
  },
  {
   "cell_type": "code",
   "execution_count": 143,
   "metadata": {
    "id": "3iZLyH7YPqAe"
   },
   "outputs": [
    {
     "data": {
      "text/plain": [
       "array([ 0,  2,  4,  6,  8, 10, -8, -6, -4])"
      ]
     },
     "execution_count": 143,
     "metadata": {},
     "output_type": "execute_result"
    }
   ],
   "source": [
    "np_arr = np.array([0, 2, 4, 6, 8, 10, -8, -6, -4])\n",
    "np_arr"
   ]
  },
  {
   "cell_type": "code",
   "execution_count": 144,
   "metadata": {
    "id": "Tj2kyA7aNalM"
   },
   "outputs": [
    {
     "data": {
      "text/plain": [
       "array([ 0,  5,  4,  6,  8, 10, -8, -6, -4])"
      ]
     },
     "execution_count": 144,
     "metadata": {},
     "output_type": "execute_result"
    }
   ],
   "source": [
    "np_arr[1] = 5\n",
    "np_arr"
   ]
  },
  {
   "cell_type": "code",
   "execution_count": 145,
   "metadata": {
    "id": "3ztN69baOfmn"
   },
   "outputs": [
    {
     "data": {
      "text/plain": [
       "array([-1, -2,  4,  6,  8, 10, -8, -6, -4])"
      ]
     },
     "execution_count": 145,
     "metadata": {},
     "output_type": "execute_result"
    }
   ],
   "source": [
    "np_arr[0:2] = [-1, -2]\n",
    "np_arr"
   ]
  },
  {
   "cell_type": "code",
   "execution_count": 146,
   "metadata": {
    "id": "WmekyLEjP_sS"
   },
   "outputs": [
    {
     "data": {
      "text/plain": [
       "array([ -1,  -2,   4,   6,   8,  10,  -8, 100, 200])"
      ]
     },
     "execution_count": 146,
     "metadata": {},
     "output_type": "execute_result"
    }
   ],
   "source": [
    "np_arr[-2:] = np.array([100, 200])\n",
    "np_arr"
   ]
  },
  {
   "cell_type": "markdown",
   "metadata": {
    "id": "bdaKdFd6S2hT"
   },
   "source": [
    "### Quiz 1 - HW\n",
    "Append `['banana', 'cherry']` to the array `np.array(['apple', 'orange', 'lemon'])`."
   ]
  },
  {
   "cell_type": "code",
   "execution_count": 147,
   "metadata": {
    "id": "3K0mHyjwS2hT"
   },
   "outputs": [
    {
     "data": {
      "text/plain": [
       "array(['apple', 'orange', 'lemon', 'banana', 'cherry'], dtype='<U6')"
      ]
     },
     "execution_count": 147,
     "metadata": {},
     "output_type": "execute_result"
    }
   ],
   "source": [
    "##### CODE HERE #####\n",
    "fruits = np.array(['apple', 'orange', 'lemon'])\n",
    "fruits = np.append(fruits,['banana', 'cherry'])\n",
    "fruits"
   ]
  },
  {
   "cell_type": "markdown",
   "metadata": {
    "id": "T0zGIpjsS2hU"
   },
   "source": [
    "### Quiz 2 - HW\n",
    "Delete `'lemon'` from the above array. Note that for non-numeric arrays, the indices to be deleted must be provided and not the actual object. Try querying a language AI model to understand this better."
   ]
  },
  {
   "cell_type": "code",
   "execution_count": 148,
   "metadata": {
    "id": "utFLIGJRS2hU"
   },
   "outputs": [
    {
     "data": {
      "text/plain": [
       "array(['apple', 'orange', 'banana', 'cherry'], dtype='<U6')"
      ]
     },
     "execution_count": 148,
     "metadata": {},
     "output_type": "execute_result"
    }
   ],
   "source": [
    "##### CODE HERE #####\n",
    "fruits = np.delete(fruits , 2)\n",
    "fruits"
   ]
  },
  {
   "cell_type": "markdown",
   "metadata": {
    "id": "0x_kxwDhS2hV"
   },
   "source": [
    "### Quiz 3 - HW\n",
    "Delete `['apple', 'orange']` from the above array."
   ]
  },
  {
   "cell_type": "code",
   "execution_count": 149,
   "metadata": {
    "id": "gn71GxJZS2hV"
   },
   "outputs": [
    {
     "data": {
      "text/plain": [
       "array(['banana', 'cherry'], dtype='<U6')"
      ]
     },
     "execution_count": 149,
     "metadata": {},
     "output_type": "execute_result"
    }
   ],
   "source": [
    "##### CODE HERE #####\n",
    "fruits = np.delete(fruits, [0,1])\n",
    "fruits"
   ]
  },
  {
   "cell_type": "markdown",
   "metadata": {
    "id": "rLTulxr0S2hW"
   },
   "source": [
    "### Quiz 4 - HW\n",
    "Replace `'cherry'` with `'grape'` in the above array."
   ]
  },
  {
   "cell_type": "code",
   "execution_count": 150,
   "metadata": {
    "id": "ci_cWbCRS2hW"
   },
   "outputs": [
    {
     "data": {
      "text/plain": [
       "array(['banana', 'grape'], dtype='<U6')"
      ]
     },
     "execution_count": 150,
     "metadata": {},
     "output_type": "execute_result"
    }
   ],
   "source": [
    "##### CODE HERE #####\n",
    "fruits[1] = 'grape'\n",
    "fruits"
   ]
  },
  {
   "cell_type": "markdown",
   "metadata": {
    "id": "UxXnAbpJS2hX"
   },
   "source": [
    "Longer strings will require different data types to be stored properly in arrays. Learners are encouraged to study and experiment with the `dtype` parameter. Try querying a language AI model to understand this in further detail."
   ]
  },
  {
   "cell_type": "markdown",
   "metadata": {
    "id": "hrASFX-JQfpD"
   },
   "source": [
    "### Example 4\n",
    "Adding elements to 2D arrays"
   ]
  },
  {
   "cell_type": "code",
   "execution_count": 151,
   "metadata": {
    "id": "6rAks1G9QV0r"
   },
   "outputs": [
    {
     "data": {
      "text/plain": [
       "array([[ 1,  2,  3,  4],\n",
       "       [-4, -3, -2, -1]])"
      ]
     },
     "execution_count": 151,
     "metadata": {},
     "output_type": "execute_result"
    }
   ],
   "source": [
    "np_arr = np.array([[1, 2, 3, 4], [-4, -3, -2, -1]])\n",
    "np_arr"
   ]
  },
  {
   "cell_type": "code",
   "execution_count": 152,
   "metadata": {
    "id": "GmVAkdMXS2hY"
   },
   "outputs": [
    {
     "data": {
      "text/plain": [
       "(2, 4)"
      ]
     },
     "execution_count": 152,
     "metadata": {},
     "output_type": "execute_result"
    }
   ],
   "source": [
    "np_arr.shape"
   ]
  },
  {
   "cell_type": "code",
   "execution_count": 153,
   "metadata": {
    "id": "xTevaI79S2hY"
   },
   "outputs": [
    {
     "data": {
      "text/plain": [
       "array([ 1,  2,  3,  4, -4, -3, -2, -1,  0])"
      ]
     },
     "execution_count": 153,
     "metadata": {},
     "output_type": "execute_result"
    }
   ],
   "source": [
    "np.append(np_arr, 0)"
   ]
  },
  {
   "cell_type": "code",
   "execution_count": 154,
   "metadata": {
    "id": "tYvvIAv6S2hY"
   },
   "outputs": [
    {
     "data": {
      "text/plain": [
       "array([[ 1,  2,  3,  4],\n",
       "       [-4, -3, -2, -1]])"
      ]
     },
     "execution_count": 154,
     "metadata": {},
     "output_type": "execute_result"
    }
   ],
   "source": [
    "np_arr"
   ]
  },
  {
   "cell_type": "code",
   "execution_count": 155,
   "metadata": {
    "id": "fmJDmAMsS2hZ"
   },
   "outputs": [],
   "source": [
    "# np.append(np_arr, 0, axis = 0)"
   ]
  },
  {
   "cell_type": "code",
   "execution_count": 156,
   "metadata": {
    "id": "9hifO-GYS2hZ"
   },
   "outputs": [
    {
     "data": {
      "text/plain": [
       "array([-5,  2,  5,  7])"
      ]
     },
     "execution_count": 156,
     "metadata": {},
     "output_type": "execute_result"
    }
   ],
   "source": [
    "new_arr = np.array([-5, 2, 5, 7])\n",
    "new_arr"
   ]
  },
  {
   "cell_type": "code",
   "execution_count": 157,
   "metadata": {
    "id": "AGCSqHAvS2hZ"
   },
   "outputs": [
    {
     "data": {
      "text/plain": [
       "(4,)"
      ]
     },
     "execution_count": 157,
     "metadata": {},
     "output_type": "execute_result"
    }
   ],
   "source": [
    "new_arr.shape"
   ]
  },
  {
   "cell_type": "code",
   "execution_count": 158,
   "metadata": {
    "id": "cIWpDcn-QVwV"
   },
   "outputs": [],
   "source": [
    "# np.append(np_arr, new_arr, axis = 0)"
   ]
  },
  {
   "cell_type": "markdown",
   "metadata": {
    "id": "DxGnXDIfS2ha"
   },
   "source": [
    "We need to use the `reshape` method to handle this."
   ]
  },
  {
   "cell_type": "code",
   "execution_count": 159,
   "metadata": {
    "id": "RJ8m77BBS2hb"
   },
   "outputs": [
    {
     "data": {
      "text/plain": [
       "array([[-5,  2,  5,  7]])"
      ]
     },
     "execution_count": 159,
     "metadata": {},
     "output_type": "execute_result"
    }
   ],
   "source": [
    "new_arr.reshape(1, 4)"
   ]
  },
  {
   "cell_type": "code",
   "execution_count": 160,
   "metadata": {
    "id": "23wp2yT6S2hb"
   },
   "outputs": [
    {
     "data": {
      "text/plain": [
       "array([-5,  2,  5,  7])"
      ]
     },
     "execution_count": 160,
     "metadata": {},
     "output_type": "execute_result"
    }
   ],
   "source": [
    "new_arr"
   ]
  },
  {
   "cell_type": "code",
   "execution_count": 161,
   "metadata": {
    "id": "GZJGlAEkS2hb"
   },
   "outputs": [
    {
     "data": {
      "text/plain": [
       "array([[-5,  2,  5,  7]])"
      ]
     },
     "execution_count": 161,
     "metadata": {},
     "output_type": "execute_result"
    }
   ],
   "source": [
    "new_arr = new_arr.reshape(1, 4)\n",
    "new_arr"
   ]
  },
  {
   "cell_type": "code",
   "execution_count": 162,
   "metadata": {
    "id": "7Z7cNCrfS2hb"
   },
   "outputs": [
    {
     "data": {
      "text/plain": [
       "(1, 4)"
      ]
     },
     "execution_count": 162,
     "metadata": {},
     "output_type": "execute_result"
    }
   ],
   "source": [
    "new_arr.shape"
   ]
  },
  {
   "cell_type": "code",
   "execution_count": 163,
   "metadata": {
    "id": "pIELlK8WS2hc"
   },
   "outputs": [
    {
     "data": {
      "text/plain": [
       "array([[ 1,  2,  3,  4],\n",
       "       [-4, -3, -2, -1],\n",
       "       [-5,  2,  5,  7]])"
      ]
     },
     "execution_count": 163,
     "metadata": {},
     "output_type": "execute_result"
    }
   ],
   "source": [
    "np_arr = np.append(np_arr, new_arr, axis = 0)\n",
    "np_arr"
   ]
  },
  {
   "cell_type": "code",
   "execution_count": 164,
   "metadata": {
    "id": "OBci99lxS2hc"
   },
   "outputs": [
    {
     "data": {
      "text/plain": [
       "(3, 4)"
      ]
     },
     "execution_count": 164,
     "metadata": {},
     "output_type": "execute_result"
    }
   ],
   "source": [
    "np_arr.shape"
   ]
  },
  {
   "cell_type": "code",
   "execution_count": 165,
   "metadata": {
    "id": "plYdSdBBS2hc"
   },
   "outputs": [
    {
     "data": {
      "text/plain": [
       "array([[ 2],\n",
       "       [-3],\n",
       "       [ 4]])"
      ]
     },
     "execution_count": 165,
     "metadata": {},
     "output_type": "execute_result"
    }
   ],
   "source": [
    "new_arr = np.array([[2], [-3], [4]])\n",
    "new_arr"
   ]
  },
  {
   "cell_type": "code",
   "execution_count": 166,
   "metadata": {
    "id": "BqRSa6hDS2hc"
   },
   "outputs": [
    {
     "data": {
      "text/plain": [
       "array([[ 1,  2,  3,  4,  2],\n",
       "       [-4, -3, -2, -1, -3],\n",
       "       [-5,  2,  5,  7,  4]])"
      ]
     },
     "execution_count": 166,
     "metadata": {},
     "output_type": "execute_result"
    }
   ],
   "source": [
    "np_arr = np.append(np_arr, new_arr, axis = 1)\n",
    "np_arr"
   ]
  },
  {
   "cell_type": "code",
   "execution_count": 167,
   "metadata": {
    "id": "7sLqICb5S2hc"
   },
   "outputs": [
    {
     "data": {
      "text/plain": [
       "(3, 5)"
      ]
     },
     "execution_count": 167,
     "metadata": {},
     "output_type": "execute_result"
    }
   ],
   "source": [
    "np_arr.shape"
   ]
  },
  {
   "cell_type": "code",
   "execution_count": 168,
   "metadata": {
    "id": "nhyjAqb4S2hd"
   },
   "outputs": [
    {
     "data": {
      "text/plain": [
       "array([[ 5,  9],\n",
       "       [-4, -2],\n",
       "       [ 7,  1]])"
      ]
     },
     "execution_count": 168,
     "metadata": {},
     "output_type": "execute_result"
    }
   ],
   "source": [
    "new_arr = np.array([[5, 9], [-4, -2], [7, 1]])\n",
    "new_arr"
   ]
  },
  {
   "cell_type": "code",
   "execution_count": 169,
   "metadata": {
    "id": "WeRDiuQgS2hd"
   },
   "outputs": [
    {
     "data": {
      "text/plain": [
       "array([[ 1,  2,  3,  4,  2,  5,  9],\n",
       "       [-4, -3, -2, -1, -3, -4, -2],\n",
       "       [-5,  2,  5,  7,  4,  7,  1]])"
      ]
     },
     "execution_count": 169,
     "metadata": {},
     "output_type": "execute_result"
    }
   ],
   "source": [
    "np_arr = np.append(np_arr, new_arr, axis = 1)\n",
    "np_arr"
   ]
  },
  {
   "cell_type": "code",
   "execution_count": 170,
   "metadata": {
    "id": "VPEnrD9CS2hd"
   },
   "outputs": [
    {
     "data": {
      "text/plain": [
       "(3, 7)"
      ]
     },
     "execution_count": 170,
     "metadata": {},
     "output_type": "execute_result"
    }
   ],
   "source": [
    "np_arr.shape"
   ]
  },
  {
   "cell_type": "code",
   "execution_count": 171,
   "metadata": {
    "id": "G8A8edPWS2he"
   },
   "outputs": [
    {
     "data": {
      "text/plain": [
       "array([[ 8,  4, -3,  4, -6,  8,  0],\n",
       "       [-4,  1,  1, -5,  7, -3, -2],\n",
       "       [-5,  2, -6,  3,  3,  4,  2]])"
      ]
     },
     "execution_count": 171,
     "metadata": {},
     "output_type": "execute_result"
    }
   ],
   "source": [
    "new_arr = np.array([[8, 4, -3, 4, -6, 8, 0], [-4, 1, 1, -5, 7, -3, -2], [-5, 2, -6, 3, 3, 4, 2]])\n",
    "new_arr"
   ]
  },
  {
   "cell_type": "code",
   "execution_count": 172,
   "metadata": {
    "id": "F2zR71UJS2he"
   },
   "outputs": [
    {
     "data": {
      "text/plain": [
       "array([[ 1,  2,  3,  4,  2,  5,  9],\n",
       "       [-4, -3, -2, -1, -3, -4, -2],\n",
       "       [-5,  2,  5,  7,  4,  7,  1],\n",
       "       [ 8,  4, -3,  4, -6,  8,  0],\n",
       "       [-4,  1,  1, -5,  7, -3, -2],\n",
       "       [-5,  2, -6,  3,  3,  4,  2]])"
      ]
     },
     "execution_count": 172,
     "metadata": {},
     "output_type": "execute_result"
    }
   ],
   "source": [
    "np_arr = np.append(np_arr, new_arr, axis = 0)\n",
    "np_arr"
   ]
  },
  {
   "cell_type": "code",
   "execution_count": 173,
   "metadata": {
    "id": "CmiHZAaRS2he"
   },
   "outputs": [
    {
     "data": {
      "text/plain": [
       "(6, 7)"
      ]
     },
     "execution_count": 173,
     "metadata": {},
     "output_type": "execute_result"
    }
   ],
   "source": [
    "np_arr.shape"
   ]
  },
  {
   "cell_type": "markdown",
   "metadata": {
    "id": "bYu-tnK_S2hf"
   },
   "source": [
    "Try querying a language AI model to understand more about the `reshape` method. Another method of interest here is the `flatten` method."
   ]
  },
  {
   "cell_type": "markdown",
   "metadata": {
    "id": "NKUQ7VyJS2hf"
   },
   "source": [
    "### Quiz 5\n",
    "Consider the array shown below:\n",
    "```\n",
    "np_arr = np.array([5, 7, -2, 3])\n",
    "```\n",
    "Transform `np_arr` to the array shown below:\n",
    "```\n",
    "np.array([[5, 7], [-2, 3]])\n",
    "```"
   ]
  },
  {
   "cell_type": "code",
   "execution_count": 174,
   "metadata": {
    "id": "OMDrBK_FS2hf"
   },
   "outputs": [
    {
     "data": {
      "text/plain": [
       "array([[ 5,  7],\n",
       "       [-2,  3]])"
      ]
     },
     "execution_count": 174,
     "metadata": {},
     "output_type": "execute_result"
    }
   ],
   "source": [
    "np_arr = np.array([5, 7, -2, 3])\n",
    "result = np_arr.reshape(2,2)\n",
    "result"
   ]
  },
  {
   "cell_type": "markdown",
   "metadata": {
    "id": "CnG-pBYkS2hg"
   },
   "source": [
    "### Quiz 6\n",
    "Consider the array shown below:\n",
    "```\n",
    "np_arr = np.array([5, 7, -2, 3])\n",
    "```\n",
    "Transform `np_arr` to the array shown below:\n",
    "```\n",
    "np.array([[5, -2], [7, 3]])\n",
    "```\n",
    "Try querying a language AI model to help you out."
   ]
  },
  {
   "cell_type": "code",
   "execution_count": 175,
   "metadata": {
    "id": "Txev951oS2hg"
   },
   "outputs": [
    {
     "name": "stdout",
     "output_type": "stream",
     "text": [
      "[[ 5 -2]\n",
      " [ 7  3]]\n"
     ]
    }
   ],
   "source": [
    "np_arr = np.array([5, 7, -2, 3])\n",
    "result = np_arr.reshape(2,2)\n",
    "result.transpose()\n",
    "print(result.T) # 'T' is shortcut for 'transpose'"
   ]
  },
  {
   "cell_type": "markdown",
   "metadata": {
    "id": "qrG8SS84S2hg"
   },
   "source": [
    "### Quiz 7\n",
    "Consider the array shown below:\n",
    "```\n",
    "np_arr = np.array([[-5, 4], [3, -1], [6, -3]])\n",
    "```\n",
    "Transform `np_arr` to the array shown below:\n",
    "```\n",
    "np.array([[-5, 4, 2, 1], [3, -1, 7, 4], [6, -3, 5, -5], [-3, -5, 4, 8])\n",
    "```\n",
    "Feel free to use a combination of operations and methods to perform this task. Take help from a language AI model if required."
   ]
  },
  {
   "cell_type": "code",
   "execution_count": 176,
   "metadata": {
    "id": "_BhFnVr_S2hh"
   },
   "outputs": [
    {
     "data": {
      "text/plain": [
       "array([[-5,  4,  2,  1],\n",
       "       [ 3, -1,  7,  4],\n",
       "       [ 6, -3,  5, -5],\n",
       "       [-3, -5,  4,  8]])"
      ]
     },
     "execution_count": 176,
     "metadata": {},
     "output_type": "execute_result"
    }
   ],
   "source": [
    "np_arr = np.array([[-5, 4], [3, -1], [6, -3]])\n",
    "np_new = np.array([[2,1], [7,4], [5, -5]])\n",
    "np_arr = np.append(np_arr, np_new, axis=1)\n",
    "np_arr = np.append(np_arr, np.array([[-3, -5, 4, 8]]), axis=0)\n",
    "np_arr"
   ]
  },
  {
   "cell_type": "markdown",
   "metadata": {
    "id": "n24V4OGbS2hh"
   },
   "source": [
    "### Quiz 8 - HW\n",
    "Consider the array shown below:\n",
    "```\n",
    "np_arr = np.array([[4.7, 1.4, -4.6], [2.6, -1.2, -2], [6.6, -3.2, 4.9]])\n",
    "```\n",
    "Transform `np_arr` to the array shown below:\n",
    "```\n",
    "np.array([[4.7, 1.4, -4.6, -1.2], [2.6, -1.2, -2, 2.8], [6.6, -3.2, 4.9, 0.7], [-3.2, -5.1, 4.7, 10.5])\n",
    "```\n",
    "Feel free to use a combination of operations and methods to perform this task. Take help from a language AI model if required."
   ]
  },
  {
   "cell_type": "code",
   "execution_count": 177,
   "metadata": {
    "id": "Cv1vTPlrS2hh"
   },
   "outputs": [
    {
     "name": "stdout",
     "output_type": "stream",
     "text": [
      "[[ 4.7  1.4 -4.6 -1.2]\n",
      " [ 2.6 -1.2 -2.   2.8]\n",
      " [ 6.6 -3.2  4.9  0.7]\n",
      " [-3.2 -5.1  4.7 10.5]]\n"
     ]
    }
   ],
   "source": [
    "np_arr = np.array([[4.7, 1.4, -4.6], [2.6, -1.2, -2], [6.6, -3.2, 4.9]])\n",
    "newEle = np.array([[-1.2, 2.8, 0.7]]).reshape(3,1)\n",
    "newRow = np.array([[-3.2, -5.1, 4.7, 10.5]])\n",
    "np_arr = np.append(np_arr, newEle, axis=1)\n",
    "np_arr = np.append(np_arr, newRow, axis=0)\n",
    "print(np_arr)"
   ]
  },
  {
   "cell_type": "markdown",
   "metadata": {
    "id": "QsUPx3urS2hi"
   },
   "source": [
    "### Example 5\n",
    "Deleting elements from 2D arrays"
   ]
  },
  {
   "cell_type": "code",
   "execution_count": 178,
   "metadata": {
    "id": "1dqpa7-YS2hi"
   },
   "outputs": [
    {
     "data": {
      "text/plain": [
       "array([[ 4.7,  1.4, -4.6],\n",
       "       [ 2.6, -1.2, -2. ],\n",
       "       [ 6.6, -3.2,  4.9]])"
      ]
     },
     "execution_count": 178,
     "metadata": {},
     "output_type": "execute_result"
    }
   ],
   "source": [
    "np_arr = np.array([[4.7, 1.4, -4.6], [2.6, -1.2, -2], [6.6, -3.2, 4.9]])\n",
    "np_arr"
   ]
  },
  {
   "cell_type": "code",
   "execution_count": 179,
   "metadata": {
    "id": "GXZNph1xS2hi"
   },
   "outputs": [
    {
     "data": {
      "text/plain": [
       "array([ 1.4, -4.6,  2.6, -1.2, -2. ,  6.6, -3.2,  4.9])"
      ]
     },
     "execution_count": 179,
     "metadata": {},
     "output_type": "execute_result"
    }
   ],
   "source": [
    "np.delete(np_arr, 0)"
   ]
  },
  {
   "cell_type": "code",
   "execution_count": 180,
   "metadata": {
    "id": "Xstj9I1pS2hi"
   },
   "outputs": [
    {
     "data": {
      "text/plain": [
       "array([[ 4.7,  1.4, -4.6],\n",
       "       [ 2.6, -1.2, -2. ],\n",
       "       [ 6.6, -3.2,  4.9]])"
      ]
     },
     "execution_count": 180,
     "metadata": {},
     "output_type": "execute_result"
    }
   ],
   "source": [
    "np_arr"
   ]
  },
  {
   "cell_type": "code",
   "execution_count": 181,
   "metadata": {
    "id": "c1VoaOUQS2hj"
   },
   "outputs": [
    {
     "data": {
      "text/plain": [
       "array([[ 2.6, -1.2, -2. ],\n",
       "       [ 6.6, -3.2,  4.9]])"
      ]
     },
     "execution_count": 181,
     "metadata": {},
     "output_type": "execute_result"
    }
   ],
   "source": [
    "np.delete(np_arr, 0, axis = 0)"
   ]
  },
  {
   "cell_type": "code",
   "execution_count": 182,
   "metadata": {
    "id": "Tm6zbCcbS2hj"
   },
   "outputs": [
    {
     "data": {
      "text/plain": [
       "array([[ 4.7,  1.4, -4.6],\n",
       "       [ 2.6, -1.2, -2. ],\n",
       "       [ 6.6, -3.2,  4.9]])"
      ]
     },
     "execution_count": 182,
     "metadata": {},
     "output_type": "execute_result"
    }
   ],
   "source": [
    "np_arr"
   ]
  },
  {
   "cell_type": "code",
   "execution_count": 183,
   "metadata": {
    "id": "OW9YP3lrS2hk"
   },
   "outputs": [],
   "source": [
    "np_arr = np.delete(np_arr, 0, axis = 0)"
   ]
  },
  {
   "cell_type": "code",
   "execution_count": 184,
   "metadata": {
    "id": "ADLM32xaS2hk"
   },
   "outputs": [
    {
     "data": {
      "text/plain": [
       "array([[ 2.6, -1.2, -2. ],\n",
       "       [ 6.6, -3.2,  4.9]])"
      ]
     },
     "execution_count": 184,
     "metadata": {},
     "output_type": "execute_result"
    }
   ],
   "source": [
    "np_arr"
   ]
  },
  {
   "cell_type": "code",
   "execution_count": 185,
   "metadata": {
    "id": "xncSEsXSS2hk"
   },
   "outputs": [
    {
     "data": {
      "text/plain": [
       "array([], shape=(0, 3), dtype=float64)"
      ]
     },
     "execution_count": 185,
     "metadata": {},
     "output_type": "execute_result"
    }
   ],
   "source": [
    "np_arr = np.delete(np_arr, [0, 1], axis = 0)\n",
    "np_arr"
   ]
  },
  {
   "cell_type": "code",
   "execution_count": 186,
   "metadata": {
    "id": "skwHrwgxS2hl"
   },
   "outputs": [
    {
     "data": {
      "text/plain": [
       "array([[ 4.7,  1.4, -4.6],\n",
       "       [ 2.6, -1.2, -2. ],\n",
       "       [ 6.6, -3.2,  4.9]])"
      ]
     },
     "execution_count": 186,
     "metadata": {},
     "output_type": "execute_result"
    }
   ],
   "source": [
    "np_arr = np.array([[4.7, 1.4, -4.6], [2.6, -1.2, -2], [6.6, -3.2, 4.9]])\n",
    "np_arr"
   ]
  },
  {
   "cell_type": "code",
   "execution_count": 187,
   "metadata": {
    "id": "l4RcBFY2S2hl"
   },
   "outputs": [
    {
     "data": {
      "text/plain": [
       "array([[ 4.7, -4.6],\n",
       "       [ 2.6, -2. ],\n",
       "       [ 6.6,  4.9]])"
      ]
     },
     "execution_count": 187,
     "metadata": {},
     "output_type": "execute_result"
    }
   ],
   "source": [
    "np_arr = np.delete(np_arr, 1, axis = 1)\n",
    "np_arr"
   ]
  },
  {
   "cell_type": "code",
   "execution_count": 188,
   "metadata": {
    "id": "35Dl7qMYS2hl"
   },
   "outputs": [
    {
     "data": {
      "text/plain": [
       "array([], shape=(3, 0), dtype=float64)"
      ]
     },
     "execution_count": 188,
     "metadata": {},
     "output_type": "execute_result"
    }
   ],
   "source": [
    "np_arr = np.delete(np_arr, [0, 1], axis = 1)\n",
    "np_arr"
   ]
  },
  {
   "cell_type": "markdown",
   "metadata": {
    "id": "kruQbYIIS2hm"
   },
   "source": [
    "### Quiz 9 - HW\n",
    "Can we delete individual elements from arrays?"
   ]
  },
  {
   "cell_type": "code",
   "execution_count": 189,
   "metadata": {
    "id": "iyFFKZXeS2hm"
   },
   "outputs": [
    {
     "data": {
      "text/plain": [
       "array([ 4.7,  1.4, -4.6,  2.6, -1.2,  6.6, -3.2,  4.9])"
      ]
     },
     "execution_count": 189,
     "metadata": {},
     "output_type": "execute_result"
    }
   ],
   "source": [
    "##### CODE HERE #####\n",
    "np_arr = np.array([[4.7, 1.4, -4.6], [2.6, -1.2, -2], [6.6, -3.2, 4.9]])\n",
    "np_arr = np.delete(np_arr, 5) # use flat index to delete individual elements\n",
    "np_arr"
   ]
  },
  {
   "cell_type": "markdown",
   "metadata": {
    "id": "J8PhLK7HS2hm"
   },
   "source": [
    "### Example 6\n",
    "Replacing elements in 2D arrays"
   ]
  },
  {
   "cell_type": "code",
   "execution_count": 190,
   "metadata": {
    "id": "AL6Rz7TFS2hn"
   },
   "outputs": [
    {
     "data": {
      "text/plain": [
       "array([[ 4.7,  1.4, -4.6],\n",
       "       [ 2.6, -1.2, -2. ],\n",
       "       [ 6.6, -3.2,  4.9]])"
      ]
     },
     "execution_count": 190,
     "metadata": {},
     "output_type": "execute_result"
    }
   ],
   "source": [
    "np_arr = np.array([[4.7, 1.4, -4.6], [2.6, -1.2, -2], [6.6, -3.2, 4.9]])\n",
    "np_arr"
   ]
  },
  {
   "cell_type": "code",
   "execution_count": 191,
   "metadata": {
    "id": "LumUKvs_S2hn"
   },
   "outputs": [
    {
     "data": {
      "text/plain": [
       "array([[-0.5,  2.5,  1.7],\n",
       "       [ 2.6, -1.2, -2. ],\n",
       "       [ 6.6, -3.2,  4.9]])"
      ]
     },
     "execution_count": 191,
     "metadata": {},
     "output_type": "execute_result"
    }
   ],
   "source": [
    "np_arr[0] = [-0.5, 2.5, 1.7]\n",
    "np_arr"
   ]
  },
  {
   "cell_type": "code",
   "execution_count": 192,
   "metadata": {
    "id": "2SGks6JsS2hn"
   },
   "outputs": [
    {
     "data": {
      "text/plain": [
       "array([[ 1.5,  2.5,  1.7],\n",
       "       [-2.4, -1.2, -2. ],\n",
       "       [ 5.2, -3.2,  4.9]])"
      ]
     },
     "execution_count": 192,
     "metadata": {},
     "output_type": "execute_result"
    }
   ],
   "source": [
    "np_arr[:, 0] = [1.5, -2.4, 5.2]\n",
    "np_arr"
   ]
  },
  {
   "cell_type": "code",
   "execution_count": 193,
   "metadata": {
    "id": "W2BOYGzqS2hn"
   },
   "outputs": [],
   "source": [
    "# np_arr[:, 1:] = [[0.6, 1.5, 4.3], [0.8, -5.4, -4.3]]"
   ]
  },
  {
   "cell_type": "code",
   "execution_count": 194,
   "metadata": {
    "id": "c7yi-0HCS2hn"
   },
   "outputs": [
    {
     "data": {
      "text/plain": [
       "array([[ 1.5,  0.6,  1.5],\n",
       "       [-2.4,  4.3,  0.8],\n",
       "       [ 5.2, -5.4, -4.3]])"
      ]
     },
     "execution_count": 194,
     "metadata": {},
     "output_type": "execute_result"
    }
   ],
   "source": [
    "np_arr[:, 1:] = np.array([[0.6, 1.5, 4.3], [0.8, -5.4, -4.3]]).reshape(3, 2)\n",
    "np_arr"
   ]
  },
  {
   "cell_type": "markdown",
   "metadata": {
    "id": "0BvAXFxCS2ho"
   },
   "source": [
    "The elements are being placed in the correct columns but in the wrong way. We need to use the `transpose` method to achieve the desired result."
   ]
  },
  {
   "cell_type": "code",
   "execution_count": 195,
   "metadata": {
    "id": "Nypi2W18S2ho"
   },
   "outputs": [
    {
     "data": {
      "text/plain": [
       "array([[ 1.5,  0.6,  0.8],\n",
       "       [-2.4,  1.5, -5.4],\n",
       "       [ 5.2,  4.3, -4.3]])"
      ]
     },
     "execution_count": 195,
     "metadata": {},
     "output_type": "execute_result"
    }
   ],
   "source": [
    "np_arr[:, 1:] = np.array([[0.6, 1.5, 4.3], [0.8, -5.4, -4.3]]).transpose().reshape(3, 2)\n",
    "np_arr"
   ]
  },
  {
   "cell_type": "markdown",
   "metadata": {
    "id": "DIMKlUJES2ho"
   },
   "source": [
    "Another way to achieve this woudl be to define the array to be appended in the right shape, that is $(3, 2)$ at the beginning."
   ]
  },
  {
   "cell_type": "code",
   "execution_count": 196,
   "metadata": {
    "id": "7i6_ZSh_S2ho"
   },
   "outputs": [
    {
     "name": "stdout",
     "output_type": "stream",
     "text": [
      "[[ 1  2]\n",
      " [ 3 -2]\n",
      " [ 0  5]] (3, 2)\n"
     ]
    }
   ],
   "source": [
    "np_arr = np.array([[1, 2], [3, -2], [0, 5]])\n",
    "print(np_arr, np_arr.shape)"
   ]
  },
  {
   "cell_type": "code",
   "execution_count": 197,
   "metadata": {
    "id": "JSsWvIU5S2ho"
   },
   "outputs": [
    {
     "name": "stdout",
     "output_type": "stream",
     "text": [
      "[[ 1  3  0]\n",
      " [ 2 -2  5]] (2, 3)\n"
     ]
    }
   ],
   "source": [
    "np_arr = np.array([[1, 2], [3, -2], [0, 5]]).transpose()\n",
    "print(np_arr, np_arr.shape)"
   ]
  },
  {
   "cell_type": "code",
   "execution_count": 198,
   "metadata": {
    "id": "DQmxGWkNS2ho"
   },
   "outputs": [
    {
     "name": "stdout",
     "output_type": "stream",
     "text": [
      "[[ 1  3  0  2 -2  5]] (1, 6)\n"
     ]
    }
   ],
   "source": [
    "np_arr = np.array([[1, 2], [3, -2], [0, 5]]).transpose().reshape(1, 6)\n",
    "print(np_arr, np_arr.shape)"
   ]
  },
  {
   "cell_type": "code",
   "execution_count": 199,
   "metadata": {
    "id": "WU0BOY8ZS2hr",
    "scrolled": true
   },
   "outputs": [
    {
     "data": {
      "text/plain": [
       "array([[[ 0,  5, 17],\n",
       "        [ 0,  6, 18],\n",
       "        [ 0,  8, 22],\n",
       "        ...,\n",
       "        [ 2,  5, 24],\n",
       "        [ 5,  4, 20],\n",
       "        [ 3,  1, 15]],\n",
       "\n",
       "       [[ 0,  4, 16],\n",
       "        [ 0,  5, 17],\n",
       "        [ 0,  8, 22],\n",
       "        ...,\n",
       "        [ 1,  6, 25],\n",
       "        [ 5,  6, 24],\n",
       "        [ 4,  2, 16]],\n",
       "\n",
       "       [[ 0,  6, 20],\n",
       "        [ 0,  8, 22],\n",
       "        [ 0, 11, 26],\n",
       "        ...,\n",
       "        [ 4,  9, 29],\n",
       "        [ 8,  9, 29],\n",
       "        [ 7,  4, 21]],\n",
       "\n",
       "       ...,\n",
       "\n",
       "       [[ 2,  6, 17],\n",
       "        [ 2,  9, 19],\n",
       "        [ 5, 11, 23],\n",
       "        ...,\n",
       "        [11, 16, 22],\n",
       "        [13, 14, 18],\n",
       "        [ 5,  7,  6]],\n",
       "\n",
       "       [[ 1,  2,  7],\n",
       "        [ 1,  4, 11],\n",
       "        [ 3,  6, 15],\n",
       "        ...,\n",
       "        [17, 16, 21],\n",
       "        [17, 16, 14],\n",
       "        [10,  6,  3]],\n",
       "\n",
       "       [[ 6,  5, 10],\n",
       "        [ 4,  3,  8],\n",
       "        [ 4,  3,  9],\n",
       "        ...,\n",
       "        [19, 17, 18],\n",
       "        [23, 19, 16],\n",
       "        [12,  7,  3]]], shape=(25, 25, 3), dtype=uint8)"
      ]
     },
     "execution_count": 199,
     "metadata": {},
     "output_type": "execute_result"
    }
   ],
   "source": [
    "img"
   ]
  },
  {
   "cell_type": "code",
   "execution_count": 200,
   "metadata": {
    "id": "xD-EkXUpS2ht"
   },
   "outputs": [
    {
     "data": {
      "text/plain": [
       "(25, 25, 3)"
      ]
     },
     "execution_count": 200,
     "metadata": {},
     "output_type": "execute_result"
    }
   ],
   "source": [
    "img.shape"
   ]
  },
  {
   "cell_type": "code",
   "execution_count": 201,
   "metadata": {
    "id": "pnn7QdmpS2ht",
    "scrolled": true
   },
   "outputs": [
    {
     "data": {
      "text/plain": [
       "array([[[  0,   5,  17],\n",
       "        [  0,   6,  18],\n",
       "        [  0,   8,  22],\n",
       "        [  0,  12,  26],\n",
       "        [  0,  17,  34],\n",
       "        [  2,  25,  43],\n",
       "        [  5,  30,  50],\n",
       "        [  7,  35,  57],\n",
       "        [  9,  36,  63],\n",
       "        [  3,  34,  63],\n",
       "        [  2,  33,  64],\n",
       "        [  3,  38,  70],\n",
       "        [  8,  42,  79],\n",
       "        [  9,  45,  81],\n",
       "        [  7,  42,  80],\n",
       "        [  4,  38,  73],\n",
       "        [  0,  32,  57],\n",
       "        [  4,  35,  56],\n",
       "        [  8,  35,  56],\n",
       "        [  6,  28,  49],\n",
       "        [  2,  17,  38],\n",
       "        [  0,   9,  27],\n",
       "        [  2,   5,  24],\n",
       "        [  5,   4,  20],\n",
       "        [  3,   1,  15]],\n",
       "\n",
       "       [[  0,   4,  16],\n",
       "        [  0,   5,  17],\n",
       "        [  0,   8,  22],\n",
       "        [  0,  13,  28],\n",
       "        [  0,  20,  37],\n",
       "        [  5,  28,  46],\n",
       "        [ 10,  35,  57],\n",
       "        [ 12,  40,  62],\n",
       "        [  6,  36,  62],\n",
       "        [  6,  37,  66],\n",
       "        [  8,  41,  72],\n",
       "        [ 13,  48,  80],\n",
       "        [ 17,  53,  89],\n",
       "        [ 14,  52,  88],\n",
       "        [  6,  44,  81],\n",
       "        [  1,  37,  71],\n",
       "        [  0,  33,  60],\n",
       "        [  5,  36,  57],\n",
       "        [  9,  35,  58],\n",
       "        [  8,  30,  53],\n",
       "        [  3,  20,  40],\n",
       "        [  0,  11,  31],\n",
       "        [  1,   6,  25],\n",
       "        [  5,   6,  24],\n",
       "        [  4,   2,  16]],\n",
       "\n",
       "       [[  0,   6,  20],\n",
       "        [  0,   8,  22],\n",
       "        [  0,  11,  26],\n",
       "        [  0,  16,  31],\n",
       "        [  3,  24,  41],\n",
       "        [  8,  34,  51],\n",
       "        [ 13,  40,  61],\n",
       "        [ 16,  44,  68],\n",
       "        [  8,  38,  64],\n",
       "        [ 10,  41,  70],\n",
       "        [ 14,  49,  79],\n",
       "        [ 21,  57,  89],\n",
       "        [ 24,  62,  98],\n",
       "        [ 19,  59,  94],\n",
       "        [  8,  48,  84],\n",
       "        [  0,  38,  71],\n",
       "        [  1,  37,  63],\n",
       "        [  7,  39,  60],\n",
       "        [ 11,  39,  61],\n",
       "        [ 11,  33,  56],\n",
       "        [  6,  22,  45],\n",
       "        [  3,  14,  36],\n",
       "        [  4,   9,  29],\n",
       "        [  8,   9,  29],\n",
       "        [  7,   4,  21]],\n",
       "\n",
       "       [[  0,  15,  29],\n",
       "        [  0,  16,  30],\n",
       "        [  0,  18,  33],\n",
       "        [  1,  22,  39],\n",
       "        [  6,  29,  47],\n",
       "        [ 10,  35,  55],\n",
       "        [ 14,  40,  63],\n",
       "        [ 15,  45,  69],\n",
       "        [ 14,  45,  73],\n",
       "        [ 11,  46,  74],\n",
       "        [ 13,  49,  81],\n",
       "        [ 17,  56,  89],\n",
       "        [ 20,  60,  95],\n",
       "        [ 16,  59,  94],\n",
       "        [  7,  51,  88],\n",
       "        [  0,  43,  77],\n",
       "        [  4,  41,  68],\n",
       "        [  9,  44,  66],\n",
       "        [ 15,  43,  67],\n",
       "        [ 12,  36,  60],\n",
       "        [  9,  27,  51],\n",
       "        [  5,  17,  41],\n",
       "        [  7,  13,  35],\n",
       "        [ 11,  13,  34],\n",
       "        [ 10,   9,  27]],\n",
       "\n",
       "       [[  7,  26,  41],\n",
       "        [  7,  26,  41],\n",
       "        [  8,  27,  44],\n",
       "        [  7,  28,  45],\n",
       "        [ 10,  33,  51],\n",
       "        [ 11,  38,  57],\n",
       "        [ 14,  42,  64],\n",
       "        [ 13,  45,  68],\n",
       "        [ 22,  56,  83],\n",
       "        [ 15,  52,  79],\n",
       "        [  8,  47,  78],\n",
       "        [  5,  48,  80],\n",
       "        [  7,  51,  86],\n",
       "        [  9,  55,  91],\n",
       "        [  6,  54,  90],\n",
       "        [  6,  50,  85],\n",
       "        [  6,  45,  74],\n",
       "        [ 12,  48,  72],\n",
       "        [ 17,  47,  73],\n",
       "        [ 16,  42,  67],\n",
       "        [ 11,  31,  56],\n",
       "        [  8,  22,  48],\n",
       "        [ 10,  18,  41],\n",
       "        [ 13,  18,  40],\n",
       "        [ 12,  13,  33]],\n",
       "\n",
       "       [[ 12,  31,  46],\n",
       "        [ 12,  31,  46],\n",
       "        [ 10,  31,  48],\n",
       "        [ 11,  34,  52],\n",
       "        [ 12,  37,  57],\n",
       "        [ 16,  43,  64],\n",
       "        [ 17,  47,  71],\n",
       "        [ 16,  50,  75],\n",
       "        [ 27,  64,  91],\n",
       "        [ 16,  57,  85],\n",
       "        [  5,  48,  80],\n",
       "        [  0,  46,  79],\n",
       "        [  1,  49,  85],\n",
       "        [  5,  55,  90],\n",
       "        [  5,  57,  94],\n",
       "        [  8,  57,  90],\n",
       "        [  7,  51,  80],\n",
       "        [ 15,  52,  78],\n",
       "        [ 18,  52,  79],\n",
       "        [ 18,  45,  72],\n",
       "        [ 14,  35,  62],\n",
       "        [ 10,  26,  52],\n",
       "        [ 12,  22,  49],\n",
       "        [ 16,  22,  46],\n",
       "        [ 15,  17,  40]],\n",
       "\n",
       "       [[  9,  28,  45],\n",
       "        [ 10,  29,  46],\n",
       "        [ 10,  31,  50],\n",
       "        [ 13,  36,  54],\n",
       "        [ 16,  43,  64],\n",
       "        [ 22,  50,  72],\n",
       "        [ 25,  57,  82],\n",
       "        [ 26,  62,  88],\n",
       "        [ 27,  66,  95],\n",
       "        [ 18,  62,  91],\n",
       "        [ 10,  56,  89],\n",
       "        [  6,  56,  89],\n",
       "        [  7,  60,  94],\n",
       "        [  8,  62,  98],\n",
       "        [  5,  61,  98],\n",
       "        [  4,  58,  92],\n",
       "        [  9,  54,  85],\n",
       "        [ 16,  55,  84],\n",
       "        [ 20,  55,  85],\n",
       "        [ 18,  49,  78],\n",
       "        [ 14,  39,  69],\n",
       "        [ 10,  30,  57],\n",
       "        [ 12,  26,  53],\n",
       "        [ 15,  25,  50],\n",
       "        [ 15,  21,  45]],\n",
       "\n",
       "       [[  3,  21,  41],\n",
       "        [  3,  24,  43],\n",
       "        [  7,  30,  48],\n",
       "        [ 12,  37,  57],\n",
       "        [ 19,  47,  69],\n",
       "        [ 25,  57,  80],\n",
       "        [ 30,  66,  92],\n",
       "        [ 32,  72,  98],\n",
       "        [ 23,  67,  96],\n",
       "        [ 18,  65,  95],\n",
       "        [ 14,  64,  97],\n",
       "        [ 14,  68, 102],\n",
       "        [ 15,  71, 106],\n",
       "        [ 10,  70, 106],\n",
       "        [  2,  65, 100],\n",
       "        [  0,  57,  91],\n",
       "        [  7,  56,  88],\n",
       "        [ 15,  59,  88],\n",
       "        [ 19,  58,  89],\n",
       "        [ 18,  51,  82],\n",
       "        [ 14,  41,  71],\n",
       "        [ 11,  32,  63],\n",
       "        [ 13,  28,  59],\n",
       "        [ 16,  27,  55],\n",
       "        [ 15,  22,  50]],\n",
       "\n",
       "       [[ 12,  33,  54],\n",
       "        [ 16,  37,  58],\n",
       "        [ 17,  39,  60],\n",
       "        [ 10,  37,  58],\n",
       "        [  3,  34,  55],\n",
       "        [  3,  38,  60],\n",
       "        [ 12,  49,  75],\n",
       "        [ 19,  61,  86],\n",
       "        [ 19,  66,  94],\n",
       "        [ 30,  81, 110],\n",
       "        [  9,  66,  96],\n",
       "        [ 73, 134, 165],\n",
       "        [  0,  48,  83],\n",
       "        [ 23,  87, 123],\n",
       "        [  0,  57,  92],\n",
       "        [ 14,  77, 112],\n",
       "        [ 33,  86, 120],\n",
       "        [ 20,  66,  99],\n",
       "        [ 11,  54,  88],\n",
       "        [ 18,  54,  88],\n",
       "        [ 21,  51,  85],\n",
       "        [ 12,  37,  68],\n",
       "        [  3,  22,  54],\n",
       "        [  2,  17,  46],\n",
       "        [  6,  17,  45]],\n",
       "\n",
       "       [[  2,  23,  44],\n",
       "        [  9,  31,  52],\n",
       "        [ 16,  41,  63],\n",
       "        [ 17,  43,  66],\n",
       "        [ 12,  42,  66],\n",
       "        [  6,  42,  66],\n",
       "        [  5,  45,  71],\n",
       "        [  5,  51,  77],\n",
       "        [ 30,  79, 109],\n",
       "        [ 49, 104, 134],\n",
       "        [ 55, 116, 147],\n",
       "        [109, 174, 206],\n",
       "        [ 51, 117, 152],\n",
       "        [ 74, 144, 178],\n",
       "        [ 35, 108, 143],\n",
       "        [ 26,  94, 129],\n",
       "        [ 30,  86, 121],\n",
       "        [ 19,  69, 102],\n",
       "        [ 14,  60,  94],\n",
       "        [ 23,  63,  98],\n",
       "        [ 27,  60,  95],\n",
       "        [ 16,  42,  77],\n",
       "        [  4,  24,  59],\n",
       "        [  1,  17,  50],\n",
       "        [  0,  12,  44]]], dtype=uint8)"
      ]
     },
     "execution_count": 201,
     "metadata": {},
     "output_type": "execute_result"
    }
   ],
   "source": [
    "tempimg = img[:10, :, :]\n",
    "tempimg"
   ]
  },
  {
   "cell_type": "code",
   "execution_count": 202,
   "metadata": {
    "id": "PYIxb9w5S2hu"
   },
   "outputs": [
    {
     "data": {
      "text/plain": [
       "(10, 25, 3)"
      ]
     },
     "execution_count": 202,
     "metadata": {},
     "output_type": "execute_result"
    }
   ],
   "source": [
    "tempimg.shape"
   ]
  },
  {
   "cell_type": "code",
   "execution_count": 203,
   "metadata": {
    "id": "VTWgw9m1S2hw"
   },
   "outputs": [
    {
     "data": {
      "text/plain": [
       "array([[[  0,   5,  17],\n",
       "        [  0,   4,  16],\n",
       "        [  0,   6,  20],\n",
       "        [  0,  15,  29],\n",
       "        [  7,  26,  41],\n",
       "        [ 12,  31,  46],\n",
       "        [  9,  28,  45],\n",
       "        [  3,  21,  41],\n",
       "        [ 12,  33,  54],\n",
       "        [  2,  23,  44]],\n",
       "\n",
       "       [[  0,   6,  18],\n",
       "        [  0,   5,  17],\n",
       "        [  0,   8,  22],\n",
       "        [  0,  16,  30],\n",
       "        [  7,  26,  41],\n",
       "        [ 12,  31,  46],\n",
       "        [ 10,  29,  46],\n",
       "        [  3,  24,  43],\n",
       "        [ 16,  37,  58],\n",
       "        [  9,  31,  52]],\n",
       "\n",
       "       [[  0,   8,  22],\n",
       "        [  0,   8,  22],\n",
       "        [  0,  11,  26],\n",
       "        [  0,  18,  33],\n",
       "        [  8,  27,  44],\n",
       "        [ 10,  31,  48],\n",
       "        [ 10,  31,  50],\n",
       "        [  7,  30,  48],\n",
       "        [ 17,  39,  60],\n",
       "        [ 16,  41,  63]],\n",
       "\n",
       "       [[  0,  12,  26],\n",
       "        [  0,  13,  28],\n",
       "        [  0,  16,  31],\n",
       "        [  1,  22,  39],\n",
       "        [  7,  28,  45],\n",
       "        [ 11,  34,  52],\n",
       "        [ 13,  36,  54],\n",
       "        [ 12,  37,  57],\n",
       "        [ 10,  37,  58],\n",
       "        [ 17,  43,  66]],\n",
       "\n",
       "       [[  0,  17,  34],\n",
       "        [  0,  20,  37],\n",
       "        [  3,  24,  41],\n",
       "        [  6,  29,  47],\n",
       "        [ 10,  33,  51],\n",
       "        [ 12,  37,  57],\n",
       "        [ 16,  43,  64],\n",
       "        [ 19,  47,  69],\n",
       "        [  3,  34,  55],\n",
       "        [ 12,  42,  66]],\n",
       "\n",
       "       [[  2,  25,  43],\n",
       "        [  5,  28,  46],\n",
       "        [  8,  34,  51],\n",
       "        [ 10,  35,  55],\n",
       "        [ 11,  38,  57],\n",
       "        [ 16,  43,  64],\n",
       "        [ 22,  50,  72],\n",
       "        [ 25,  57,  80],\n",
       "        [  3,  38,  60],\n",
       "        [  6,  42,  66]],\n",
       "\n",
       "       [[  5,  30,  50],\n",
       "        [ 10,  35,  57],\n",
       "        [ 13,  40,  61],\n",
       "        [ 14,  40,  63],\n",
       "        [ 14,  42,  64],\n",
       "        [ 17,  47,  71],\n",
       "        [ 25,  57,  82],\n",
       "        [ 30,  66,  92],\n",
       "        [ 12,  49,  75],\n",
       "        [  5,  45,  71]],\n",
       "\n",
       "       [[  7,  35,  57],\n",
       "        [ 12,  40,  62],\n",
       "        [ 16,  44,  68],\n",
       "        [ 15,  45,  69],\n",
       "        [ 13,  45,  68],\n",
       "        [ 16,  50,  75],\n",
       "        [ 26,  62,  88],\n",
       "        [ 32,  72,  98],\n",
       "        [ 19,  61,  86],\n",
       "        [  5,  51,  77]],\n",
       "\n",
       "       [[  9,  36,  63],\n",
       "        [  6,  36,  62],\n",
       "        [  8,  38,  64],\n",
       "        [ 14,  45,  73],\n",
       "        [ 22,  56,  83],\n",
       "        [ 27,  64,  91],\n",
       "        [ 27,  66,  95],\n",
       "        [ 23,  67,  96],\n",
       "        [ 19,  66,  94],\n",
       "        [ 30,  79, 109]],\n",
       "\n",
       "       [[  3,  34,  63],\n",
       "        [  6,  37,  66],\n",
       "        [ 10,  41,  70],\n",
       "        [ 11,  46,  74],\n",
       "        [ 15,  52,  79],\n",
       "        [ 16,  57,  85],\n",
       "        [ 18,  62,  91],\n",
       "        [ 18,  65,  95],\n",
       "        [ 30,  81, 110],\n",
       "        [ 49, 104, 134]],\n",
       "\n",
       "       [[  2,  33,  64],\n",
       "        [  8,  41,  72],\n",
       "        [ 14,  49,  79],\n",
       "        [ 13,  49,  81],\n",
       "        [  8,  47,  78],\n",
       "        [  5,  48,  80],\n",
       "        [ 10,  56,  89],\n",
       "        [ 14,  64,  97],\n",
       "        [  9,  66,  96],\n",
       "        [ 55, 116, 147]],\n",
       "\n",
       "       [[  3,  38,  70],\n",
       "        [ 13,  48,  80],\n",
       "        [ 21,  57,  89],\n",
       "        [ 17,  56,  89],\n",
       "        [  5,  48,  80],\n",
       "        [  0,  46,  79],\n",
       "        [  6,  56,  89],\n",
       "        [ 14,  68, 102],\n",
       "        [ 73, 134, 165],\n",
       "        [109, 174, 206]],\n",
       "\n",
       "       [[  8,  42,  79],\n",
       "        [ 17,  53,  89],\n",
       "        [ 24,  62,  98],\n",
       "        [ 20,  60,  95],\n",
       "        [  7,  51,  86],\n",
       "        [  1,  49,  85],\n",
       "        [  7,  60,  94],\n",
       "        [ 15,  71, 106],\n",
       "        [  0,  48,  83],\n",
       "        [ 51, 117, 152]],\n",
       "\n",
       "       [[  9,  45,  81],\n",
       "        [ 14,  52,  88],\n",
       "        [ 19,  59,  94],\n",
       "        [ 16,  59,  94],\n",
       "        [  9,  55,  91],\n",
       "        [  5,  55,  90],\n",
       "        [  8,  62,  98],\n",
       "        [ 10,  70, 106],\n",
       "        [ 23,  87, 123],\n",
       "        [ 74, 144, 178]],\n",
       "\n",
       "       [[  7,  42,  80],\n",
       "        [  6,  44,  81],\n",
       "        [  8,  48,  84],\n",
       "        [  7,  51,  88],\n",
       "        [  6,  54,  90],\n",
       "        [  5,  57,  94],\n",
       "        [  5,  61,  98],\n",
       "        [  2,  65, 100],\n",
       "        [  0,  57,  92],\n",
       "        [ 35, 108, 143]],\n",
       "\n",
       "       [[  4,  38,  73],\n",
       "        [  1,  37,  71],\n",
       "        [  0,  38,  71],\n",
       "        [  0,  43,  77],\n",
       "        [  6,  50,  85],\n",
       "        [  8,  57,  90],\n",
       "        [  4,  58,  92],\n",
       "        [  0,  57,  91],\n",
       "        [ 14,  77, 112],\n",
       "        [ 26,  94, 129]],\n",
       "\n",
       "       [[  0,  32,  57],\n",
       "        [  0,  33,  60],\n",
       "        [  1,  37,  63],\n",
       "        [  4,  41,  68],\n",
       "        [  6,  45,  74],\n",
       "        [  7,  51,  80],\n",
       "        [  9,  54,  85],\n",
       "        [  7,  56,  88],\n",
       "        [ 33,  86, 120],\n",
       "        [ 30,  86, 121]],\n",
       "\n",
       "       [[  4,  35,  56],\n",
       "        [  5,  36,  57],\n",
       "        [  7,  39,  60],\n",
       "        [  9,  44,  66],\n",
       "        [ 12,  48,  72],\n",
       "        [ 15,  52,  78],\n",
       "        [ 16,  55,  84],\n",
       "        [ 15,  59,  88],\n",
       "        [ 20,  66,  99],\n",
       "        [ 19,  69, 102]],\n",
       "\n",
       "       [[  8,  35,  56],\n",
       "        [  9,  35,  58],\n",
       "        [ 11,  39,  61],\n",
       "        [ 15,  43,  67],\n",
       "        [ 17,  47,  73],\n",
       "        [ 18,  52,  79],\n",
       "        [ 20,  55,  85],\n",
       "        [ 19,  58,  89],\n",
       "        [ 11,  54,  88],\n",
       "        [ 14,  60,  94]],\n",
       "\n",
       "       [[  6,  28,  49],\n",
       "        [  8,  30,  53],\n",
       "        [ 11,  33,  56],\n",
       "        [ 12,  36,  60],\n",
       "        [ 16,  42,  67],\n",
       "        [ 18,  45,  72],\n",
       "        [ 18,  49,  78],\n",
       "        [ 18,  51,  82],\n",
       "        [ 18,  54,  88],\n",
       "        [ 23,  63,  98]],\n",
       "\n",
       "       [[  2,  17,  38],\n",
       "        [  3,  20,  40],\n",
       "        [  6,  22,  45],\n",
       "        [  9,  27,  51],\n",
       "        [ 11,  31,  56],\n",
       "        [ 14,  35,  62],\n",
       "        [ 14,  39,  69],\n",
       "        [ 14,  41,  71],\n",
       "        [ 21,  51,  85],\n",
       "        [ 27,  60,  95]],\n",
       "\n",
       "       [[  0,   9,  27],\n",
       "        [  0,  11,  31],\n",
       "        [  3,  14,  36],\n",
       "        [  5,  17,  41],\n",
       "        [  8,  22,  48],\n",
       "        [ 10,  26,  52],\n",
       "        [ 10,  30,  57],\n",
       "        [ 11,  32,  63],\n",
       "        [ 12,  37,  68],\n",
       "        [ 16,  42,  77]],\n",
       "\n",
       "       [[  2,   5,  24],\n",
       "        [  1,   6,  25],\n",
       "        [  4,   9,  29],\n",
       "        [  7,  13,  35],\n",
       "        [ 10,  18,  41],\n",
       "        [ 12,  22,  49],\n",
       "        [ 12,  26,  53],\n",
       "        [ 13,  28,  59],\n",
       "        [  3,  22,  54],\n",
       "        [  4,  24,  59]],\n",
       "\n",
       "       [[  5,   4,  20],\n",
       "        [  5,   6,  24],\n",
       "        [  8,   9,  29],\n",
       "        [ 11,  13,  34],\n",
       "        [ 13,  18,  40],\n",
       "        [ 16,  22,  46],\n",
       "        [ 15,  25,  50],\n",
       "        [ 16,  27,  55],\n",
       "        [  2,  17,  46],\n",
       "        [  1,  17,  50]],\n",
       "\n",
       "       [[  3,   1,  15],\n",
       "        [  4,   2,  16],\n",
       "        [  7,   4,  21],\n",
       "        [ 10,   9,  27],\n",
       "        [ 12,  13,  33],\n",
       "        [ 15,  17,  40],\n",
       "        [ 15,  21,  45],\n",
       "        [ 15,  22,  50],\n",
       "        [  6,  17,  45],\n",
       "        [  0,  12,  44]]], dtype=uint8)"
      ]
     },
     "execution_count": 203,
     "metadata": {},
     "output_type": "execute_result"
    }
   ],
   "source": [
    "np.transpose(tempimg, (1, 0, 2))"
   ]
  },
  {
   "cell_type": "code",
   "execution_count": 204,
   "metadata": {
    "id": "GIOEaUwvS2hx"
   },
   "outputs": [
    {
     "data": {
      "text/plain": [
       "array([[[  0,   5,  17],\n",
       "        [  0,   4,  16],\n",
       "        [  0,   6,  20],\n",
       "        [  0,  15,  29],\n",
       "        [  7,  26,  41],\n",
       "        [ 12,  31,  46],\n",
       "        [  9,  28,  45],\n",
       "        [  3,  21,  41],\n",
       "        [ 12,  33,  54],\n",
       "        [  2,  23,  44]],\n",
       "\n",
       "       [[  0,   6,  18],\n",
       "        [  0,   5,  17],\n",
       "        [  0,   8,  22],\n",
       "        [  0,  16,  30],\n",
       "        [  7,  26,  41],\n",
       "        [ 12,  31,  46],\n",
       "        [ 10,  29,  46],\n",
       "        [  3,  24,  43],\n",
       "        [ 16,  37,  58],\n",
       "        [  9,  31,  52]],\n",
       "\n",
       "       [[  0,   8,  22],\n",
       "        [  0,   8,  22],\n",
       "        [  0,  11,  26],\n",
       "        [  0,  18,  33],\n",
       "        [  8,  27,  44],\n",
       "        [ 10,  31,  48],\n",
       "        [ 10,  31,  50],\n",
       "        [  7,  30,  48],\n",
       "        [ 17,  39,  60],\n",
       "        [ 16,  41,  63]],\n",
       "\n",
       "       [[  0,  12,  26],\n",
       "        [  0,  13,  28],\n",
       "        [  0,  16,  31],\n",
       "        [  1,  22,  39],\n",
       "        [  7,  28,  45],\n",
       "        [ 11,  34,  52],\n",
       "        [ 13,  36,  54],\n",
       "        [ 12,  37,  57],\n",
       "        [ 10,  37,  58],\n",
       "        [ 17,  43,  66]],\n",
       "\n",
       "       [[  0,  17,  34],\n",
       "        [  0,  20,  37],\n",
       "        [  3,  24,  41],\n",
       "        [  6,  29,  47],\n",
       "        [ 10,  33,  51],\n",
       "        [ 12,  37,  57],\n",
       "        [ 16,  43,  64],\n",
       "        [ 19,  47,  69],\n",
       "        [  3,  34,  55],\n",
       "        [ 12,  42,  66]],\n",
       "\n",
       "       [[  2,  25,  43],\n",
       "        [  5,  28,  46],\n",
       "        [  8,  34,  51],\n",
       "        [ 10,  35,  55],\n",
       "        [ 11,  38,  57],\n",
       "        [ 16,  43,  64],\n",
       "        [ 22,  50,  72],\n",
       "        [ 25,  57,  80],\n",
       "        [  3,  38,  60],\n",
       "        [  6,  42,  66]],\n",
       "\n",
       "       [[  5,  30,  50],\n",
       "        [ 10,  35,  57],\n",
       "        [ 13,  40,  61],\n",
       "        [ 14,  40,  63],\n",
       "        [ 14,  42,  64],\n",
       "        [ 17,  47,  71],\n",
       "        [ 25,  57,  82],\n",
       "        [ 30,  66,  92],\n",
       "        [ 12,  49,  75],\n",
       "        [  5,  45,  71]],\n",
       "\n",
       "       [[  7,  35,  57],\n",
       "        [ 12,  40,  62],\n",
       "        [ 16,  44,  68],\n",
       "        [ 15,  45,  69],\n",
       "        [ 13,  45,  68],\n",
       "        [ 16,  50,  75],\n",
       "        [ 26,  62,  88],\n",
       "        [ 32,  72,  98],\n",
       "        [ 19,  61,  86],\n",
       "        [  5,  51,  77]],\n",
       "\n",
       "       [[  9,  36,  63],\n",
       "        [  6,  36,  62],\n",
       "        [  8,  38,  64],\n",
       "        [ 14,  45,  73],\n",
       "        [ 22,  56,  83],\n",
       "        [ 27,  64,  91],\n",
       "        [ 27,  66,  95],\n",
       "        [ 23,  67,  96],\n",
       "        [ 19,  66,  94],\n",
       "        [ 30,  79, 109]],\n",
       "\n",
       "       [[  3,  34,  63],\n",
       "        [  6,  37,  66],\n",
       "        [ 10,  41,  70],\n",
       "        [ 11,  46,  74],\n",
       "        [ 15,  52,  79],\n",
       "        [ 16,  57,  85],\n",
       "        [ 18,  62,  91],\n",
       "        [ 18,  65,  95],\n",
       "        [ 30,  81, 110],\n",
       "        [ 49, 104, 134]],\n",
       "\n",
       "       [[  2,  33,  64],\n",
       "        [  8,  41,  72],\n",
       "        [ 14,  49,  79],\n",
       "        [ 13,  49,  81],\n",
       "        [  8,  47,  78],\n",
       "        [  5,  48,  80],\n",
       "        [ 10,  56,  89],\n",
       "        [ 14,  64,  97],\n",
       "        [  9,  66,  96],\n",
       "        [ 55, 116, 147]],\n",
       "\n",
       "       [[  3,  38,  70],\n",
       "        [ 13,  48,  80],\n",
       "        [ 21,  57,  89],\n",
       "        [ 17,  56,  89],\n",
       "        [  5,  48,  80],\n",
       "        [  0,  46,  79],\n",
       "        [  6,  56,  89],\n",
       "        [ 14,  68, 102],\n",
       "        [ 73, 134, 165],\n",
       "        [109, 174, 206]],\n",
       "\n",
       "       [[  8,  42,  79],\n",
       "        [ 17,  53,  89],\n",
       "        [ 24,  62,  98],\n",
       "        [ 20,  60,  95],\n",
       "        [  7,  51,  86],\n",
       "        [  1,  49,  85],\n",
       "        [  7,  60,  94],\n",
       "        [ 15,  71, 106],\n",
       "        [  0,  48,  83],\n",
       "        [ 51, 117, 152]],\n",
       "\n",
       "       [[  9,  45,  81],\n",
       "        [ 14,  52,  88],\n",
       "        [ 19,  59,  94],\n",
       "        [ 16,  59,  94],\n",
       "        [  9,  55,  91],\n",
       "        [  5,  55,  90],\n",
       "        [  8,  62,  98],\n",
       "        [ 10,  70, 106],\n",
       "        [ 23,  87, 123],\n",
       "        [ 74, 144, 178]],\n",
       "\n",
       "       [[  7,  42,  80],\n",
       "        [  6,  44,  81],\n",
       "        [  8,  48,  84],\n",
       "        [  7,  51,  88],\n",
       "        [  6,  54,  90],\n",
       "        [  5,  57,  94],\n",
       "        [  5,  61,  98],\n",
       "        [  2,  65, 100],\n",
       "        [  0,  57,  92],\n",
       "        [ 35, 108, 143]],\n",
       "\n",
       "       [[  4,  38,  73],\n",
       "        [  1,  37,  71],\n",
       "        [  0,  38,  71],\n",
       "        [  0,  43,  77],\n",
       "        [  6,  50,  85],\n",
       "        [  8,  57,  90],\n",
       "        [  4,  58,  92],\n",
       "        [  0,  57,  91],\n",
       "        [ 14,  77, 112],\n",
       "        [ 26,  94, 129]],\n",
       "\n",
       "       [[  0,  32,  57],\n",
       "        [  0,  33,  60],\n",
       "        [  1,  37,  63],\n",
       "        [  4,  41,  68],\n",
       "        [  6,  45,  74],\n",
       "        [  7,  51,  80],\n",
       "        [  9,  54,  85],\n",
       "        [  7,  56,  88],\n",
       "        [ 33,  86, 120],\n",
       "        [ 30,  86, 121]],\n",
       "\n",
       "       [[  4,  35,  56],\n",
       "        [  5,  36,  57],\n",
       "        [  7,  39,  60],\n",
       "        [  9,  44,  66],\n",
       "        [ 12,  48,  72],\n",
       "        [ 15,  52,  78],\n",
       "        [ 16,  55,  84],\n",
       "        [ 15,  59,  88],\n",
       "        [ 20,  66,  99],\n",
       "        [ 19,  69, 102]],\n",
       "\n",
       "       [[  8,  35,  56],\n",
       "        [  9,  35,  58],\n",
       "        [ 11,  39,  61],\n",
       "        [ 15,  43,  67],\n",
       "        [ 17,  47,  73],\n",
       "        [ 18,  52,  79],\n",
       "        [ 20,  55,  85],\n",
       "        [ 19,  58,  89],\n",
       "        [ 11,  54,  88],\n",
       "        [ 14,  60,  94]],\n",
       "\n",
       "       [[  6,  28,  49],\n",
       "        [  8,  30,  53],\n",
       "        [ 11,  33,  56],\n",
       "        [ 12,  36,  60],\n",
       "        [ 16,  42,  67],\n",
       "        [ 18,  45,  72],\n",
       "        [ 18,  49,  78],\n",
       "        [ 18,  51,  82],\n",
       "        [ 18,  54,  88],\n",
       "        [ 23,  63,  98]],\n",
       "\n",
       "       [[  2,  17,  38],\n",
       "        [  3,  20,  40],\n",
       "        [  6,  22,  45],\n",
       "        [  9,  27,  51],\n",
       "        [ 11,  31,  56],\n",
       "        [ 14,  35,  62],\n",
       "        [ 14,  39,  69],\n",
       "        [ 14,  41,  71],\n",
       "        [ 21,  51,  85],\n",
       "        [ 27,  60,  95]],\n",
       "\n",
       "       [[  0,   9,  27],\n",
       "        [  0,  11,  31],\n",
       "        [  3,  14,  36],\n",
       "        [  5,  17,  41],\n",
       "        [  8,  22,  48],\n",
       "        [ 10,  26,  52],\n",
       "        [ 10,  30,  57],\n",
       "        [ 11,  32,  63],\n",
       "        [ 12,  37,  68],\n",
       "        [ 16,  42,  77]],\n",
       "\n",
       "       [[  2,   5,  24],\n",
       "        [  1,   6,  25],\n",
       "        [  4,   9,  29],\n",
       "        [  7,  13,  35],\n",
       "        [ 10,  18,  41],\n",
       "        [ 12,  22,  49],\n",
       "        [ 12,  26,  53],\n",
       "        [ 13,  28,  59],\n",
       "        [  3,  22,  54],\n",
       "        [  4,  24,  59]],\n",
       "\n",
       "       [[  5,   4,  20],\n",
       "        [  5,   6,  24],\n",
       "        [  8,   9,  29],\n",
       "        [ 11,  13,  34],\n",
       "        [ 13,  18,  40],\n",
       "        [ 16,  22,  46],\n",
       "        [ 15,  25,  50],\n",
       "        [ 16,  27,  55],\n",
       "        [  2,  17,  46],\n",
       "        [  1,  17,  50]],\n",
       "\n",
       "       [[  3,   1,  15],\n",
       "        [  4,   2,  16],\n",
       "        [  7,   4,  21],\n",
       "        [ 10,   9,  27],\n",
       "        [ 12,  13,  33],\n",
       "        [ 15,  17,  40],\n",
       "        [ 15,  21,  45],\n",
       "        [ 15,  22,  50],\n",
       "        [  6,  17,  45],\n",
       "        [  0,  12,  44]]], dtype=uint8)"
      ]
     },
     "execution_count": 204,
     "metadata": {},
     "output_type": "execute_result"
    }
   ],
   "source": [
    "newtempimg = np.transpose(tempimg, (1, 0, 2))\n",
    "newtempimg"
   ]
  },
  {
   "cell_type": "code",
   "execution_count": 205,
   "metadata": {
    "id": "92D093j9S2hx"
   },
   "outputs": [
    {
     "data": {
      "text/plain": [
       "(25, 10, 3)"
      ]
     },
     "execution_count": 205,
     "metadata": {},
     "output_type": "execute_result"
    }
   ],
   "source": [
    "newtempimg.shape"
   ]
  },
  {
   "cell_type": "markdown",
   "metadata": {
    "id": "VO3EOdMeS2hy"
   },
   "source": [
    "Learners are encouraged to explore the utility of combinations of the `reshape` and `transpose` methods further with the help of language AI models."
   ]
  },
  {
   "cell_type": "markdown",
   "metadata": {
    "id": "y13U_BdkS2hy"
   },
   "source": [
    "### Quiz 10\n",
    "Consider the array shown below:\n",
    "```\n",
    "np_arr = np.array([[100, 200, 300], [400, 500, 600], [700, 800, 900]])\n",
    "```\n",
    "What does `np_arr.reshape(-1)` do?"
   ]
  },
  {
   "cell_type": "code",
   "execution_count": 206,
   "metadata": {
    "id": "4xmz9frLS2hy"
   },
   "outputs": [
    {
     "data": {
      "text/plain": [
       "array([100, 200, 300, 400, 500, 600, 700, 800, 900])"
      ]
     },
     "execution_count": 206,
     "metadata": {},
     "output_type": "execute_result"
    }
   ],
   "source": [
    "##### CODE HERE #####\n",
    "np_arr = np.array([[100, 200, 300], [400, 500, 600], [700, 800, 900]])\n",
    "np_arr.reshape(-1) # if flaterns the n-dimension array/ converts to 1-D"
   ]
  },
  {
   "cell_type": "markdown",
   "metadata": {
    "id": "STcUU92SS2hz"
   },
   "source": [
    "### Quiz 11\n",
    "Consider the array shown below:\n",
    "```\n",
    "np_arr = np.array([100, 200, 300])\n",
    "```\n",
    "What does `np_arr.reshape(-1)` do?"
   ]
  },
  {
   "cell_type": "code",
   "execution_count": 207,
   "metadata": {
    "id": "WgD-AI8iS2hz"
   },
   "outputs": [
    {
     "data": {
      "text/plain": [
       "array([100, 200, 300])"
      ]
     },
     "execution_count": 207,
     "metadata": {},
     "output_type": "execute_result"
    }
   ],
   "source": [
    "##### CODE HERE #####\n",
    "np_arr = np.array([100, 200, 300])\n",
    "np_arr.reshape(-1)"
   ]
  },
  {
   "cell_type": "markdown",
   "metadata": {
    "id": "R4m-nqT-S2h0"
   },
   "source": [
    "### Quiz 12\n",
    "Consider the array shown below:\n",
    "```\n",
    "np_arr = np.array([100, 200, 300])\n",
    "```\n",
    "What does `np_arr.reshape(-1, 1)` do?"
   ]
  },
  {
   "cell_type": "code",
   "execution_count": 208,
   "metadata": {
    "id": "-8E_mBlpS2h0"
   },
   "outputs": [
    {
     "data": {
      "text/plain": [
       "array([[100],\n",
       "       [200],\n",
       "       [300]])"
      ]
     },
     "execution_count": 208,
     "metadata": {},
     "output_type": "execute_result"
    }
   ],
   "source": [
    "##### CODE HERE #####\n",
    "np_arr = np.array([100, 200, 300])\n",
    "np_arr.reshape(-1,1)"
   ]
  },
  {
   "cell_type": "markdown",
   "metadata": {
    "id": "XujyRwE8S2h0"
   },
   "source": [
    "### Quiz 13\n",
    "Consider the array shown below:\n",
    "```\n",
    "np_arr = np.array([[100, 200, 300], [-150, -250, -350]])\n",
    "```\n",
    "What do `np_arr.reshape(-1)` and `np_arr.reshape(-1, 1)` do?"
   ]
  },
  {
   "cell_type": "code",
   "execution_count": 209,
   "metadata": {
    "id": "d21LBCqRS2h1"
   },
   "outputs": [
    {
     "name": "stdout",
     "output_type": "stream",
     "text": [
      "[ 100  200  300 -150 -250 -350]\n",
      "[[ 100]\n",
      " [ 200]\n",
      " [ 300]\n",
      " [-150]\n",
      " [-250]\n",
      " [-350]]\n",
      "[[ 100  200  300 -150 -250 -350]]\n"
     ]
    }
   ],
   "source": [
    "##### CODE HERE #####\n",
    "np_arr = np.array([[100, 200, 300], [-150, -250, -350]])\n",
    "print(np_arr.reshape(-1)) # row matrix\n",
    "print(np_arr.reshape(-1, 1)) # column matrix\n",
    "print(np_arr.reshape(1, -1)) # flatterned 2-D matrix"
   ]
  },
  {
   "cell_type": "markdown",
   "metadata": {
    "id": "zo7V4mryS2h1"
   },
   "source": [
    "### Quiz 14 - HW\n",
    "Consider the array shown below:\n",
    "```\n",
    "np_arr = np.array([[1, 5], [-5, 2], [3, 1]])\n",
    "```\n",
    "Transform `np_arr` to the array shown below:\n",
    "```\n",
    "np.array([[1, -5], [5, 2], [4, -6])\n",
    "```\n",
    "Feel free to use a combination of operations and methods to perform this task. Take help from a language AI model if required."
   ]
  },
  {
   "cell_type": "code",
   "execution_count": 210,
   "metadata": {
    "id": "NK5znblsS2h1"
   },
   "outputs": [],
   "source": [
    "np_arr = np.array([[1, 5], [-5, 2], [3, 1]])\n"
   ]
  },
  {
   "cell_type": "markdown",
   "metadata": {
    "id": "L0FiSosHRnW7"
   },
   "source": [
    "### Quiz 15 - HW\n",
    "Load the file `image.jpg` and convert it into an array `img`. Note that you will have to use the `copy` method to make a mutable copy of the original image array. Replace all values in the array with zeroes except for the blue channel and visualize the image. Try querying a language AI model to help you out."
   ]
  },
  {
   "cell_type": "code",
   "execution_count": 211,
   "metadata": {
    "id": "nYWyua_7R4A5"
   },
   "outputs": [],
   "source": [
    "##### CODE HERE #####"
   ]
  },
  {
   "cell_type": "markdown",
   "metadata": {
    "id": "fOxrYhhMNqrw"
   },
   "source": [
    "### Example 7\n",
    "Performing vector addition with arrays"
   ]
  },
  {
   "cell_type": "code",
   "execution_count": 212,
   "metadata": {
    "id": "-9sFDSBHNL3k"
   },
   "outputs": [
    {
     "name": "stdout",
     "output_type": "stream",
     "text": [
      "[-1  3  4 -6]\n",
      "[ 0 -5 -2 10]\n"
     ]
    }
   ],
   "source": [
    "v1 = np.array([-1, 3, 4, -6])\n",
    "v2 = np.array([0, -5, -2, 10])\n",
    "print(v1)\n",
    "print(v2)"
   ]
  },
  {
   "cell_type": "code",
   "execution_count": 213,
   "metadata": {
    "id": "5PubGDEzNhPu"
   },
   "outputs": [
    {
     "data": {
      "text/plain": [
       "array([-1, -2,  2,  4])"
      ]
     },
     "execution_count": 213,
     "metadata": {},
     "output_type": "execute_result"
    }
   ],
   "source": [
    "sum_arr = v1 + v2\n",
    "sum_arr"
   ]
  },
  {
   "cell_type": "code",
   "execution_count": 214,
   "metadata": {
    "id": "uML67ilp_FGq"
   },
   "outputs": [
    {
     "data": {
      "text/plain": [
       "array([ -1,   8,   6, -16])"
      ]
     },
     "execution_count": 214,
     "metadata": {},
     "output_type": "execute_result"
    }
   ],
   "source": [
    "diff_arr = v1 - v2\n",
    "diff_arr"
   ]
  },
  {
   "cell_type": "code",
   "execution_count": 215,
   "metadata": {
    "id": "bHBZ2IJMOAuz"
   },
   "outputs": [
    {
     "data": {
      "text/plain": [
       "array([-1,  3,  4, -6])"
      ]
     },
     "execution_count": 215,
     "metadata": {},
     "output_type": "execute_result"
    }
   ],
   "source": [
    "v1"
   ]
  },
  {
   "cell_type": "code",
   "execution_count": 216,
   "metadata": {
    "id": "VDJIUE5BOJo9"
   },
   "outputs": [
    {
     "data": {
      "text/plain": [
       "array([ 9, 13, 14,  4])"
      ]
     },
     "execution_count": 216,
     "metadata": {},
     "output_type": "execute_result"
    }
   ],
   "source": [
    "v3 = v1 + 10\n",
    "v3"
   ]
  },
  {
   "cell_type": "code",
   "execution_count": 217,
   "metadata": {
    "id": "yUtjKVUbP31a"
   },
   "outputs": [
    {
     "name": "stdout",
     "output_type": "stream",
     "text": [
      "[[ 5 -4]\n",
      " [-3  2]]\n",
      "[[ 3 -8]\n",
      " [-6  0]]\n"
     ]
    }
   ],
   "source": [
    "v1 = np.array([[5, -4], [-3, 2]])\n",
    "v2 = np.array([[3, -8], [-6, 0]])\n",
    "print(v1)\n",
    "print(v2)"
   ]
  },
  {
   "cell_type": "code",
   "execution_count": 218,
   "metadata": {
    "id": "4JR7kQajqPJp"
   },
   "outputs": [
    {
     "data": {
      "text/plain": [
       "array([[  8, -12],\n",
       "       [ -9,   2]])"
      ]
     },
     "execution_count": 218,
     "metadata": {},
     "output_type": "execute_result"
    }
   ],
   "source": [
    "sum_arr = v1 + v2\n",
    "sum_arr"
   ]
  },
  {
   "cell_type": "code",
   "execution_count": 219,
   "metadata": {
    "id": "qoA8NZ6iS2h8"
   },
   "outputs": [
    {
     "data": {
      "text/plain": [
       "array([[2, 4],\n",
       "       [3, 2]])"
      ]
     },
     "execution_count": 219,
     "metadata": {},
     "output_type": "execute_result"
    }
   ],
   "source": [
    "diff_arr = v1 - v2\n",
    "diff_arr"
   ]
  },
  {
   "cell_type": "code",
   "execution_count": 220,
   "metadata": {
    "id": "MK32nGThHXiw"
   },
   "outputs": [
    {
     "data": {
      "text/plain": [
       "array([[ 5, -4],\n",
       "       [-3,  2]])"
      ]
     },
     "execution_count": 220,
     "metadata": {},
     "output_type": "execute_result"
    }
   ],
   "source": [
    "v1"
   ]
  },
  {
   "cell_type": "code",
   "execution_count": 221,
   "metadata": {
    "id": "Y1nEvPZjHdiO"
   },
   "outputs": [
    {
     "data": {
      "text/plain": [
       "array([[13,  4],\n",
       "       [ 5, 10]])"
      ]
     },
     "execution_count": 221,
     "metadata": {},
     "output_type": "execute_result"
    }
   ],
   "source": [
    "sum_arr = v1 + 8\n",
    "sum_arr"
   ]
  },
  {
   "cell_type": "code",
   "execution_count": 222,
   "metadata": {
    "id": "NXIM5gKkHji4"
   },
   "outputs": [
    {
     "data": {
      "text/plain": [
       "array([[16,  7],\n",
       "       [ 5, 10]])"
      ]
     },
     "execution_count": 222,
     "metadata": {},
     "output_type": "execute_result"
    }
   ],
   "source": [
    "sum_arr[0] = sum_arr[0] + 3\n",
    "sum_arr"
   ]
  },
  {
   "cell_type": "code",
   "execution_count": 223,
   "metadata": {
    "id": "kxrREvn1S2h_"
   },
   "outputs": [
    {
     "data": {
      "text/plain": [
       "array([[16,  2],\n",
       "       [ 5,  5]])"
      ]
     },
     "execution_count": 223,
     "metadata": {},
     "output_type": "execute_result"
    }
   ],
   "source": [
    "sum_arr[:, 1] = sum_arr[:, 1] - 5\n",
    "sum_arr"
   ]
  },
  {
   "cell_type": "code",
   "execution_count": 224,
   "metadata": {
    "id": "xXIMl3I2S2h_"
   },
   "outputs": [
    {
     "data": {
      "text/plain": [
       "array([[16,  5],\n",
       "       [ 5, 12]])"
      ]
     },
     "execution_count": 224,
     "metadata": {},
     "output_type": "execute_result"
    }
   ],
   "source": [
    "sum_arr[:, 1] = sum_arr[:, 1] + [3, 7]\n",
    "sum_arr"
   ]
  },
  {
   "cell_type": "code",
   "execution_count": 225,
   "metadata": {
    "id": "mme5VUXrS2h_",
    "scrolled": true
   },
   "outputs": [
    {
     "data": {
      "text/plain": [
       "array([[[ 0,  5, 17],\n",
       "        [ 0,  6, 18],\n",
       "        [ 0,  8, 22],\n",
       "        ...,\n",
       "        [ 2,  5, 24],\n",
       "        [ 5,  4, 20],\n",
       "        [ 3,  1, 15]],\n",
       "\n",
       "       [[ 0,  4, 16],\n",
       "        [ 0,  5, 17],\n",
       "        [ 0,  8, 22],\n",
       "        ...,\n",
       "        [ 1,  6, 25],\n",
       "        [ 5,  6, 24],\n",
       "        [ 4,  2, 16]],\n",
       "\n",
       "       [[ 0,  6, 20],\n",
       "        [ 0,  8, 22],\n",
       "        [ 0, 11, 26],\n",
       "        ...,\n",
       "        [ 4,  9, 29],\n",
       "        [ 8,  9, 29],\n",
       "        [ 7,  4, 21]],\n",
       "\n",
       "       ...,\n",
       "\n",
       "       [[ 2,  6, 17],\n",
       "        [ 2,  9, 19],\n",
       "        [ 5, 11, 23],\n",
       "        ...,\n",
       "        [11, 16, 22],\n",
       "        [13, 14, 18],\n",
       "        [ 5,  7,  6]],\n",
       "\n",
       "       [[ 1,  2,  7],\n",
       "        [ 1,  4, 11],\n",
       "        [ 3,  6, 15],\n",
       "        ...,\n",
       "        [17, 16, 21],\n",
       "        [17, 16, 14],\n",
       "        [10,  6,  3]],\n",
       "\n",
       "       [[ 6,  5, 10],\n",
       "        [ 4,  3,  8],\n",
       "        [ 4,  3,  9],\n",
       "        ...,\n",
       "        [19, 17, 18],\n",
       "        [23, 19, 16],\n",
       "        [12,  7,  3]]], shape=(25, 25, 3), dtype=uint8)"
      ]
     },
     "execution_count": 225,
     "metadata": {},
     "output_type": "execute_result"
    }
   ],
   "source": [
    "img"
   ]
  },
  {
   "cell_type": "code",
   "execution_count": 226,
   "metadata": {
    "id": "As5T2ISlS2h_"
   },
   "outputs": [
    {
     "data": {
      "text/plain": [
       "array([[[ 0,  5, 17],\n",
       "        [ 0,  6, 18]],\n",
       "\n",
       "       [[ 0,  4, 16],\n",
       "        [ 0,  5, 17]]], dtype=uint8)"
      ]
     },
     "execution_count": 226,
     "metadata": {},
     "output_type": "execute_result"
    }
   ],
   "source": [
    "img_1 = img[0:2, 0:2, :]\n",
    "img_1"
   ]
  },
  {
   "cell_type": "code",
   "execution_count": 227,
   "metadata": {
    "id": "x21TBYqYS2iA"
   },
   "outputs": [
    {
     "data": {
      "text/plain": [
       "array([[[ 0, 11, 26],\n",
       "        [ 0, 16, 31]],\n",
       "\n",
       "       [[ 0, 18, 33],\n",
       "        [ 1, 22, 39]]], dtype=uint8)"
      ]
     },
     "execution_count": 227,
     "metadata": {},
     "output_type": "execute_result"
    }
   ],
   "source": [
    "img_2 = img[2:4, 2:4, :]\n",
    "img_2"
   ]
  },
  {
   "cell_type": "code",
   "execution_count": 228,
   "metadata": {
    "id": "ZhqEZY_pS2iA"
   },
   "outputs": [
    {
     "data": {
      "text/plain": [
       "array([[[ 0, 16, 43],\n",
       "        [ 0, 22, 49]],\n",
       "\n",
       "       [[ 0, 22, 49],\n",
       "        [ 1, 27, 56]]], dtype=uint8)"
      ]
     },
     "execution_count": 228,
     "metadata": {},
     "output_type": "execute_result"
    }
   ],
   "source": [
    "img_1 + img_2"
   ]
  },
  {
   "cell_type": "code",
   "execution_count": 229,
   "metadata": {
    "id": "fssu9fVhS2iA"
   },
   "outputs": [
    {
     "data": {
      "text/plain": [
       "array([[[  0, 250, 247],\n",
       "        [  0, 246, 243]],\n",
       "\n",
       "       [[  0, 242, 239],\n",
       "        [255, 239, 234]]], dtype=uint8)"
      ]
     },
     "execution_count": 229,
     "metadata": {},
     "output_type": "execute_result"
    }
   ],
   "source": [
    "img_1 - img_2"
   ]
  },
  {
   "cell_type": "code",
   "execution_count": 230,
   "metadata": {
    "id": "qPZZ9YKSS2iB",
    "scrolled": true
   },
   "outputs": [
    {
     "data": {
      "text/plain": [
       "array([[[ 0.,  5., 17.],\n",
       "        [ 0.,  6., 18.],\n",
       "        [ 0.,  8., 22.],\n",
       "        ...,\n",
       "        [ 2.,  5., 24.],\n",
       "        [ 5.,  4., 20.],\n",
       "        [ 3.,  1., 15.]],\n",
       "\n",
       "       [[ 0.,  4., 16.],\n",
       "        [ 0.,  5., 17.],\n",
       "        [ 0.,  8., 22.],\n",
       "        ...,\n",
       "        [ 1.,  6., 25.],\n",
       "        [ 5.,  6., 24.],\n",
       "        [ 4.,  2., 16.]],\n",
       "\n",
       "       [[ 0.,  6., 20.],\n",
       "        [ 0.,  8., 22.],\n",
       "        [ 0., 11., 26.],\n",
       "        ...,\n",
       "        [ 4.,  9., 29.],\n",
       "        [ 8.,  9., 29.],\n",
       "        [ 7.,  4., 21.]],\n",
       "\n",
       "       ...,\n",
       "\n",
       "       [[ 2.,  6., 17.],\n",
       "        [ 2.,  9., 19.],\n",
       "        [ 5., 11., 23.],\n",
       "        ...,\n",
       "        [11., 16., 22.],\n",
       "        [13., 14., 18.],\n",
       "        [ 5.,  7.,  6.]],\n",
       "\n",
       "       [[ 1.,  2.,  7.],\n",
       "        [ 1.,  4., 11.],\n",
       "        [ 3.,  6., 15.],\n",
       "        ...,\n",
       "        [17., 16., 21.],\n",
       "        [17., 16., 14.],\n",
       "        [10.,  6.,  3.]],\n",
       "\n",
       "       [[ 6.,  5., 10.],\n",
       "        [ 4.,  3.,  8.],\n",
       "        [ 4.,  3.,  9.],\n",
       "        ...,\n",
       "        [19., 17., 18.],\n",
       "        [23., 19., 16.],\n",
       "        [12.,  7.,  3.]]], shape=(25, 25, 3), dtype=float32)"
      ]
     },
     "execution_count": 230,
     "metadata": {},
     "output_type": "execute_result"
    }
   ],
   "source": [
    "img = np.array(img, dtype = 'float32')\n",
    "img"
   ]
  },
  {
   "cell_type": "code",
   "execution_count": 231,
   "metadata": {
    "id": "7hhXthlFS2iB"
   },
   "outputs": [
    {
     "data": {
      "text/plain": [
       "array([[[ 0.,  5., 17.],\n",
       "        [ 0.,  6., 18.],\n",
       "        [ 0.,  8., 22.]],\n",
       "\n",
       "       [[ 0.,  4., 16.],\n",
       "        [ 0.,  5., 17.],\n",
       "        [ 0.,  8., 22.]]], dtype=float32)"
      ]
     },
     "execution_count": 231,
     "metadata": {},
     "output_type": "execute_result"
    }
   ],
   "source": [
    "img_1 = img[0:2, 0:3, :]\n",
    "img_1"
   ]
  },
  {
   "cell_type": "code",
   "execution_count": 232,
   "metadata": {
    "id": "N3opZDwWS2iB"
   },
   "outputs": [
    {
     "data": {
      "text/plain": [
       "array([[[ 0., 11., 26.],\n",
       "        [ 0., 16., 31.],\n",
       "        [ 3., 24., 41.]],\n",
       "\n",
       "       [[ 0., 18., 33.],\n",
       "        [ 1., 22., 39.],\n",
       "        [ 6., 29., 47.]]], dtype=float32)"
      ]
     },
     "execution_count": 232,
     "metadata": {},
     "output_type": "execute_result"
    }
   ],
   "source": [
    "img_2 = img[2:4, 2:5, :]\n",
    "img_2"
   ]
  },
  {
   "cell_type": "code",
   "execution_count": 233,
   "metadata": {
    "id": "qK6O106DS2iC"
   },
   "outputs": [
    {
     "data": {
      "text/plain": [
       "array([[[ 0., 16., 43.],\n",
       "        [ 0., 22., 49.],\n",
       "        [ 3., 32., 63.]],\n",
       "\n",
       "       [[ 0., 22., 49.],\n",
       "        [ 1., 27., 56.],\n",
       "        [ 6., 37., 69.]]], dtype=float32)"
      ]
     },
     "execution_count": 233,
     "metadata": {},
     "output_type": "execute_result"
    }
   ],
   "source": [
    "img_1 + img_2"
   ]
  },
  {
   "cell_type": "code",
   "execution_count": 234,
   "metadata": {
    "id": "BssVxiDsS2iC"
   },
   "outputs": [
    {
     "data": {
      "text/plain": [
       "array([[[  0.,  -6.,  -9.],\n",
       "        [  0., -10., -13.],\n",
       "        [ -3., -16., -19.]],\n",
       "\n",
       "       [[  0., -14., -17.],\n",
       "        [ -1., -17., -22.],\n",
       "        [ -6., -21., -25.]]], dtype=float32)"
      ]
     },
     "execution_count": 234,
     "metadata": {},
     "output_type": "execute_result"
    }
   ],
   "source": [
    "img_1 - img_2"
   ]
  },
  {
   "cell_type": "code",
   "execution_count": 235,
   "metadata": {
    "id": "FUklSoA7S2iC"
   },
   "outputs": [
    {
     "data": {
      "text/plain": [
       "array([[[ 0.,  5., 17.],\n",
       "        [ 0.,  6., 18.],\n",
       "        [ 0.,  8., 22.]],\n",
       "\n",
       "       [[ 0.,  4., 16.],\n",
       "        [ 0.,  5., 17.],\n",
       "        [ 0.,  8., 22.]]], dtype=float32)"
      ]
     },
     "execution_count": 235,
     "metadata": {},
     "output_type": "execute_result"
    }
   ],
   "source": [
    "img_1"
   ]
  },
  {
   "cell_type": "code",
   "execution_count": 236,
   "metadata": {
    "id": "2_q62FmpS2iD"
   },
   "outputs": [
    {
     "data": {
      "text/plain": [
       "array([[25., 26., 28.],\n",
       "       [24., 25., 28.]], dtype=float32)"
      ]
     },
     "execution_count": 236,
     "metadata": {},
     "output_type": "execute_result"
    }
   ],
   "source": [
    "img_1[:, :, 1] + 20"
   ]
  },
  {
   "cell_type": "code",
   "execution_count": 237,
   "metadata": {
    "id": "4yTYQFBXS2iD"
   },
   "outputs": [
    {
     "data": {
      "text/plain": [
       "array([[[ 0., 25., 17.],\n",
       "        [ 0., 26., 18.],\n",
       "        [ 0., 28., 22.]],\n",
       "\n",
       "       [[ 0., 24., 16.],\n",
       "        [ 0., 25., 17.],\n",
       "        [ 0., 28., 22.]]], dtype=float32)"
      ]
     },
     "execution_count": 237,
     "metadata": {},
     "output_type": "execute_result"
    }
   ],
   "source": [
    "img_1[:, :, 1] = img_1[:, :, 1] + 20\n",
    "img_1"
   ]
  },
  {
   "cell_type": "markdown",
   "metadata": {
    "id": "lh5jjEc4S2iD"
   },
   "source": [
    "### Quiz 16\n",
    "Consider the arrays shown below:\n",
    "```\n",
    "arr_1 = np.array([[1, 3], [-2, 5], [6, 7]])\n",
    "arr_2 = np.array([[1, -7, 4], [0, 8, -4]])\n",
    "```\n",
    "Add the two arrays to produce the following array:\n",
    "```\n",
    "np.array([[2, 3], [-9, 13], [10, 3])\n",
    "```"
   ]
  },
  {
   "cell_type": "code",
   "execution_count": 238,
   "metadata": {
    "id": "uOFx9YhFS2iE"
   },
   "outputs": [
    {
     "data": {
      "text/plain": [
       "array([[ 2,  3],\n",
       "       [-9, 13],\n",
       "       [10,  3]])"
      ]
     },
     "execution_count": 238,
     "metadata": {},
     "output_type": "execute_result"
    }
   ],
   "source": [
    "arr_1 = np.array([[1, 3], [-2, 5], [6, 7]])\n",
    "arr_2 = np.array([[1, -7, 4], [0, 8, -4]])\n",
    "arr_2 = arr_2.T.reshape(3,2)\n",
    "arr_1 + arr_2"
   ]
  },
  {
   "cell_type": "markdown",
   "metadata": {
    "id": "SnlH5Yx-S2iE"
   },
   "source": [
    "### Quiz 17\n",
    "Consider the arrays shown below:\n",
    "```\n",
    "arr_1 = np.array([[1, 3], [-2, 5], [6, 7]])\n",
    "arr_2 = np.array([[1, -7], [0, 8]])\n",
    "```\n",
    "Add the two arrays to produce the following array:\n",
    "```\n",
    "np.array([[2, -4], [-2, 13], [6, 7])\n",
    "```"
   ]
  },
  {
   "cell_type": "code",
   "execution_count": 239,
   "metadata": {
    "id": "8Fz0GajZS2iF"
   },
   "outputs": [
    {
     "data": {
      "text/plain": [
       "array([[ 2, -4],\n",
       "       [-2, 13],\n",
       "       [ 6,  7]])"
      ]
     },
     "execution_count": 239,
     "metadata": {},
     "output_type": "execute_result"
    }
   ],
   "source": [
    "arr_1 = np.array([[1, 3], [-2, 5], [6, 7]])\n",
    "arr_2 = np.array([[1, -7], [0, 8]])\n",
    "result = arr_2 + arr_1[:2, :]\n",
    "result = np.append(result, arr_1[[2]], axis=0)\n",
    "result"
   ]
  },
  {
   "cell_type": "markdown",
   "metadata": {
    "id": "IA6y_UKsS2iF"
   },
   "source": [
    "### Quiz 18 - HW\n",
    "Consider the arrays shown below:\n",
    "```\n",
    "arr_1 = np.array([[1, 3], [-2, 5], [6, 7]])\n",
    "arr_2 = np.array([[1, -7], [0, 8]])\n",
    "```\n",
    "Add the two arrays to produce the following array:\n",
    "```\n",
    "np.array([[1, 3], [-1, -2], [6, 15])\n",
    "```"
   ]
  },
  {
   "cell_type": "code",
   "execution_count": 240,
   "metadata": {
    "id": "WbbnAm_uS2iF"
   },
   "outputs": [
    {
     "data": {
      "text/plain": [
       "array([[ 1,  3],\n",
       "       [-1, -2],\n",
       "       [ 6, 15]])"
      ]
     },
     "execution_count": 240,
     "metadata": {},
     "output_type": "execute_result"
    }
   ],
   "source": [
    "arr_1 = np.array([[1, 3], [-2, 5], [6, 7]])\n",
    "arr_2 = np.array([[1, -7], [0, 8]])\n",
    "result = arr_1\n",
    "result[1:,:] = result[1:, :]+ arr_2\n",
    "result"
   ]
  },
  {
   "cell_type": "markdown",
   "metadata": {
    "id": "x0Ba1WHNS2iG"
   },
   "source": [
    "### Example 8\n",
    "Performing multiplication with arrays"
   ]
  },
  {
   "cell_type": "code",
   "execution_count": 241,
   "metadata": {
    "id": "5U5odmn_S2iG"
   },
   "outputs": [
    {
     "data": {
      "text/plain": [
       "array([[ 0.7,  2. ,  1.3],\n",
       "       [-3. ,  4. ,  2.5],\n",
       "       [-1.6,  0. ,  4.9]])"
      ]
     },
     "execution_count": 241,
     "metadata": {},
     "output_type": "execute_result"
    }
   ],
   "source": [
    "np_arr = np.array([[0.7, 2, 1.3], [-3, 4, 2.5], [-1.6, 0, 4.9]])\n",
    "np_arr"
   ]
  },
  {
   "cell_type": "code",
   "execution_count": 242,
   "metadata": {
    "id": "X5ARoTVJS2iH"
   },
   "outputs": [
    {
     "data": {
      "text/plain": [
       "array([[ 1.4,  4. ,  2.6],\n",
       "       [-6. ,  8. ,  5. ],\n",
       "       [-3.2,  0. ,  9.8]])"
      ]
     },
     "execution_count": 242,
     "metadata": {},
     "output_type": "execute_result"
    }
   ],
   "source": [
    "np_arr * 2"
   ]
  },
  {
   "cell_type": "code",
   "execution_count": 243,
   "metadata": {
    "id": "dUP6FG5VS2iH"
   },
   "outputs": [
    {
     "data": {
      "text/plain": [
       "array([[ 0.7,  2. ,  1.3],\n",
       "       [-3. ,  4. ,  2.5],\n",
       "       [-1.6,  0. ,  4.9]])"
      ]
     },
     "execution_count": 243,
     "metadata": {},
     "output_type": "execute_result"
    }
   ],
   "source": [
    "np_arr"
   ]
  },
  {
   "cell_type": "code",
   "execution_count": 244,
   "metadata": {
    "id": "fjAdLEzoS2iH"
   },
   "outputs": [
    {
     "data": {
      "text/plain": [
       "array([[ 1.4,  4. ,  2.6],\n",
       "       [-6. ,  8. ,  5. ],\n",
       "       [-3.2,  0. ,  9.8]])"
      ]
     },
     "execution_count": 244,
     "metadata": {},
     "output_type": "execute_result"
    }
   ],
   "source": [
    "np_arr = np_arr * 2\n",
    "np_arr"
   ]
  },
  {
   "cell_type": "code",
   "execution_count": 245,
   "metadata": {
    "id": "m9lzjiH7S2iH"
   },
   "outputs": [
    {
     "data": {
      "text/plain": [
       "array([[  2.8,   8. ,   5.2],\n",
       "       [-12. ,  16. ,  10. ]])"
      ]
     },
     "execution_count": 245,
     "metadata": {},
     "output_type": "execute_result"
    }
   ],
   "source": [
    "np_arr[:2, :] * 2"
   ]
  },
  {
   "cell_type": "code",
   "execution_count": 246,
   "metadata": {
    "id": "Zc2qd2aXS2iI"
   },
   "outputs": [
    {
     "data": {
      "text/plain": [
       "array([[  2.8,   8. ,   5.2],\n",
       "       [-12. ,  16. ,  10. ],\n",
       "       [ -3.2,   0. ,   9.8]])"
      ]
     },
     "execution_count": 246,
     "metadata": {},
     "output_type": "execute_result"
    }
   ],
   "source": [
    "np_arr[:2, :] = np_arr[:2, :] * 2\n",
    "np_arr"
   ]
  },
  {
   "cell_type": "code",
   "execution_count": 247,
   "metadata": {
    "id": "V3FLYnRrS2iI"
   },
   "outputs": [
    {
     "data": {
      "text/plain": [
       "array([[ 0.56,  1.6 ,  1.04],\n",
       "       [-2.4 ,  3.2 ,  2.  ],\n",
       "       [-0.64,  0.  ,  1.96]])"
      ]
     },
     "execution_count": 247,
     "metadata": {},
     "output_type": "execute_result"
    }
   ],
   "source": [
    "np_arr / 5"
   ]
  },
  {
   "cell_type": "code",
   "execution_count": 248,
   "metadata": {
    "id": "Yow5-QXGS2iI"
   },
   "outputs": [
    {
     "data": {
      "text/plain": [
       "array([[ 0.56,  1.6 ,  1.04],\n",
       "       [-2.4 ,  3.2 ,  2.  ],\n",
       "       [-0.64,  0.  ,  1.96]])"
      ]
     },
     "execution_count": 248,
     "metadata": {},
     "output_type": "execute_result"
    }
   ],
   "source": [
    "np_arr = np_arr / 5\n",
    "np_arr"
   ]
  },
  {
   "cell_type": "code",
   "execution_count": 249,
   "metadata": {
    "id": "DSHK0KzcS2iI"
   },
   "outputs": [
    {
     "data": {
      "text/plain": [
       "array([[0.8 , 0.52],\n",
       "       [1.6 , 1.  ],\n",
       "       [0.  , 0.98]])"
      ]
     },
     "execution_count": 249,
     "metadata": {},
     "output_type": "execute_result"
    }
   ],
   "source": [
    "np_arr[:, 1:] / 2"
   ]
  },
  {
   "cell_type": "code",
   "execution_count": 250,
   "metadata": {
    "id": "dajNnY1uS2iJ"
   },
   "outputs": [
    {
     "data": {
      "text/plain": [
       "array([[ 0.56,  0.8 ,  0.52],\n",
       "       [-2.4 ,  1.6 ,  1.  ],\n",
       "       [-0.64,  0.  ,  0.98]])"
      ]
     },
     "execution_count": 250,
     "metadata": {},
     "output_type": "execute_result"
    }
   ],
   "source": [
    "np_arr[:, 1:] = np_arr[:, 1:] / 2\n",
    "np_arr"
   ]
  },
  {
   "cell_type": "code",
   "execution_count": 251,
   "metadata": {
    "id": "8iHA4GU7S2iJ"
   },
   "outputs": [
    {
     "data": {
      "text/plain": [
       "array([0.56, 0.8 , 0.52])"
      ]
     },
     "execution_count": 251,
     "metadata": {},
     "output_type": "execute_result"
    }
   ],
   "source": [
    "vec1 = np_arr[0]\n",
    "vec1"
   ]
  },
  {
   "cell_type": "code",
   "execution_count": 252,
   "metadata": {
    "id": "k4Jhss3vS2iJ"
   },
   "outputs": [
    {
     "data": {
      "text/plain": [
       "array([-2.4,  1.6,  1. ])"
      ]
     },
     "execution_count": 252,
     "metadata": {},
     "output_type": "execute_result"
    }
   ],
   "source": [
    "vec2 = np_arr[1]\n",
    "vec2"
   ]
  },
  {
   "cell_type": "code",
   "execution_count": 253,
   "metadata": {
    "id": "5l8itCANS2iK"
   },
   "outputs": [
    {
     "data": {
      "text/plain": [
       "array([-1.344,  1.28 ,  0.52 ])"
      ]
     },
     "execution_count": 253,
     "metadata": {},
     "output_type": "execute_result"
    }
   ],
   "source": [
    "vec1 * vec2"
   ]
  },
  {
   "cell_type": "code",
   "execution_count": 254,
   "metadata": {
    "id": "5m4Ce39jS2iK"
   },
   "outputs": [],
   "source": [
    "vec3 = vec1 * vec2"
   ]
  },
  {
   "cell_type": "code",
   "execution_count": 255,
   "metadata": {
    "id": "IjRixzUFS2iL"
   },
   "outputs": [
    {
     "data": {
      "text/plain": [
       "array([-1.344,  1.28 ,  0.52 ])"
      ]
     },
     "execution_count": 255,
     "metadata": {},
     "output_type": "execute_result"
    }
   ],
   "source": [
    "vec3"
   ]
  },
  {
   "cell_type": "markdown",
   "metadata": {
    "id": "t9Uk6eVHS2iL"
   },
   "source": [
    "### Quiz 19\n",
    "Consider the arrays shown below:\n",
    "```\n",
    "arr_1 = np.array([[1, 3], [-2, 5], [6, 7]])\n",
    "arr_2 = np.array([[1, -7], [0, 8], [4, -3]])\n",
    "```\n",
    "Multiply the two arrays to produce the following array:\n",
    "```\n",
    "np.array([[10, -210], [0, 400], [240, -210]])\n",
    "```"
   ]
  },
  {
   "cell_type": "code",
   "execution_count": 256,
   "metadata": {
    "id": "trslBB9uS2iM"
   },
   "outputs": [
    {
     "data": {
      "text/plain": [
       "array([[  10, -210],\n",
       "       [   0,  400],\n",
       "       [ 240, -210]])"
      ]
     },
     "execution_count": 256,
     "metadata": {},
     "output_type": "execute_result"
    }
   ],
   "source": [
    "arr_1 = np.array([[1, 3], [-2, 5], [6, 7]])\n",
    "arr_2 = np.array([[1, -7], [0, 8], [4, -3]])\n",
    "result = arr_1 * arr_2\n",
    "result = result * 10\n",
    "result"
   ]
  },
  {
   "cell_type": "markdown",
   "metadata": {
    "id": "xbHZWf0mS2iM"
   },
   "source": [
    "### Quiz 20 - HW\n",
    "Consider the arrays shown below:\n",
    "```\n",
    "arr_1 = np.array([[0, 4.5], [-2, 1], [-3, 2]])\n",
    "arr_2 = np.array([[1, -1], [0.5, 4.8], [9, -1.3]])\n",
    "```\n",
    "Multiply the two arrays to produce the following array:\n",
    "```\n",
    "np.array([[0, -0.9], [-0.2, 0.96], [-5.4, -0.52]])\n",
    "```"
   ]
  },
  {
   "cell_type": "code",
   "execution_count": 257,
   "metadata": {
    "id": "kZOOv5vwS2iN"
   },
   "outputs": [
    {
     "data": {
      "text/plain": [
       "array([[ 0.  , -0.9 ],\n",
       "       [-0.2 ,  0.96],\n",
       "       [-5.4 , -0.52]])"
      ]
     },
     "execution_count": 257,
     "metadata": {},
     "output_type": "execute_result"
    }
   ],
   "source": [
    "arr_1 = np.array([[0, 4.5], [-2, 1], [-3, 2]])\n",
    "arr_2 = np.array([[1, -1], [0.5, 4.8], [9, -1.3]])\n",
    "result = arr_1.T * arr_2.T\n",
    "result = (result / 10 * 2).T\n",
    "result"
   ]
  },
  {
   "cell_type": "markdown",
   "metadata": {
    "id": "AfnMnP7CS2iO"
   },
   "source": [
    "### Example 9\n",
    "Performing exponentiation with arrays"
   ]
  },
  {
   "cell_type": "code",
   "execution_count": 258,
   "metadata": {
    "id": "CpY5JsBYS2iO"
   },
   "outputs": [
    {
     "data": {
      "text/plain": [
       "array([[ 1. ,  0. , -1. ],\n",
       "       [ 2. ,  0.5,  0.1]])"
      ]
     },
     "execution_count": 258,
     "metadata": {},
     "output_type": "execute_result"
    }
   ],
   "source": [
    "np_arr = np.array([[1, 0, -1], [2, 0.5, 0.1]])\n",
    "np_arr"
   ]
  },
  {
   "cell_type": "code",
   "execution_count": 259,
   "metadata": {
    "id": "gJfVLIIpS2iP"
   },
   "outputs": [
    {
     "data": {
      "text/plain": [
       "array([[1.  , 0.  , 1.  ],\n",
       "       [4.  , 0.25, 0.01]])"
      ]
     },
     "execution_count": 259,
     "metadata": {},
     "output_type": "execute_result"
    }
   ],
   "source": [
    "np_arr ** 2"
   ]
  },
  {
   "cell_type": "code",
   "execution_count": 260,
   "metadata": {
    "id": "vI0c4HVyS2iP"
   },
   "outputs": [
    {
     "data": {
      "text/plain": [
       "array([[ 1. ,  0. , -1. ],\n",
       "       [ 2. ,  0.5,  0.1]])"
      ]
     },
     "execution_count": 260,
     "metadata": {},
     "output_type": "execute_result"
    }
   ],
   "source": [
    "np_arr"
   ]
  },
  {
   "cell_type": "code",
   "execution_count": 261,
   "metadata": {
    "id": "V3TBIXMiS2iP"
   },
   "outputs": [
    {
     "data": {
      "text/plain": [
       "array([[1.  , 0.  , 1.  ],\n",
       "       [4.  , 0.25, 0.01]])"
      ]
     },
     "execution_count": 261,
     "metadata": {},
     "output_type": "execute_result"
    }
   ],
   "source": [
    "np_arr = np_arr ** 2\n",
    "np_arr"
   ]
  },
  {
   "cell_type": "code",
   "execution_count": 262,
   "metadata": {
    "id": "Qoz6amdvS2iQ"
   },
   "outputs": [
    {
     "data": {
      "text/plain": [
       "array([[1. , 0. , 1. ],\n",
       "       [2. , 0.5, 0.1]])"
      ]
     },
     "execution_count": 262,
     "metadata": {},
     "output_type": "execute_result"
    }
   ],
   "source": [
    "np_arr ** 0.5"
   ]
  },
  {
   "cell_type": "code",
   "execution_count": 263,
   "metadata": {
    "id": "RLrxvNl_S2iQ"
   },
   "outputs": [
    {
     "data": {
      "text/plain": [
       "array([[1. , 0. , 1. ],\n",
       "       [2. , 0.5, 0.1]])"
      ]
     },
     "execution_count": 263,
     "metadata": {},
     "output_type": "execute_result"
    }
   ],
   "source": [
    "np_arr = np_arr ** 0.5\n",
    "np_arr"
   ]
  },
  {
   "cell_type": "code",
   "execution_count": 264,
   "metadata": {
    "id": "P-Vcnm3WS2iR"
   },
   "outputs": [
    {
     "data": {
      "text/plain": [
       "array([[1.  , 0.  , 1.  ],\n",
       "       [4.  , 0.25, 0.01]])"
      ]
     },
     "execution_count": 264,
     "metadata": {},
     "output_type": "execute_result"
    }
   ],
   "source": [
    "np_arr = np_arr ** 2\n",
    "np_arr"
   ]
  },
  {
   "cell_type": "code",
   "execution_count": 265,
   "metadata": {
    "id": "wNODmAGaS2iS"
   },
   "outputs": [
    {
     "data": {
      "text/plain": [
       "array([[1. , 0. , 1. ],\n",
       "       [2. , 0.5, 0.1]])"
      ]
     },
     "execution_count": 265,
     "metadata": {},
     "output_type": "execute_result"
    }
   ],
   "source": [
    "np.sqrt(np_arr)"
   ]
  },
  {
   "cell_type": "code",
   "execution_count": 266,
   "metadata": {
    "id": "D0oLLrrhS2iS"
   },
   "outputs": [
    {
     "data": {
      "text/plain": [
       "array([[1.  , 0.  , 1.  ],\n",
       "       [4.  , 0.25, 0.01]])"
      ]
     },
     "execution_count": 266,
     "metadata": {},
     "output_type": "execute_result"
    }
   ],
   "source": [
    "np_arr"
   ]
  },
  {
   "cell_type": "code",
   "execution_count": 267,
   "metadata": {
    "id": "7HSnTZ0zS2iS"
   },
   "outputs": [
    {
     "data": {
      "text/plain": [
       "array([[1. , 0. , 1. ],\n",
       "       [2. , 0.5, 0.1]])"
      ]
     },
     "execution_count": 267,
     "metadata": {},
     "output_type": "execute_result"
    }
   ],
   "source": [
    "np_arr = np.sqrt(np_arr)\n",
    "np_arr"
   ]
  },
  {
   "cell_type": "markdown",
   "metadata": {
    "id": "qv8PL9uTS2iT"
   },
   "source": [
    "### Quiz 21 - HW\n",
    "Define a function that takes in an array and returns an array whose elements are exponentiated versions of the original elements. Consider the exponent as an input to the function as well. Here is a test case to help you out.\n",
    "\n",
    "Consider the array shown below:\n",
    "```\n",
    "np_arr = np.array([[0, 2], [-2, -1]])\n",
    "```\n",
    "Exponentiate this array to produce the following array:\n",
    "```\n",
    "np.array([[0, 16], [16, 1]])\n",
    "```"
   ]
  },
  {
   "cell_type": "code",
   "execution_count": 268,
   "metadata": {
    "id": "_RdZIJAgS2iT"
   },
   "outputs": [
    {
     "name": "stdout",
     "output_type": "stream",
     "text": [
      "[[ 0 16]\n",
      " [16  1]]\n"
     ]
    }
   ],
   "source": [
    "def expo(arr, n): return arr ** n\n",
    "np_arr = np.array([[0, 2], [-2, -1]])\n",
    "print(expo(np_arr, 4))"
   ]
  },
  {
   "cell_type": "markdown",
   "metadata": {
    "id": "V4JbooUuS2iT"
   },
   "source": [
    "### Example 10\n",
    "Operations along axes"
   ]
  },
  {
   "cell_type": "code",
   "execution_count": 269,
   "metadata": {
    "id": "6-0fsh5qS2iT"
   },
   "outputs": [
    {
     "data": {
      "text/plain": [
       "array([ 1,  2, -3,  5,  6])"
      ]
     },
     "execution_count": 269,
     "metadata": {},
     "output_type": "execute_result"
    }
   ],
   "source": [
    "np_arr = np.array([1, 2, -3, 5, 6])\n",
    "np_arr"
   ]
  },
  {
   "cell_type": "code",
   "execution_count": 270,
   "metadata": {
    "id": "h5FnTk3RS2iT"
   },
   "outputs": [
    {
     "data": {
      "text/plain": [
       "np.int64(11)"
      ]
     },
     "execution_count": 270,
     "metadata": {},
     "output_type": "execute_result"
    }
   ],
   "source": [
    "np_arr.sum()"
   ]
  },
  {
   "cell_type": "code",
   "execution_count": 271,
   "metadata": {
    "id": "xvjrrk-PS2iT"
   },
   "outputs": [
    {
     "data": {
      "text/plain": [
       "array([[ 1,  2, -3,  5,  6],\n",
       "       [-4,  3,  2,  5, -2]])"
      ]
     },
     "execution_count": 271,
     "metadata": {},
     "output_type": "execute_result"
    }
   ],
   "source": [
    "np_arr = np.array([[1, 2, -3, 5, 6], [-4, 3, 2, 5, -2]])\n",
    "np_arr"
   ]
  },
  {
   "cell_type": "code",
   "execution_count": 272,
   "metadata": {
    "id": "Db91Hw2aS2iT"
   },
   "outputs": [
    {
     "data": {
      "text/plain": [
       "np.int64(15)"
      ]
     },
     "execution_count": 272,
     "metadata": {},
     "output_type": "execute_result"
    }
   ],
   "source": [
    "np_arr.sum()"
   ]
  },
  {
   "cell_type": "code",
   "execution_count": 273,
   "metadata": {
    "id": "QT_WyCEHS2iU"
   },
   "outputs": [
    {
     "data": {
      "text/plain": [
       "array([-3,  5, -1, 10,  4])"
      ]
     },
     "execution_count": 273,
     "metadata": {},
     "output_type": "execute_result"
    }
   ],
   "source": [
    "np_arr.sum(axis = 0)"
   ]
  },
  {
   "cell_type": "code",
   "execution_count": 274,
   "metadata": {
    "id": "2vPTs7AGS2iU"
   },
   "outputs": [
    {
     "data": {
      "text/plain": [
       "array([11,  4])"
      ]
     },
     "execution_count": 274,
     "metadata": {},
     "output_type": "execute_result"
    }
   ],
   "source": [
    "np_arr.sum(axis = 1)"
   ]
  },
  {
   "cell_type": "code",
   "execution_count": 275,
   "metadata": {
    "id": "tF7bQRb7S2iU"
   },
   "outputs": [
    {
     "data": {
      "text/plain": [
       "array([[ 1,  2, -3,  5,  6],\n",
       "       [-4,  3,  2,  5, -2]])"
      ]
     },
     "execution_count": 275,
     "metadata": {},
     "output_type": "execute_result"
    }
   ],
   "source": [
    "np_arr"
   ]
  },
  {
   "cell_type": "code",
   "execution_count": 276,
   "metadata": {
    "id": "z44ka9fHS2iV"
   },
   "outputs": [
    {
     "data": {
      "text/plain": [
       "np.int64(-43200)"
      ]
     },
     "execution_count": 276,
     "metadata": {},
     "output_type": "execute_result"
    }
   ],
   "source": [
    "np_arr.prod()"
   ]
  },
  {
   "cell_type": "code",
   "execution_count": 277,
   "metadata": {
    "id": "Eu-PGX43S2iV"
   },
   "outputs": [
    {
     "data": {
      "text/plain": [
       "array([ -4,   6,  -6,  25, -12])"
      ]
     },
     "execution_count": 277,
     "metadata": {},
     "output_type": "execute_result"
    }
   ],
   "source": [
    "np_arr.prod(axis = 0)"
   ]
  },
  {
   "cell_type": "code",
   "execution_count": 278,
   "metadata": {
    "id": "G2xDdAELS2iV"
   },
   "outputs": [
    {
     "data": {
      "text/plain": [
       "array([-180,  240])"
      ]
     },
     "execution_count": 278,
     "metadata": {},
     "output_type": "execute_result"
    }
   ],
   "source": [
    "np_arr.prod(axis = 1)"
   ]
  },
  {
   "cell_type": "code",
   "execution_count": 279,
   "metadata": {
    "id": "VFCyLAB4S2iW"
   },
   "outputs": [
    {
     "data": {
      "text/plain": [
       "array([[ 1,  2, -3,  5,  6],\n",
       "       [-4,  3,  2,  5, -2]])"
      ]
     },
     "execution_count": 279,
     "metadata": {},
     "output_type": "execute_result"
    }
   ],
   "source": [
    "np_arr = np.array([[1, 2, -3, 5, 6], [-4, 3, 2, 5, -2]])\n",
    "np_arr"
   ]
  },
  {
   "cell_type": "code",
   "execution_count": 280,
   "metadata": {
    "id": "mPi-S7KfS2iW"
   },
   "outputs": [
    {
     "data": {
      "text/plain": [
       "np.float64(1.5)"
      ]
     },
     "execution_count": 280,
     "metadata": {},
     "output_type": "execute_result"
    }
   ],
   "source": [
    "np_arr.mean()"
   ]
  },
  {
   "cell_type": "code",
   "execution_count": 281,
   "metadata": {
    "id": "pE1JnpMdS2iX"
   },
   "outputs": [
    {
     "data": {
      "text/plain": [
       "array([-1.5,  2.5, -0.5,  5. ,  2. ])"
      ]
     },
     "execution_count": 281,
     "metadata": {},
     "output_type": "execute_result"
    }
   ],
   "source": [
    "np_arr.mean(axis = 0)"
   ]
  },
  {
   "cell_type": "code",
   "execution_count": 282,
   "metadata": {
    "id": "9oKJL1MxS2iX"
   },
   "outputs": [
    {
     "data": {
      "text/plain": [
       "array([2.2, 0.8])"
      ]
     },
     "execution_count": 282,
     "metadata": {},
     "output_type": "execute_result"
    }
   ],
   "source": [
    "np_arr.mean(axis = 1)"
   ]
  },
  {
   "cell_type": "markdown",
   "metadata": {
    "id": "48-mkEs5S2iX"
   },
   "source": [
    "### Quiz 22\n",
    "Suppose you have the coordinates of two points in 3D space as follows:\n",
    "```\n",
    "point1 = np.array([-2, 3, 5])\n",
    "point2 = np.array([1, 0, -4])\n",
    "```\n",
    "Find the distance between these points using the Euclidean distance. Feel free to use a combination of operations and methods to perform this task. Take help from a language AI model if required."
   ]
  },
  {
   "cell_type": "code",
   "execution_count": 283,
   "metadata": {
    "id": "8GsSfNS3S2iY"
   },
   "outputs": [
    {
     "data": {
      "text/plain": [
       "np.float64(9.9498743710662)"
      ]
     },
     "execution_count": 283,
     "metadata": {},
     "output_type": "execute_result"
    }
   ],
   "source": [
    "point1 = np.array([-2, 3, 5])\n",
    "point2 = np.array([1, 0, -4])\n",
    "distance = np.sqrt(np.sum((point1 - point2)**2))\n",
    "distance"
   ]
  },
  {
   "cell_type": "markdown",
   "metadata": {
    "id": "TOVVAH5rS2iY"
   },
   "source": [
    "### Quiz 23 - HW\n",
    "Load the file `image.jpg` and convert it into an array `img`. Find the mean of the array along its second (middle) dimension. Note that since the original shape of the array is $25\\times25\\times3$, the resulting shape of the mean operation should be $25\\times3$. Try querying a language AI model to help you out."
   ]
  },
  {
   "cell_type": "code",
   "execution_count": 284,
   "metadata": {
    "id": "8kv7wGcJS2iY",
    "scrolled": true
   },
   "outputs": [
    {
     "name": "stdout",
     "output_type": "stream",
     "text": [
      "(25, 3) \n",
      " [[  3.56  26.88  47.28]\n",
      " [  5.32  29.6   50.32]\n",
      " [  8.08  31.24  54.76]\n",
      " [  9.04  34.88  59.4 ]\n",
      " [ 10.4   38.48  63.48]\n",
      " [ 11.92  42.36  68.44]\n",
      " [ 13.8   46.84  74.12]\n",
      " [ 14.2   50.2   78.64]\n",
      " [ 15.44  53.92  82.96]\n",
      " [ 25.4   67.48  97.72]\n",
      " [ 29.96  74.84 106.4 ]\n",
      " [ 43.84  91.08 123.56]\n",
      " [ 31.52  81.04 113.88]\n",
      " [ 40.    91.32 124.92]\n",
      " [ 28.12  80.4  114.48]\n",
      " [ 23.16  72.96 108.72]\n",
      " [ 18.12  63.16 101.68]\n",
      " [ 12.92  53.92  92.44]\n",
      " [ 13.    50.36  86.04]\n",
      " [ 15.32  48.    80.  ]\n",
      " [ 12.88  40.04  67.8 ]\n",
      " [ 10.72  32.56  55.88]\n",
      " [ 10.16  26.88  46.  ]\n",
      " [  7.76  20.2   36.36]\n",
      " [  9.76  19.88  33.6 ]]\n"
     ]
    }
   ],
   "source": [
    "result = np.mean(img, axis=1)\n",
    "print(result.shape,'\\n',result)"
   ]
  },
  {
   "cell_type": "markdown",
   "metadata": {
    "id": "NBA-QOrtS2iZ"
   },
   "source": [
    "### Quiz 24 - HW\n",
    "Load the file `image.jpg` and convert it into an array `img`. Count the number of white pixels in the image. Note that white pixels have a value of 255 in all 3 channels. Feel free to use a combination of operations and methods to perform this task. Take help from a language AI model if required."
   ]
  },
  {
   "cell_type": "code",
   "execution_count": 285,
   "metadata": {
    "id": "ul1PomnDS2iZ"
   },
   "outputs": [
    {
     "data": {
      "text/plain": [
       "0"
      ]
     },
     "execution_count": 285,
     "metadata": {},
     "output_type": "execute_result"
    }
   ],
   "source": [
    "np.size(np.where((img[:,:,0]==255) & (img[:,:,1]==255) & (img[:,:,2]==255)))"
   ]
  },
  {
   "cell_type": "markdown",
   "metadata": {
    "id": "ikdVH0cBS2iZ"
   },
   "source": [
    "### Example 11\n",
    "Rounding"
   ]
  },
  {
   "cell_type": "code",
   "execution_count": 286,
   "metadata": {
    "id": "eBi1kC44S2ia"
   },
   "outputs": [
    {
     "data": {
      "text/plain": [
       "array([ 1.56  ,  2.765 , -3.33  ,  5.102 ,  6.6464])"
      ]
     },
     "execution_count": 286,
     "metadata": {},
     "output_type": "execute_result"
    }
   ],
   "source": [
    "np_arr = np.array([1.56, 2.765, -3.33, 5.102, 6.6464])\n",
    "np_arr"
   ]
  },
  {
   "cell_type": "code",
   "execution_count": 287,
   "metadata": {
    "id": "q3phteZUS2ia"
   },
   "outputs": [
    {
     "data": {
      "text/plain": [
       "array([ 1.56,  2.76, -3.33,  5.1 ,  6.65])"
      ]
     },
     "execution_count": 287,
     "metadata": {},
     "output_type": "execute_result"
    }
   ],
   "source": [
    "np.round(a = np_arr, decimals = 2)"
   ]
  },
  {
   "cell_type": "code",
   "execution_count": 288,
   "metadata": {
    "id": "yUmKabIFS2ia"
   },
   "outputs": [
    {
     "data": {
      "text/plain": [
       "array([ 1.56  ,  2.765 , -3.33  ,  5.102 ,  6.6464])"
      ]
     },
     "execution_count": 288,
     "metadata": {},
     "output_type": "execute_result"
    }
   ],
   "source": [
    "np_arr"
   ]
  },
  {
   "cell_type": "code",
   "execution_count": 289,
   "metadata": {
    "id": "phklfLpcS2ib"
   },
   "outputs": [
    {
     "data": {
      "text/plain": [
       "array([ 1.56,  2.76, -3.33,  5.1 ,  6.65])"
      ]
     },
     "execution_count": 289,
     "metadata": {},
     "output_type": "execute_result"
    }
   ],
   "source": [
    "np_arr = np.round(a = np_arr, decimals = 2)\n",
    "np_arr"
   ]
  },
  {
   "cell_type": "code",
   "execution_count": 290,
   "metadata": {
    "id": "te2klIE1S2ib"
   },
   "outputs": [
    {
     "data": {
      "text/plain": [
       "array([ 2.,  3., -3.,  5.,  7.])"
      ]
     },
     "execution_count": 290,
     "metadata": {},
     "output_type": "execute_result"
    }
   ],
   "source": [
    "np.round(np_arr)"
   ]
  },
  {
   "cell_type": "code",
   "execution_count": 291,
   "metadata": {
    "id": "0Q7E7zLFS2ic"
   },
   "outputs": [
    {
     "data": {
      "text/plain": [
       "array([ 2.,  3., -3.,  5.,  7.])"
      ]
     },
     "execution_count": 291,
     "metadata": {},
     "output_type": "execute_result"
    }
   ],
   "source": [
    "np_arr = np.round(np_arr)\n",
    "np_arr"
   ]
  },
  {
   "cell_type": "markdown",
   "metadata": {
    "id": "V_NCx4TES2ic"
   },
   "source": [
    "### Quiz 25 - HW\n",
    "Define a function that takes in the coordinates of three points in 2D space and returns the area of the triangle formed by them. Here is a test case to help you out.\n",
    "\n",
    "Suppose you have the coordinates of three points in 2D space as follows:\n",
    "```\n",
    "points = [(-2.4, 3.2), (1.1, 0.6), (-4.3, 6.7)]\n",
    "```\n",
    "The area of the triangle formed by the above points is $3.7$ squared units.\n",
    "\n",
    "Try using the `abs` and `cross` methods from NumPy to solve this problem. Remember mathematics from school. Note that you need to convert the tuples to arrays to perform vector operations. Feel free to use a combination of operations and methods to perform this task. Take help from a language AI model if required."
   ]
  },
  {
   "cell_type": "code",
   "execution_count": 292,
   "metadata": {
    "id": "xqhL5cx3S2id"
   },
   "outputs": [
    {
     "data": {
      "text/plain": [
       "np.float64(16.77)"
      ]
     },
     "execution_count": 292,
     "metadata": {},
     "output_type": "execute_result"
    }
   ],
   "source": [
    "points = [(-2.4, 3.2), (1.1, 0.6), (-4.3, 6.7)]\n",
    "p1, p2, p3 = np.array(points[0]), np.array(points[1]), np.array(points[2])\n",
    "area = 0.5 * (np.abs(p1[0]*(p2[1]-p3[1]) + p2[0]*(p3[1]-p1[1]) + p3[0]*(p1[1]-p3[1])))\n",
    "area"
   ]
  },
  {
   "cell_type": "markdown",
   "metadata": {
    "id": "KhQasDU6S2id"
   },
   "source": [
    "### Example 12\n",
    "Customizing operations along axes"
   ]
  },
  {
   "cell_type": "code",
   "execution_count": 293,
   "metadata": {
    "id": "wTs5X63US2id"
   },
   "outputs": [
    {
     "data": {
      "text/plain": [
       "array([[ 1,  2, -3,  5,  6],\n",
       "       [-4,  3,  2,  5, -2]])"
      ]
     },
     "execution_count": 293,
     "metadata": {},
     "output_type": "execute_result"
    }
   ],
   "source": [
    "np_arr = np.array([[1, 2, -3, 5, 6], [-4, 3, 2, 5, -2]])\n",
    "np_arr"
   ]
  },
  {
   "cell_type": "code",
   "execution_count": 294,
   "metadata": {
    "id": "JLZvX1eaS2id"
   },
   "outputs": [],
   "source": [
    "def numtransform(x):\n",
    "    return(x**2 + 5)"
   ]
  },
  {
   "cell_type": "code",
   "execution_count": 295,
   "metadata": {
    "id": "sTv6uNL4S2id"
   },
   "outputs": [
    {
     "data": {
      "text/plain": [
       "array([[ 6,  9, 14, 30, 41],\n",
       "       [21, 14,  9, 30,  9]])"
      ]
     },
     "execution_count": 295,
     "metadata": {},
     "output_type": "execute_result"
    }
   ],
   "source": [
    "np.apply_along_axis(func1d = numtransform, axis = 0, arr = np_arr)"
   ]
  },
  {
   "cell_type": "code",
   "execution_count": 296,
   "metadata": {
    "id": "jbqqoi2SS2ie"
   },
   "outputs": [],
   "source": [
    "def numtransform(x):\n",
    "    return(np.mean(x) + 3)"
   ]
  },
  {
   "cell_type": "code",
   "execution_count": 297,
   "metadata": {
    "id": "daa135cAS2if"
   },
   "outputs": [
    {
     "data": {
      "text/plain": [
       "array([1.5, 5.5, 2.5, 8. , 5. ])"
      ]
     },
     "execution_count": 297,
     "metadata": {},
     "output_type": "execute_result"
    }
   ],
   "source": [
    "np.apply_along_axis(func1d = numtransform, axis = 0, arr = np_arr)"
   ]
  },
  {
   "cell_type": "code",
   "execution_count": 298,
   "metadata": {
    "id": "m0rLryTRS2if"
   },
   "outputs": [
    {
     "data": {
      "text/plain": [
       "array([5.2, 3.8])"
      ]
     },
     "execution_count": 298,
     "metadata": {},
     "output_type": "execute_result"
    }
   ],
   "source": [
    "np.apply_along_axis(func1d = numtransform, axis = 1, arr = np_arr)"
   ]
  },
  {
   "cell_type": "markdown",
   "metadata": {
    "id": "ReffvozpS2if"
   },
   "source": [
    "### Example 13\n",
    "Generating numerical pattern arrays"
   ]
  },
  {
   "cell_type": "code",
   "execution_count": 299,
   "metadata": {
    "id": "REww3sXCS2ig"
   },
   "outputs": [
    {
     "data": {
      "text/plain": [
       "array([0, 1, 2, 3, 4])"
      ]
     },
     "execution_count": 299,
     "metadata": {},
     "output_type": "execute_result"
    }
   ],
   "source": [
    "np.arange(start = 0, stop = 5, step = 1)"
   ]
  },
  {
   "cell_type": "code",
   "execution_count": 300,
   "metadata": {
    "id": "xAZkSNKgS2ig"
   },
   "outputs": [
    {
     "data": {
      "text/plain": [
       "array([-10. ,  -9.5,  -9. ,  -8.5,  -8. ,  -7.5,  -7. ,  -6.5,  -6. ,\n",
       "        -5.5,  -5. ,  -4.5,  -4. ,  -3.5,  -3. ,  -2.5,  -2. ,  -1.5,\n",
       "        -1. ,  -0.5])"
      ]
     },
     "execution_count": 300,
     "metadata": {},
     "output_type": "execute_result"
    }
   ],
   "source": [
    "np.arange(-10, 0, 0.5)"
   ]
  },
  {
   "cell_type": "code",
   "execution_count": 301,
   "metadata": {
    "id": "rl-Y9LQWS2ig"
   },
   "outputs": [
    {
     "data": {
      "text/plain": [
       "array([0, 1, 2, 3, 4])"
      ]
     },
     "execution_count": 301,
     "metadata": {},
     "output_type": "execute_result"
    }
   ],
   "source": [
    "np.arange(0, 5)"
   ]
  },
  {
   "cell_type": "code",
   "execution_count": 302,
   "metadata": {
    "id": "xkv2rzZxS2ih"
   },
   "outputs": [
    {
     "data": {
      "text/plain": [
       "array([0.  , 0.05, 0.1 , 0.15, 0.2 , 0.25, 0.3 , 0.35, 0.4 , 0.45, 0.5 ])"
      ]
     },
     "execution_count": 302,
     "metadata": {},
     "output_type": "execute_result"
    }
   ],
   "source": [
    "np.arange(0, 0.55, 0.05)"
   ]
  },
  {
   "cell_type": "code",
   "execution_count": 303,
   "metadata": {
    "id": "mCYukcHAS2ih"
   },
   "outputs": [
    {
     "data": {
      "text/plain": [
       "array([0., 1.])"
      ]
     },
     "execution_count": 303,
     "metadata": {},
     "output_type": "execute_result"
    }
   ],
   "source": [
    "np.linspace(start = 0, stop = 1, num = 2)"
   ]
  },
  {
   "cell_type": "code",
   "execution_count": 304,
   "metadata": {
    "id": "hqA5m1KqS2ii"
   },
   "outputs": [
    {
     "data": {
      "text/plain": [
       "array([0.  , 0.25, 0.5 , 0.75, 1.  ])"
      ]
     },
     "execution_count": 304,
     "metadata": {},
     "output_type": "execute_result"
    }
   ],
   "source": [
    "np.linspace(start = 0, stop = 1, num = 5)"
   ]
  },
  {
   "cell_type": "code",
   "execution_count": 305,
   "metadata": {
    "id": "q5NDQaAxS2ii"
   },
   "outputs": [
    {
     "data": {
      "text/plain": [
       "array([0.        , 0.02040816, 0.04081633, 0.06122449, 0.08163265,\n",
       "       0.10204082, 0.12244898, 0.14285714, 0.16326531, 0.18367347,\n",
       "       0.20408163, 0.2244898 , 0.24489796, 0.26530612, 0.28571429,\n",
       "       0.30612245, 0.32653061, 0.34693878, 0.36734694, 0.3877551 ,\n",
       "       0.40816327, 0.42857143, 0.44897959, 0.46938776, 0.48979592,\n",
       "       0.51020408, 0.53061224, 0.55102041, 0.57142857, 0.59183673,\n",
       "       0.6122449 , 0.63265306, 0.65306122, 0.67346939, 0.69387755,\n",
       "       0.71428571, 0.73469388, 0.75510204, 0.7755102 , 0.79591837,\n",
       "       0.81632653, 0.83673469, 0.85714286, 0.87755102, 0.89795918,\n",
       "       0.91836735, 0.93877551, 0.95918367, 0.97959184, 1.        ])"
      ]
     },
     "execution_count": 305,
     "metadata": {},
     "output_type": "execute_result"
    }
   ],
   "source": [
    "np.linspace(start = 0, stop = 1, num = 50)"
   ]
  },
  {
   "cell_type": "code",
   "execution_count": 306,
   "metadata": {
    "id": "podJ3AaiS2ij"
   },
   "outputs": [
    {
     "data": {
      "text/plain": [
       "array([0.  , 0.02, 0.04, 0.06, 0.08, 0.1 , 0.12, 0.14, 0.16, 0.18, 0.2 ,\n",
       "       0.22, 0.24, 0.26, 0.28, 0.3 , 0.32, 0.34, 0.36, 0.38, 0.4 , 0.42,\n",
       "       0.44, 0.46, 0.48, 0.5 , 0.52, 0.54, 0.56, 0.58, 0.6 , 0.62, 0.64,\n",
       "       0.66, 0.68, 0.7 , 0.72, 0.74, 0.76, 0.78, 0.8 , 0.82, 0.84, 0.86,\n",
       "       0.88, 0.9 , 0.92, 0.94, 0.96, 0.98, 1.  ])"
      ]
     },
     "execution_count": 306,
     "metadata": {},
     "output_type": "execute_result"
    }
   ],
   "source": [
    "np.linspace(start = 0, stop = 1, num = 51)"
   ]
  },
  {
   "cell_type": "markdown",
   "metadata": {
    "id": "RmpkI7OXS2ij"
   },
   "source": [
    "### Quiz 26\n",
    "Create the following array:\n",
    "```\n",
    "np.array[-7, -6.5, -6, -5.5, -5, -4.5, -4, -3.5, -3, -2.5, -2, -1.5, -1, -0.5, 0, 0.5, 1, 1.5, 2, 2.5, 3, 3.5, 4.]\n",
    "```"
   ]
  },
  {
   "cell_type": "code",
   "execution_count": 307,
   "metadata": {
    "id": "1yfhroFsS2ik"
   },
   "outputs": [
    {
     "data": {
      "text/plain": [
       "array([-7. , -6.5, -6. , -5.5, -5. , -4.5, -4. , -3.5, -3. , -2.5, -2. ,\n",
       "       -1.5, -1. , -0.5,  0. ,  0.5,  1. ,  1.5,  2. ,  2.5,  3. ,  3.5,\n",
       "        4. ])"
      ]
     },
     "execution_count": 307,
     "metadata": {},
     "output_type": "execute_result"
    }
   ],
   "source": [
    "np.array(np.arange(-7, 4.1, .5))"
   ]
  },
  {
   "cell_type": "markdown",
   "metadata": {
    "id": "YC06r9ncS2ik"
   },
   "source": [
    "### Quiz 27\n",
    "Create an array with 20 entries starting with the number $-10$ and ending with the number $10$."
   ]
  },
  {
   "cell_type": "code",
   "execution_count": 308,
   "metadata": {
    "id": "_Y5ZVD3XS2ik"
   },
   "outputs": [
    {
     "data": {
      "text/plain": [
       "array([-10.        ,  -8.94736842,  -7.89473684,  -6.84210526,\n",
       "        -5.78947368,  -4.73684211,  -3.68421053,  -2.63157895,\n",
       "        -1.57894737,  -0.52631579,   0.52631579,   1.57894737,\n",
       "         2.63157895,   3.68421053,   4.73684211,   5.78947368,\n",
       "         6.84210526,   7.89473684,   8.94736842,  10.        ])"
      ]
     },
     "execution_count": 308,
     "metadata": {},
     "output_type": "execute_result"
    }
   ],
   "source": [
    "np.array(np.linspace(-10, 10, 20))"
   ]
  },
  {
   "cell_type": "markdown",
   "metadata": {
    "id": "n8xzZsR5S2il"
   },
   "source": [
    "### Quiz 28\n",
    "Define a function that takes in the first term and the common difference of an arithmetic progression and prints the first $n$ terms of the sequence."
   ]
  },
  {
   "cell_type": "code",
   "execution_count": 337,
   "metadata": {
    "id": "Z_4doAWnS2il"
   },
   "outputs": [
    {
     "data": {
      "text/plain": [
       "array([ 0, 10, 20, 30, 40, 50, 60, 70, 80, 90])"
      ]
     },
     "execution_count": 337,
     "metadata": {},
     "output_type": "execute_result"
    }
   ],
   "source": [
    "def ap(a, d, n):\n",
    "    arr = np.arange(a, a+n*d, d)\n",
    "    return arr\n",
    "\n",
    "ap(0,10,10)"
   ]
  },
  {
   "cell_type": "markdown",
   "metadata": {
    "id": "thxEF_O9S2im"
   },
   "source": [
    "### Quiz 29 - HW\n",
    "Define a function that takes in a starting alphabet and an ending alphabet and generates an array with all the alphabets in between the input alphabets inclusive of them. Add a skipping parameter to the function as well that allows for regular skipping of generated alphabets. Note that the `arange` method only works for numeric values. Try extracting the ASCII values of the input alphabets and use that to solve the problem. Feel free to use a combination of operations and methods to perform this task. Take help from a language AI model if required."
   ]
  },
  {
   "cell_type": "code",
   "execution_count": 315,
   "metadata": {
    "id": "nUdwtETpS2im"
   },
   "outputs": [
    {
     "data": {
      "text/plain": [
       "array(['a', 'c', 'e', 'g', 'i', 'k', 'm', 'o', 'q', 's', 'u', 'w', 'y'],\n",
       "      dtype='<U32')"
      ]
     },
     "execution_count": 315,
     "metadata": {},
     "output_type": "execute_result"
    }
   ],
   "source": [
    "def alpha(a, z, skip):\n",
    "    x = ord(a)\n",
    "    y = ord(z)+1\n",
    "    arr = np.array([])\n",
    "    for i in range(x, y, skip):\n",
    "        arr = np.append(arr, chr(i))\n",
    "    return arr\n",
    "\n",
    "alpha('a', 'z', 2)"
   ]
  },
  {
   "cell_type": "markdown",
   "metadata": {
    "id": "lTVOlRR1S2in"
   },
   "source": [
    "### Example 14\n",
    "Generating some standard arrays"
   ]
  },
  {
   "cell_type": "code",
   "execution_count": 320,
   "metadata": {
    "id": "0S0_umEbS2in"
   },
   "outputs": [
    {
     "data": {
      "text/plain": [
       "array([[0., 0., 0., 0.],\n",
       "       [0., 0., 0., 0.]])"
      ]
     },
     "execution_count": 320,
     "metadata": {},
     "output_type": "execute_result"
    }
   ],
   "source": [
    "np.zeros(shape = (2, 4))"
   ]
  },
  {
   "cell_type": "code",
   "execution_count": 322,
   "metadata": {
    "id": "OyGMA6uvS2in"
   },
   "outputs": [
    {
     "data": {
      "text/plain": [
       "array([0., 0., 0., 0., 0., 0., 0., 0., 0., 0., 0., 0., 0., 0.])"
      ]
     },
     "execution_count": 322,
     "metadata": {},
     "output_type": "execute_result"
    }
   ],
   "source": [
    "np.zeros(14)"
   ]
  },
  {
   "cell_type": "code",
   "execution_count": 323,
   "metadata": {
    "id": "1iRGQXxgS2io"
   },
   "outputs": [
    {
     "data": {
      "text/plain": [
       "array([[1., 1., 1., 1., 1.],\n",
       "       [1., 1., 1., 1., 1.],\n",
       "       [1., 1., 1., 1., 1.]])"
      ]
     },
     "execution_count": 323,
     "metadata": {},
     "output_type": "execute_result"
    }
   ],
   "source": [
    "np.ones(shape = (3, 5))"
   ]
  },
  {
   "cell_type": "markdown",
   "metadata": {
    "id": "2derZQ-wS2io"
   },
   "source": [
    "Try exloring the `eye` and `identity` methods that generate some standard arrays as well. Take help from a language AI model if required."
   ]
  },
  {
   "cell_type": "markdown",
   "metadata": {
    "id": "eAm80qCfS2io"
   },
   "source": [
    "### Quiz 30 - HW\n",
    "Generate a $5\\times3\\times4$ array filled with the value $100$."
   ]
  },
  {
   "cell_type": "code",
   "execution_count": 327,
   "metadata": {
    "id": "xkmA2gXXS2io",
    "scrolled": false
   },
   "outputs": [
    {
     "data": {
      "text/plain": [
       "array([[[100., 100., 100., 100.],\n",
       "        [100., 100., 100., 100.],\n",
       "        [100., 100., 100., 100.]],\n",
       "\n",
       "       [[100., 100., 100., 100.],\n",
       "        [100., 100., 100., 100.],\n",
       "        [100., 100., 100., 100.]],\n",
       "\n",
       "       [[100., 100., 100., 100.],\n",
       "        [100., 100., 100., 100.],\n",
       "        [100., 100., 100., 100.]],\n",
       "\n",
       "       [[100., 100., 100., 100.],\n",
       "        [100., 100., 100., 100.],\n",
       "        [100., 100., 100., 100.]],\n",
       "\n",
       "       [[100., 100., 100., 100.],\n",
       "        [100., 100., 100., 100.],\n",
       "        [100., 100., 100., 100.]]])"
      ]
     },
     "execution_count": 327,
     "metadata": {},
     "output_type": "execute_result"
    }
   ],
   "source": [
    "np.ones((5,3,4))*100"
   ]
  },
  {
   "cell_type": "markdown",
   "metadata": {
    "id": "QdKOspGVS2ip"
   },
   "source": [
    "### Example 15\n",
    "Random number generation"
   ]
  },
  {
   "cell_type": "code",
   "execution_count": 1040,
   "metadata": {
    "id": "n6yk7A6YS2ip"
   },
   "outputs": [
    {
     "data": {
      "text/plain": [
       "array([2, 1, 1, 3, 3, 2, 4, 1, 3, 2], dtype=int32)"
      ]
     },
     "execution_count": 1040,
     "metadata": {},
     "output_type": "execute_result"
    }
   ],
   "source": [
    "np.random.randint(low = 1, high = 5, size = 10)"
   ]
  },
  {
   "cell_type": "code",
   "execution_count": 329,
   "metadata": {
    "id": "UYEuOFNTS2ip"
   },
   "outputs": [
    {
     "data": {
      "text/plain": [
       "array([1], dtype=int32)"
      ]
     },
     "execution_count": 329,
     "metadata": {},
     "output_type": "execute_result"
    }
   ],
   "source": [
    "np.random.randint(low = -10, high = 16, size = 1)"
   ]
  },
  {
   "cell_type": "code",
   "execution_count": 332,
   "metadata": {
    "id": "1IH6ch9QS2iq"
   },
   "outputs": [
    {
     "data": {
      "text/plain": [
       "0.9211866408738405"
      ]
     },
     "execution_count": 332,
     "metadata": {},
     "output_type": "execute_result"
    }
   ],
   "source": [
    "np.random.rand()"
   ]
  },
  {
   "cell_type": "code",
   "execution_count": 336,
   "metadata": {
    "id": "ZcxOC0xzS2iq"
   },
   "outputs": [
    {
     "data": {
      "text/plain": [
       "array([[0.59657588, 0.65411389, 0.64710291],\n",
       "       [0.14139456, 0.37386043, 0.93863195]])"
      ]
     },
     "execution_count": 336,
     "metadata": {},
     "output_type": "execute_result"
    }
   ],
   "source": [
    "np.random.rand(2, 3)"
   ]
  },
  {
   "cell_type": "code",
   "execution_count": 1044,
   "metadata": {
    "id": "JlVWDgq8S2iq"
   },
   "outputs": [
    {
     "data": {
      "text/plain": [
       "array([[0.53511682, 0.03356384],\n",
       "       [0.78894719, 0.40259249],\n",
       "       [0.53204435, 0.38659775],\n",
       "       [0.71614321, 0.79139734]])"
      ]
     },
     "execution_count": 1044,
     "metadata": {},
     "output_type": "execute_result"
    }
   ],
   "source": [
    "np.random.rand(4, 2)"
   ]
  },
  {
   "cell_type": "markdown",
   "metadata": {
    "id": "CmXDIWatS2ir"
   },
   "source": [
    "### Example 16\n",
    "Maximum and minimum values"
   ]
  },
  {
   "cell_type": "code",
   "execution_count": 1045,
   "metadata": {
    "id": "qN-WTRLHS2ir"
   },
   "outputs": [
    {
     "data": {
      "text/plain": [
       "array([[[3.273e+01, 6.194e+01, 5.327e+01],\n",
       "        [1.409e+01, 7.757e+01, 4.710e+00],\n",
       "        [2.050e+00, 6.483e+01, 9.274e+01],\n",
       "        [6.018e+01, 2.000e-02, 2.455e+01]],\n",
       "\n",
       "       [[1.435e+01, 2.339e+01, 8.232e+01],\n",
       "        [8.100e-01, 7.114e+01, 5.009e+01],\n",
       "        [3.380e+01, 5.795e+01, 8.232e+01],\n",
       "        [9.764e+01, 1.892e+01, 3.926e+01]]])"
      ]
     },
     "execution_count": 1045,
     "metadata": {},
     "output_type": "execute_result"
    }
   ],
   "source": [
    "np_arr = np.round(np.random.rand(2, 4, 3) * 100, 2)\n",
    "np_arr"
   ]
  },
  {
   "cell_type": "code",
   "execution_count": 1046,
   "metadata": {
    "id": "s5dLec3KS2ir"
   },
   "outputs": [
    {
     "data": {
      "text/plain": [
       "np.float64(97.64)"
      ]
     },
     "execution_count": 1046,
     "metadata": {},
     "output_type": "execute_result"
    }
   ],
   "source": [
    "np_arr.max()"
   ]
  },
  {
   "cell_type": "code",
   "execution_count": 1047,
   "metadata": {
    "id": "7MMuKDmeS2is"
   },
   "outputs": [
    {
     "data": {
      "text/plain": [
       "np.float64(0.02)"
      ]
     },
     "execution_count": 1047,
     "metadata": {},
     "output_type": "execute_result"
    }
   ],
   "source": [
    "np_arr.min()"
   ]
  },
  {
   "cell_type": "code",
   "execution_count": 1048,
   "metadata": {
    "id": "bvtHsZwYS2is"
   },
   "outputs": [
    {
     "data": {
      "text/plain": [
       "array([[32.73, 61.94, 82.32],\n",
       "       [14.09, 77.57, 50.09],\n",
       "       [33.8 , 64.83, 92.74],\n",
       "       [97.64, 18.92, 39.26]])"
      ]
     },
     "execution_count": 1048,
     "metadata": {},
     "output_type": "execute_result"
    }
   ],
   "source": [
    "np_arr.max(axis = 0)"
   ]
  },
  {
   "cell_type": "code",
   "execution_count": 1049,
   "metadata": {
    "id": "PuSnolAZS2is"
   },
   "outputs": [
    {
     "data": {
      "text/plain": [
       "array([[60.18, 77.57, 92.74],\n",
       "       [97.64, 71.14, 82.32]])"
      ]
     },
     "execution_count": 1049,
     "metadata": {},
     "output_type": "execute_result"
    }
   ],
   "source": [
    "np_arr.max(axis = 1)"
   ]
  },
  {
   "cell_type": "code",
   "execution_count": 1050,
   "metadata": {
    "id": "idPvka1IS2it"
   },
   "outputs": [
    {
     "data": {
      "text/plain": [
       "array([[61.94, 77.57, 92.74, 60.18],\n",
       "       [82.32, 71.14, 82.32, 97.64]])"
      ]
     },
     "execution_count": 1050,
     "metadata": {},
     "output_type": "execute_result"
    }
   ],
   "source": [
    "np_arr.max(axis = 2)"
   ]
  },
  {
   "cell_type": "code",
   "execution_count": 1051,
   "metadata": {
    "id": "d2cfrJZaS2it"
   },
   "outputs": [
    {
     "data": {
      "text/plain": [
       "array([[1.435e+01, 2.339e+01, 5.327e+01],\n",
       "       [8.100e-01, 7.114e+01, 4.710e+00],\n",
       "       [2.050e+00, 5.795e+01, 8.232e+01],\n",
       "       [6.018e+01, 2.000e-02, 2.455e+01]])"
      ]
     },
     "execution_count": 1051,
     "metadata": {},
     "output_type": "execute_result"
    }
   ],
   "source": [
    "np_arr.min(axis = 0)"
   ]
  },
  {
   "cell_type": "code",
   "execution_count": 1052,
   "metadata": {
    "id": "Sffep1k0S2it"
   },
   "outputs": [
    {
     "data": {
      "text/plain": [
       "array([[2.050e+00, 2.000e-02, 4.710e+00],\n",
       "       [8.100e-01, 1.892e+01, 3.926e+01]])"
      ]
     },
     "execution_count": 1052,
     "metadata": {},
     "output_type": "execute_result"
    }
   ],
   "source": [
    "np_arr.min(axis = 1)"
   ]
  },
  {
   "cell_type": "code",
   "execution_count": 1053,
   "metadata": {
    "id": "B7JGdeRIS2iu"
   },
   "outputs": [
    {
     "data": {
      "text/plain": [
       "array([[3.273e+01, 4.710e+00, 2.050e+00, 2.000e-02],\n",
       "       [1.435e+01, 8.100e-01, 3.380e+01, 1.892e+01]])"
      ]
     },
     "execution_count": 1053,
     "metadata": {},
     "output_type": "execute_result"
    }
   ],
   "source": [
    "np_arr.min(axis = 2)"
   ]
  },
  {
   "cell_type": "code",
   "execution_count": 1054,
   "metadata": {
    "id": "bwsDydwXS2iu"
   },
   "outputs": [
    {
     "data": {
      "text/plain": [
       "array([[[3.273e+01, 6.194e+01, 5.327e+01],\n",
       "        [1.409e+01, 7.757e+01, 4.710e+00],\n",
       "        [2.050e+00, 6.483e+01, 9.274e+01],\n",
       "        [6.018e+01, 2.000e-02, 2.455e+01]],\n",
       "\n",
       "       [[1.435e+01, 2.339e+01, 8.232e+01],\n",
       "        [8.100e-01, 7.114e+01, 5.009e+01],\n",
       "        [3.380e+01, 5.795e+01, 8.232e+01],\n",
       "        [9.764e+01, 1.892e+01, 3.926e+01]]])"
      ]
     },
     "execution_count": 1054,
     "metadata": {},
     "output_type": "execute_result"
    }
   ],
   "source": [
    "np_arr"
   ]
  },
  {
   "cell_type": "code",
   "execution_count": 1055,
   "metadata": {
    "id": "qc3hVJwDS2iy"
   },
   "outputs": [
    {
     "data": {
      "text/plain": [
       "np.float64(97.64)"
      ]
     },
     "execution_count": 1055,
     "metadata": {},
     "output_type": "execute_result"
    }
   ],
   "source": [
    "np_arr.max()"
   ]
  },
  {
   "cell_type": "markdown",
   "metadata": {
    "id": "HjMwXS3BS2iy"
   },
   "source": [
    "### Example 17\n",
    "Concatenating and splitting arrays"
   ]
  },
  {
   "cell_type": "code",
   "execution_count": 1056,
   "metadata": {
    "id": "0-OMDZwYS2iz"
   },
   "outputs": [
    {
     "data": {
      "text/plain": [
       "array([[ 1,  2],\n",
       "       [-4,  3],\n",
       "       [ 2, -5]])"
      ]
     },
     "execution_count": 1056,
     "metadata": {},
     "output_type": "execute_result"
    }
   ],
   "source": [
    "arr_1 = np.array([[1, 2], [-4, 3], [2, -5]])\n",
    "arr_1"
   ]
  },
  {
   "cell_type": "code",
   "execution_count": 1057,
   "metadata": {
    "id": "B3hVmjFuS2iz"
   },
   "outputs": [
    {
     "data": {
      "text/plain": [
       "array([[ 1,  2],\n",
       "       [-4,  3],\n",
       "       [ 2, -5]])"
      ]
     },
     "execution_count": 1057,
     "metadata": {},
     "output_type": "execute_result"
    }
   ],
   "source": [
    "arr_2 = np.array([[1, 2], [-4, 3], [2, -5]])\n",
    "arr_2"
   ]
  },
  {
   "cell_type": "code",
   "execution_count": 1058,
   "metadata": {
    "id": "3b_JrKSrS2iz"
   },
   "outputs": [
    {
     "data": {
      "text/plain": [
       "array([[ 1,  2],\n",
       "       [-4,  3],\n",
       "       [ 2, -5],\n",
       "       [ 1,  2],\n",
       "       [-4,  3],\n",
       "       [ 2, -5]])"
      ]
     },
     "execution_count": 1058,
     "metadata": {},
     "output_type": "execute_result"
    }
   ],
   "source": [
    "np.concatenate((arr_1, arr_2), axis = 0)"
   ]
  },
  {
   "cell_type": "code",
   "execution_count": 1059,
   "metadata": {
    "id": "to1-aPy1S2iz"
   },
   "outputs": [
    {
     "data": {
      "text/plain": [
       "array([[ 1,  2,  1,  2],\n",
       "       [-4,  3, -4,  3],\n",
       "       [ 2, -5,  2, -5]])"
      ]
     },
     "execution_count": 1059,
     "metadata": {},
     "output_type": "execute_result"
    }
   ],
   "source": [
    "np.concatenate((arr_1, arr_2), axis = 1)"
   ]
  },
  {
   "cell_type": "code",
   "execution_count": 1060,
   "metadata": {
    "id": "-rQOvt1nS2i0"
   },
   "outputs": [
    {
     "data": {
      "text/plain": [
       "array([[ 1,  2,  1,  2],\n",
       "       [-4,  3, -4,  3],\n",
       "       [ 2, -5,  2, -5]])"
      ]
     },
     "execution_count": 1060,
     "metadata": {},
     "output_type": "execute_result"
    }
   ],
   "source": [
    "np_arr = np.concatenate((arr_1, arr_2), axis = 1)\n",
    "np_arr"
   ]
  },
  {
   "cell_type": "code",
   "execution_count": 1061,
   "metadata": {
    "id": "JNyL5p28S2i0"
   },
   "outputs": [
    {
     "data": {
      "text/plain": [
       "[array([[1, 2, 1, 2]]),\n",
       " array([[-4,  3, -4,  3],\n",
       "        [ 2, -5,  2, -5]])]"
      ]
     },
     "execution_count": 1061,
     "metadata": {},
     "output_type": "execute_result"
    }
   ],
   "source": [
    "np.split(ary = np_arr, indices_or_sections = [1])"
   ]
  },
  {
   "cell_type": "markdown",
   "metadata": {
    "id": "W4-vWmtxS2i0"
   },
   "source": [
    "### Quiz 31\n",
    "Concatenate the following arrays in the same order to produce a new 1D array:\n",
    "```\n",
    "arr_1 = np.array([1, -2, 3, 4])\n",
    "arr_2 = np.array([-4, 2, -4])\n",
    "arr_3 = np.array([7, -2, -5, 6, 4])\n",
    "```"
   ]
  },
  {
   "cell_type": "code",
   "execution_count": 347,
   "metadata": {
    "id": "W6ySnHOSS2i0"
   },
   "outputs": [
    {
     "name": "stdout",
     "output_type": "stream",
     "text": [
      "[ 1 -2  3  4 -4  2 -4  7 -2 -5  6  4]\n"
     ]
    }
   ],
   "source": [
    "arr_1 = np.array([1, -2, 3, 4])\n",
    "arr_2 = np.array([-4, 2, -4])\n",
    "arr_3 = np.array([7, -2, -5, 6, 4])\n",
    "\n",
    "result = np.concatenate((arr_1, arr_2, arr_3))\n",
    "\n",
    "print(result)"
   ]
  },
  {
   "cell_type": "markdown",
   "metadata": {
    "id": "SeyXuUT_S2i1"
   },
   "source": [
    "### Example 18\n",
    "Mathematical constants"
   ]
  },
  {
   "cell_type": "code",
   "execution_count": 1063,
   "metadata": {
    "id": "HTu5VOuzS2i1"
   },
   "outputs": [
    {
     "data": {
      "text/plain": [
       "3.141592653589793"
      ]
     },
     "execution_count": 1063,
     "metadata": {},
     "output_type": "execute_result"
    }
   ],
   "source": [
    "np.pi"
   ]
  },
  {
   "cell_type": "code",
   "execution_count": 1064,
   "metadata": {
    "id": "HzQPKLDYS2i1"
   },
   "outputs": [
    {
     "data": {
      "text/plain": [
       "2.718281828459045"
      ]
     },
     "execution_count": 1064,
     "metadata": {},
     "output_type": "execute_result"
    }
   ],
   "source": [
    "np.e"
   ]
  },
  {
   "cell_type": "code",
   "execution_count": 1065,
   "metadata": {
    "id": "KtQ9P5ItS2i2"
   },
   "outputs": [
    {
     "data": {
      "text/plain": [
       "nan"
      ]
     },
     "execution_count": 1065,
     "metadata": {},
     "output_type": "execute_result"
    }
   ],
   "source": [
    "np.nan"
   ]
  },
  {
   "cell_type": "markdown",
   "metadata": {
    "id": "uLSUmUx2S2i2"
   },
   "source": [
    "### Quiz 32 - HW\n",
    "Exponentiate the array `np.array([1, 2, 3, 4, 5])` using the base as $e$ and the powers as the numbers from the array. Try using the `exp` method from NumPy. Take help from a language AI model if required."
   ]
  },
  {
   "cell_type": "code",
   "execution_count": 348,
   "metadata": {
    "id": "6bu_m1uKS2i2"
   },
   "outputs": [
    {
     "data": {
      "text/plain": [
       "array([  2.71828183,   7.3890561 ,  20.08553692,  54.59815003,\n",
       "       148.4131591 ])"
      ]
     },
     "execution_count": 348,
     "metadata": {},
     "output_type": "execute_result"
    }
   ],
   "source": [
    "arr = np.array([1, 2, 3, 4, 5])\n",
    "np.exp(arr)"
   ]
  },
  {
   "cell_type": "markdown",
   "metadata": {
    "id": "azFZlld7S2i3"
   },
   "source": [
    "In this section, we looked at some basic and important operations involving NumPy arrays, such as vector arithmetic and reshaping of arrays. Another thing to note is that NumPy does offer a `numpy.matrix` class, but `numpy.array` does everything that `numpy.matrix` does and more, so it is the more popular choice."
   ]
  },
  {
   "cell_type": "markdown",
   "metadata": {
    "id": "TTiK1zj0S2i3"
   },
   "source": [
    "# Summary\n",
    "NumPy is a library that has various sub-packages within it and fitting all of this in a single session or even in a single course is near impossible. In this session, we covered some very important basics, but you will be using familiar and unfamiliar NumPy packages and methods throughout your journey in data science. It is important to understand that programming languages and tools are learned over multiple iterations. In case you are stuck somewhere, try out some good language AI models to help you out."
   ]
  },
  {
   "cell_type": "code",
   "execution_count": null,
   "metadata": {
    "id": "ehOgdd4oS2i3"
   },
   "outputs": [],
   "source": []
  }
 ],
 "metadata": {
  "colab": {
   "provenance": []
  },
  "kernelspec": {
   "display_name": "numpyEnv",
   "language": "python",
   "name": "python3"
  },
  "language_info": {
   "codemirror_mode": {
    "name": "ipython",
    "version": 3
   },
   "file_extension": ".py",
   "mimetype": "text/x-python",
   "name": "python",
   "nbconvert_exporter": "python",
   "pygments_lexer": "ipython3",
   "version": "3.13.1"
  }
 },
 "nbformat": 4,
 "nbformat_minor": 0
}
